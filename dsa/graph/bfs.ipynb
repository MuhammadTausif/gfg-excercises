{
 "cells": [
  {
   "cell_type": "markdown",
   "metadata": {},
   "source": [
    "# BFS\n",
    "\n",
    "Code in Python"
   ]
  },
  {
   "cell_type": "code",
   "execution_count": 1,
   "metadata": {},
   "outputs": [
    {
     "name": "stdout",
     "output_type": "stream",
     "text": [
      "Breadth First Traversal starting from vertex 0: 0 1 2 3 4 "
     ]
    }
   ],
   "source": [
    "from collections import deque\n",
    "\n",
    "# Function to perform Breadth First Search on a graph\n",
    "# represented using adjacency list\n",
    "def bfs(adjList, startNode, visited):\n",
    "    # Create a queue for BFS\n",
    "    q = deque()\n",
    "\n",
    "    # Mark the current node as visited and enqueue it\n",
    "    visited[startNode] = True\n",
    "    q.append(startNode)\n",
    "\n",
    "    # Iterate over the queue\n",
    "    while q:\n",
    "        # Dequeue a vertex from queue and print it\n",
    "        currentNode = q.popleft()\n",
    "        print(currentNode, end=\" \")\n",
    "\n",
    "        # Get all adjacent vertices of the dequeued vertex\n",
    "        # If an adjacent has not been visited, then mark it visited and enqueue it\n",
    "        for neighbor in adjList[currentNode]:\n",
    "            if not visited[neighbor]:\n",
    "                visited[neighbor] = True\n",
    "                q.append(neighbor)\n",
    "\n",
    "# Function to add an edge to the graph\n",
    "def addEdge(adjList, u, v):\n",
    "    adjList[u].append(v)\n",
    "\n",
    "def main():\n",
    "    # Number of vertices in the graph\n",
    "    vertices = 5\n",
    "\n",
    "    # Adjacency list representation of the graph\n",
    "    adjList = [[] for _ in range(vertices)]\n",
    "\n",
    "    # Add edges to the graph\n",
    "    addEdge(adjList, 0, 1)\n",
    "    addEdge(adjList, 0, 2)\n",
    "    addEdge(adjList, 1, 3)\n",
    "    addEdge(adjList, 1, 4)\n",
    "    addEdge(adjList, 2, 4)\n",
    "\n",
    "    # Mark all the vertices as not visited\n",
    "    visited = [False] * vertices\n",
    "\n",
    "    # Perform BFS traversal starting from vertex 0\n",
    "    print(\"Breadth First Traversal starting from vertex 0:\", end=\" \")\n",
    "    bfs(adjList, 0, visited)\n",
    "\n",
    "if __name__ == \"__main__\":\n",
    "    main()\n"
   ]
  },
  {
   "cell_type": "code",
   "execution_count": null,
   "metadata": {},
   "outputs": [],
   "source": []
  }
 ],
 "metadata": {
  "kernelspec": {
   "display_name": "Python 3",
   "language": "python",
   "name": "python3"
  },
  "language_info": {
   "codemirror_mode": {
    "name": "ipython",
    "version": 3
   },
   "file_extension": ".py",
   "mimetype": "text/x-python",
   "name": "python",
   "nbconvert_exporter": "python",
   "pygments_lexer": "ipython3",
   "version": "3.11.5"
  }
 },
 "nbformat": 4,
 "nbformat_minor": 2
}
