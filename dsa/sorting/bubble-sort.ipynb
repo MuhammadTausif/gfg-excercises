{
 "cells": [
  {
   "cell_type": "markdown",
   "metadata": {},
   "source": [
    "# Bubble Sort"
   ]
  },
  {
   "cell_type": "markdown",
   "metadata": {},
   "source": [
    "https://www.geeksforgeeks.org/bubble-sort/"
   ]
  },
  {
   "cell_type": "code",
   "execution_count": 1,
   "metadata": {},
   "outputs": [
    {
     "name": "stdout",
     "output_type": "stream",
     "text": [
      "Sorted array:\n",
      "11 12 22 25 34 64 90 "
     ]
    }
   ],
   "source": [
    "# Optimized Python program for implementation of Bubble Sort\n",
    "\n",
    "\n",
    "def bubbleSort(arr):\n",
    "    n = len(arr)\n",
    "    \n",
    "    # Traverse through all array elements\n",
    "    for i in range(n):\n",
    "        swapped = False\n",
    "\n",
    "        # Last i elements are already in place\n",
    "        for j in range(0, n-i-1):\n",
    "\n",
    "            # Traverse the array from 0 to n-i-1\n",
    "            # Swap if the element found is greater\n",
    "            # than the next element\n",
    "            if arr[j] > arr[j+1]:\n",
    "                arr[j], arr[j+1] = arr[j+1], arr[j]\n",
    "                swapped = True\n",
    "        if (swapped == False):\n",
    "            break\n",
    "\n",
    "\n",
    "# Driver code to test above\n",
    "if __name__ == \"__main__\":\n",
    "    arr = [64, 34, 25, 12, 22, 11, 90]\n",
    "\n",
    "    bubbleSort(arr)\n",
    "\n",
    "    print(\"Sorted array:\")\n",
    "    for i in range(len(arr)):\n",
    "        print(\"%d\" % arr[i], end=\" \")\n",
    "\n",
    "# This code is modified by Suraj krushna Yadav\n"
   ]
  },
  {
   "cell_type": "code",
   "execution_count": null,
   "metadata": {},
   "outputs": [],
   "source": []
  }
 ],
 "metadata": {
  "kernelspec": {
   "display_name": "Python 3",
   "language": "python",
   "name": "python3"
  },
  "language_info": {
   "codemirror_mode": {
    "name": "ipython",
    "version": 3
   },
   "file_extension": ".py",
   "mimetype": "text/x-python",
   "name": "python",
   "nbconvert_exporter": "python",
   "pygments_lexer": "ipython3",
   "version": "3.11.5"
  }
 },
 "nbformat": 4,
 "nbformat_minor": 2
}
