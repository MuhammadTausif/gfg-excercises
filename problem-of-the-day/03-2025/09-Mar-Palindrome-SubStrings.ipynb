{
 "cells": [
  {
   "cell_type": "code",
   "execution_count": 1,
   "metadata": {},
   "outputs": [],
   "source": [
    "class Solution:\n",
    "    \n",
    "    def countPS(self, s):\n",
    "        # code here\n",
    "        \n",
    "        cnt = 0\n",
    "        n = len(s)\n",
    "        \n",
    "        for i in range(n):\n",
    "            \n",
    "            l,r=i,i\n",
    "            while l>=0 and r<n and s[l]==s[r]:\n",
    "                if r-l+1>=2:\n",
    "                    cnt+=1\n",
    "                l-=1\n",
    "                r+=1\n",
    "            \n",
    "            l,r=i,i+1\n",
    "            while l>=0 and r<n and s[l]==s[r]:\n",
    "                if r-l+1>=2:\n",
    "                    cnt+=1\n",
    "                l-=1\n",
    "                r+=1\n",
    "        return cnt\n"
   ]
  },
  {
   "cell_type": "code",
   "execution_count": 2,
   "metadata": {},
   "outputs": [
    {
     "data": {
      "text/plain": [
       "3"
      ]
     },
     "execution_count": 2,
     "metadata": {},
     "output_type": "execute_result"
    }
   ],
   "source": [
    "s = \"abaab\"\n",
    "sol = Solution()\n",
    "sol.countPS(s)"
   ]
  }
 ],
 "metadata": {
  "kernelspec": {
   "display_name": "Python 3",
   "language": "python",
   "name": "python3"
  },
  "language_info": {
   "codemirror_mode": {
    "name": "ipython",
    "version": 3
   },
   "file_extension": ".py",
   "mimetype": "text/x-python",
   "name": "python",
   "nbconvert_exporter": "python",
   "pygments_lexer": "ipython3",
   "version": "3.11.5"
  }
 },
 "nbformat": 4,
 "nbformat_minor": 2
}
