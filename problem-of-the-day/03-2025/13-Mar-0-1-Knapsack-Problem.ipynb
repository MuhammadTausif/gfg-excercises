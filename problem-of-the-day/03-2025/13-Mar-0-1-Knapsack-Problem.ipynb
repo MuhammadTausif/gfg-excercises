{
 "cells": [
  {
   "cell_type": "code",
   "execution_count": 1,
   "metadata": {},
   "outputs": [],
   "source": [
    "class Solution:\n",
    "    # Function to return max value that can be put in knapsack of capacity.\n",
    "    def knapsack(self, W, val, wt):\n",
    "        # code here\n",
    "        n = len(wt)\n",
    "        dp = [[0]*(n+1) for _ in range(W+1)]\n",
    "        # dp[i][j] = max(dp[i][j], dp[i-wt[j]][j-1]+)\n",
    "        for w in range(1, W+1):\n",
    "            for i in range(n):\n",
    "                dp[w][i+1] = dp[w][i]\n",
    "                if wt[i] <= w:\n",
    "                    dp[w][i+1] = max(dp[w][i+1], dp[w-wt[i]][i]+val[i])\n",
    "        return dp[-1][-1]\n"
   ]
  },
  {
   "cell_type": "code",
   "execution_count": 2,
   "metadata": {},
   "outputs": [
    {
     "data": {
      "text/plain": [
       "3"
      ]
     },
     "execution_count": 2,
     "metadata": {},
     "output_type": "execute_result"
    }
   ],
   "source": [
    "W = 4\n",
    "val= [1, 2, 3]\n",
    "wt = [4, 5, 1] \n",
    "\n",
    "s= Solution()\n",
    "s.knapsack(W,val,wt)"
   ]
  }
 ],
 "metadata": {
  "kernelspec": {
   "display_name": "Python 3",
   "language": "python",
   "name": "python3"
  },
  "language_info": {
   "codemirror_mode": {
    "name": "ipython",
    "version": 3
   },
   "file_extension": ".py",
   "mimetype": "text/x-python",
   "name": "python",
   "nbconvert_exporter": "python",
   "pygments_lexer": "ipython3",
   "version": "3.11.5"
  }
 },
 "nbformat": 4,
 "nbformat_minor": 2
}
