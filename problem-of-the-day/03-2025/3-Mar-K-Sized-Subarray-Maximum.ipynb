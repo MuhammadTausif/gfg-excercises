{
 "cells": [
  {
   "cell_type": "code",
   "execution_count": 3,
   "metadata": {},
   "outputs": [],
   "source": [
    "class Solution:\n",
    "    def maxOfSubarrays(self, arr, k):\n",
    "        import heapq\n",
    "        ret=[]\n",
    "        hp=[]\n",
    "        for ix,ve in enumerate(arr):\n",
    "            heapq.heappush(hp,(-ve,ix))\n",
    "            if len(hp)>=k:\n",
    "                while hp[0][1]<=ix-k:\n",
    "                    heapq.heappop(hp)\n",
    "                ret.append(-hp[0][0])\n",
    "        return ret\n"
   ]
  },
  {
   "cell_type": "code",
   "execution_count": null,
   "metadata": {},
   "outputs": [
    {
     "data": {
      "text/plain": [
       "[3, 3, 4, 5, 5, 5, 6]"
      ]
     },
     "execution_count": 6,
     "metadata": {},
     "output_type": "execute_result"
    }
   ],
   "source": [
    "arr = [1, 2, 3, 1, 4, 5, 2, 3, 6]\n",
    "k = 3\n",
    "s = Solution()\n",
    "print(s.maxOfSubarrays(arr,k))\n"
   ]
  },
  {
   "cell_type": "code",
   "execution_count": 7,
   "metadata": {},
   "outputs": [
    {
     "name": "stdout",
     "output_type": "stream",
     "text": [
      "[10, 10, 10, 15, 15, 90, 90]\n"
     ]
    }
   ],
   "source": [
    "arr = [8, 5, 10, 7, 9, 4, 15, 12, 90, 13]\n",
    "k = 4\n",
    "s = Solution()\n",
    "print(s.maxOfSubarrays(arr,k))"
   ]
  }
 ],
 "metadata": {
  "kernelspec": {
   "display_name": "Python 3",
   "language": "python",
   "name": "python3"
  },
  "language_info": {
   "codemirror_mode": {
    "name": "ipython",
    "version": 3
   },
   "file_extension": ".py",
   "mimetype": "text/x-python",
   "name": "python",
   "nbconvert_exporter": "python",
   "pygments_lexer": "ipython3",
   "version": "3.11.5"
  }
 },
 "nbformat": 4,
 "nbformat_minor": 2
}
