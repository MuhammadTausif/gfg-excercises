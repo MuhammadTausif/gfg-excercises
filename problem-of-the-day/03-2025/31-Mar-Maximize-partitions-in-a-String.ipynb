{
 "cells": [
  {
   "cell_type": "markdown",
   "metadata": {},
   "source": [
    "### Maximize partitions in a String"
   ]
  },
  {
   "cell_type": "code",
   "execution_count": 1,
   "metadata": {},
   "outputs": [],
   "source": [
    "class Solution:\n",
    "    def maxPartitions(self , s):\n",
    "            # code here\n",
    "            \n",
    "            intervals = {c:i for i,c in enumerate(s)}\n",
    "            # print(intervals)\n",
    "            \n",
    "            f_max=-1\n",
    "            cnt=0\n",
    "            \n",
    "            for i,c in enumerate(s):\n",
    "                \n",
    "                f_max=max(f_max,intervals[c])\n",
    "                \n",
    "                if f_max==i:\n",
    "                    cnt+=1\n",
    "                    \n",
    "            return cnt"
   ]
  },
  {
   "cell_type": "code",
   "execution_count": 3,
   "metadata": {},
   "outputs": [
    {
     "name": "stdout",
     "output_type": "stream",
     "text": [
      "3\n",
      "2\n"
     ]
    }
   ],
   "source": [
    "s = \"ababcbacadefegdehijhklij\"\n",
    "solution = Solution()\n",
    "result = solution.maxPartitions(s)\n",
    "print(result)  # Output: 3\n",
    "s = \"acbbcc\"\n",
    "solution = Solution()\n",
    "result = solution.maxPartitions(s)\n",
    "print(result)  # Output: 3"
   ]
  }
 ],
 "metadata": {
  "kernelspec": {
   "display_name": "Python 3",
   "language": "python",
   "name": "python3"
  },
  "language_info": {
   "codemirror_mode": {
    "name": "ipython",
    "version": 3
   },
   "file_extension": ".py",
   "mimetype": "text/x-python",
   "name": "python",
   "nbconvert_exporter": "python",
   "pygments_lexer": "ipython3",
   "version": "3.11.5"
  }
 },
 "nbformat": 4,
 "nbformat_minor": 2
}
