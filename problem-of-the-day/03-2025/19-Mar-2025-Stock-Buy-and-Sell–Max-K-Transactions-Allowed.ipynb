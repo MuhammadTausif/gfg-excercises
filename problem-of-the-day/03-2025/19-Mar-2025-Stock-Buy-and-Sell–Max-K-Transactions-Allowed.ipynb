{
 "cells": [
  {
   "cell_type": "markdown",
   "metadata": {},
   "source": [
    "### Stock Buy and Sell – Max K Transactions Allowed"
   ]
  },
  {
   "cell_type": "code",
   "execution_count": 1,
   "metadata": {},
   "outputs": [],
   "source": [
    "class Solution:\n",
    "        # code here\n",
    "\n",
    "    def maxProfit(self, prices, k):\n",
    "        # code here\n",
    "        n=len(prices)\n",
    "        dp=[[0] * n for _ in range(k+1)]\n",
    "        if n<=1 or k ==0:\n",
    "            return 0\n",
    "        for i in range(1,k+1):\n",
    "            dif=-prices[0]\n",
    "            for j in range(1,n):\n",
    "                dp[i][j]=max(dp[i][j-1],prices[j]+dif)\n",
    "                dif=max(dif,dp[i-1][j]-prices[j])\n",
    "        return dp[k][n-1]"
   ]
  },
  {
   "cell_type": "code",
   "execution_count": 2,
   "metadata": {},
   "outputs": [
    {
     "data": {
      "text/plain": [
       "87"
      ]
     },
     "execution_count": 2,
     "metadata": {},
     "output_type": "execute_result"
    }
   ],
   "source": [
    "prices = [10, 22, 5, 80]\n",
    "k = 2\n",
    "\n",
    "s= Solution()\n",
    "s.maxProfit(prices, k)"
   ]
  },
  {
   "cell_type": "code",
   "execution_count": 3,
   "metadata": {},
   "outputs": [
    {
     "data": {
      "text/plain": [
       "1040"
      ]
     },
     "execution_count": 3,
     "metadata": {},
     "output_type": "execute_result"
    }
   ],
   "source": [
    "prices = [20, 580, 420, 900]\n",
    "k = 3\n",
    "\n",
    "s= Solution()\n",
    "s.maxProfit(prices, k)"
   ]
  },
  {
   "cell_type": "code",
   "execution_count": 4,
   "metadata": {},
   "outputs": [
    {
     "data": {
      "text/plain": [
       "0"
      ]
     },
     "execution_count": 4,
     "metadata": {},
     "output_type": "execute_result"
    }
   ],
   "source": [
    "prices = [100, 90, 80, 50, 25]\n",
    "k = 1\n",
    "\n",
    "s= Solution()\n",
    "s.maxProfit(prices, k)"
   ]
  }
 ],
 "metadata": {
  "kernelspec": {
   "display_name": "Python 3",
   "language": "python",
   "name": "python3"
  },
  "language_info": {
   "codemirror_mode": {
    "name": "ipython",
    "version": 3
   },
   "file_extension": ".py",
   "mimetype": "text/x-python",
   "name": "python",
   "nbconvert_exporter": "python",
   "pygments_lexer": "ipython3",
   "version": "3.11.5"
  }
 },
 "nbformat": 4,
 "nbformat_minor": 2
}
