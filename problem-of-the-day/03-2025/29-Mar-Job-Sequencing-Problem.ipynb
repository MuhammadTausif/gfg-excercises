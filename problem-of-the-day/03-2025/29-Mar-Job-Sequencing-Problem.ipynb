{
 "cells": [
  {
   "cell_type": "markdown",
   "metadata": {},
   "source": [
    "### Job Sequencing Problem"
   ]
  },
  {
   "cell_type": "code",
   "execution_count": 1,
   "metadata": {},
   "outputs": [],
   "source": [
    "class Solution:\n",
    "    def jobSequencing(self, deadline, profit):\n",
    "        # code here\n",
    "        from heapq import heappush, heappop\n",
    "        jobs = list(zip(deadline, profit))\n",
    "        jobs.sort()\n",
    "        max_profit = 0\n",
    "        job_count = 0\n",
    "        max_heap = []\n",
    "        index = len(jobs) - 1\n",
    "        \n",
    "        for i in range(jobs[-1][0], 0, -1):\n",
    "            while index >= 0 and jobs[index][0] == i:\n",
    "                heappush(max_heap, -jobs[index][1]) \n",
    "                index -= 1\n",
    "            \n",
    "            if max_heap:\n",
    "                job_count += 1\n",
    "                max_profit += -heappop(max_heap)\n",
    "        \n",
    "        return [job_count, max_profit]"
   ]
  },
  {
   "cell_type": "code",
   "execution_count": 2,
   "metadata": {},
   "outputs": [
    {
     "name": "stdout",
     "output_type": "stream",
     "text": [
      "[2, 60]\n"
     ]
    }
   ],
   "source": [
    "deadline = [4, 1, 1, 1]\n",
    "profit = [20, 10, 40, 30]\n",
    "\n",
    "sol = Solution()\n",
    "result = sol.jobSequencing(deadline, profit)\n",
    "print(result)  # Output: [2, 60]\n"
   ]
  }
 ],
 "metadata": {
  "kernelspec": {
   "display_name": "Python 3",
   "language": "python",
   "name": "python3"
  },
  "language_info": {
   "codemirror_mode": {
    "name": "ipython",
    "version": 3
   },
   "file_extension": ".py",
   "mimetype": "text/x-python",
   "name": "python",
   "nbconvert_exporter": "python",
   "pygments_lexer": "ipython3",
   "version": "3.11.5"
  }
 },
 "nbformat": 4,
 "nbformat_minor": 2
}
