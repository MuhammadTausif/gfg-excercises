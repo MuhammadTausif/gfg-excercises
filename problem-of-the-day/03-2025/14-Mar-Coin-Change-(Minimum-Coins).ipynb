{
 "cells": [
  {
   "cell_type": "code",
   "execution_count": 3,
   "metadata": {},
   "outputs": [],
   "source": [
    "class Solution:\n",
    "    def minCoins(self, coins, sum):\n",
    "        dp = [float('inf')]*(sum+1)\n",
    "        dp[0] = 0\n",
    "        \n",
    "        for s in range(1, sum+1):\n",
    "            for c in coins:\n",
    "                if s >= c:\n",
    "                    dp[s] = min(dp[s], dp[s-c]+1)\n",
    "        return dp[-1] if dp[-1] != float('inf') else -1\n"
   ]
  },
  {
   "cell_type": "code",
   "execution_count": 4,
   "metadata": {},
   "outputs": [
    {
     "data": {
      "text/plain": [
       "2"
      ]
     },
     "execution_count": 4,
     "metadata": {},
     "output_type": "execute_result"
    }
   ],
   "source": [
    "coins = [25, 10, 5]\n",
    "sum = 30\n",
    "\n",
    "s = Solution()\n",
    "s.minCoins(coins,sum)"
   ]
  }
 ],
 "metadata": {
  "kernelspec": {
   "display_name": "Python 3",
   "language": "python",
   "name": "python3"
  },
  "language_info": {
   "codemirror_mode": {
    "name": "ipython",
    "version": 3
   },
   "file_extension": ".py",
   "mimetype": "text/x-python",
   "name": "python",
   "nbconvert_exporter": "python",
   "pygments_lexer": "ipython3",
   "version": "3.11.5"
  }
 },
 "nbformat": 4,
 "nbformat_minor": 2
}
