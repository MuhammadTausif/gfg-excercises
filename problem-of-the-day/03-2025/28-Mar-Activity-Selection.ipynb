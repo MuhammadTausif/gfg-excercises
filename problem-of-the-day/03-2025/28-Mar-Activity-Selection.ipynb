{
 "cells": [
  {
   "cell_type": "markdown",
   "metadata": {},
   "source": [
    "### Activity Selection"
   ]
  },
  {
   "cell_type": "code",
   "execution_count": 1,
   "metadata": {},
   "outputs": [],
   "source": [
    "class Solution:\n",
    "    def activitySelection(self, start, finish):\n",
    "        n=len(start)\n",
    "        activities=sorted(zip(start,finish), key=lambda x:x[1])\n",
    "        activity_count=1\n",
    "        last_finish_time=activities[0][1]\n",
    "        for i in range(1,n):\n",
    "            if activities[i][0]>last_finish_time:\n",
    "                activity_count+=1\n",
    "                last_finish_time=activities[i][1]\n",
    "        return activity_count"
   ]
  },
  {
   "cell_type": "code",
   "execution_count": 2,
   "metadata": {},
   "outputs": [
    {
     "name": "stdout",
     "output_type": "stream",
     "text": [
      "4\n"
     ]
    }
   ],
   "source": [
    "start = [1, 3, 0, 5, 8, 5]\n",
    "finish = [2, 4, 6, 7, 9, 9]\n",
    "\n",
    "sol=Solution()\n",
    "print(sol.activitySelection(start,finish)) #4"
   ]
  }
 ],
 "metadata": {
  "kernelspec": {
   "display_name": "Python 3",
   "language": "python",
   "name": "python3"
  },
  "language_info": {
   "codemirror_mode": {
    "name": "ipython",
    "version": 3
   },
   "file_extension": ".py",
   "mimetype": "text/x-python",
   "name": "python",
   "nbconvert_exporter": "python",
   "pygments_lexer": "ipython3",
   "version": "3.11.5"
  }
 },
 "nbformat": 4,
 "nbformat_minor": 2
}
