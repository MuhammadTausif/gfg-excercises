{
 "cells": [
  {
   "cell_type": "markdown",
   "metadata": {},
   "source": [
    "### Gas Station"
   ]
  },
  {
   "cell_type": "code",
   "execution_count": 1,
   "metadata": {},
   "outputs": [],
   "source": [
    "class Solution:\n",
    "    def startStation(self, gas, cost):\n",
    "        if sum(gas) < sum(cost):\n",
    "            return -1\n",
    "        start_index = 0\n",
    "        current_gas = 0\n",
    "        \n",
    "        for i in range(len(gas)):\n",
    "            current_gas += gas[i] - cost[i]\n",
    "            if current_gas < 0:\n",
    "                start_index = i + 1\n",
    "                current_gas = 0\n",
    "        return start_index"
   ]
  },
  {
   "cell_type": "code",
   "execution_count": 2,
   "metadata": {},
   "outputs": [
    {
     "data": {
      "text/plain": [
       "-1"
      ]
     },
     "execution_count": 2,
     "metadata": {},
     "output_type": "execute_result"
    }
   ],
   "source": [
    "gas = [3, 9]\n",
    "cost = [7, 6]\n",
    "\n",
    "solution = Solution()\n",
    "result = solution.startStation(gas, cost)\n",
    "result"
   ]
  }
 ],
 "metadata": {
  "kernelspec": {
   "display_name": "Python 3",
   "language": "python",
   "name": "python3"
  },
  "language_info": {
   "codemirror_mode": {
    "name": "ipython",
    "version": 3
   },
   "file_extension": ".py",
   "mimetype": "text/x-python",
   "name": "python",
   "nbconvert_exporter": "python",
   "pygments_lexer": "ipython3",
   "version": "3.11.5"
  }
 },
 "nbformat": 4,
 "nbformat_minor": 2
}
