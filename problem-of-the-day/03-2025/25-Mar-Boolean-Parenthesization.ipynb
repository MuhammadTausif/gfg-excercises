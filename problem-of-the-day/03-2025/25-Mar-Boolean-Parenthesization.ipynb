{
 "cells": [
  {
   "cell_type": "markdown",
   "metadata": {},
   "source": [
    "### Boolean Parenthesization"
   ]
  },
  {
   "cell_type": "code",
   "execution_count": 2,
   "metadata": {},
   "outputs": [],
   "source": [
    "#User function Template for python3\n",
    "class Solution:\n",
    "    def countWays(self, expr):\n",
    "        # code here\n",
    "        n = len(expr)\n",
    "        dp = [[[0]*2 for _ in range(n)] for _ in range(n)]\n",
    "        \n",
    "        for i in range(n-1, -1, -2):\n",
    "            for j in range(i, n, 2):\n",
    "                if i == j:\n",
    "                    dp[i][j][0] = int(expr[i] == 'F')\n",
    "                    dp[i][j][1] = int(expr[i] == 'T')\n",
    "                else:\n",
    "                    for k in range(i+1, j, 2):\n",
    "                        match expr[k]:\n",
    "                            case '&':\n",
    "                                dp[i][j][1] += dp[i][k-1][1]*dp[k+1][j][1]\n",
    "                                dp[i][j][0] += dp[i][k-1][0]*dp[k+1][j][0]\n",
    "                                dp[i][j][0] += dp[i][k-1][1]*dp[k+1][j][0]\n",
    "                                dp[i][j][0] += dp[i][k-1][0]*dp[k+1][j][1]\n",
    "                            case '|':\n",
    "                                dp[i][j][1] += dp[i][k-1][1] * dp[k+1][j][1]    \n",
    "                                dp[i][j][1] += dp[i][k-1][0] * dp[k+1][j][1]\n",
    "                                dp[i][j][1] += dp[i][k-1][1] * dp[k+1][j][0]\n",
    "                                dp[i][j][0] += dp[i][k-1][0] * dp[k+1][j][0]\n",
    "                            case '^':\n",
    "                                dp[i][j][1] += dp[i][k-1][0] * dp[k+1][j][1] + dp[i][k-1][1] * dp[k+1][j][0]\n",
    "                                dp[i][j][0] += dp[i][k-1][0] * dp[k+1][j][0] + dp[i][k-1][1] * dp[k+1][j][1]\n",
    "        #print(dp)\n",
    "        return dp[0][-1][1]\n",
    "\n",
    "# #{ \n",
    "#  # Driver Code Starts\n",
    "# #Initial Template for Python 3\n",
    "\n",
    "# if __name__ == '__main__':\n",
    "#     t = int(input())\n",
    "#     for i in range(t):\n",
    "#         s = input().strip()\n",
    "#         print(Solution().countWays(s))\n",
    "#         print(\"~\")\n",
    "\n",
    "# # } Driver Code Ends"
   ]
  },
  {
   "cell_type": "code",
   "execution_count": 3,
   "metadata": {},
   "outputs": [
    {
     "data": {
      "text/plain": [
       "4"
      ]
     },
     "execution_count": 3,
     "metadata": {},
     "output_type": "execute_result"
    }
   ],
   "source": [
    "s = \"T|T&F^T\"\n",
    "sol = Solution()\n",
    "\n",
    "sol.countWays(s)"
   ]
  }
 ],
 "metadata": {
  "kernelspec": {
   "display_name": "Python 3",
   "language": "python",
   "name": "python3"
  },
  "language_info": {
   "codemirror_mode": {
    "name": "ipython",
    "version": 3
   },
   "file_extension": ".py",
   "mimetype": "text/x-python",
   "name": "python",
   "nbconvert_exporter": "python",
   "pygments_lexer": "ipython3",
   "version": "3.11.5"
  }
 },
 "nbformat": 4,
 "nbformat_minor": 2
}
