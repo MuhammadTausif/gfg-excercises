{
 "cells": [
  {
   "cell_type": "markdown",
   "metadata": {},
   "source": [
    "### Stock Buy and Sell – Max 2 Transactions Allowed"
   ]
  },
  {
   "cell_type": "code",
   "execution_count": 1,
   "metadata": {},
   "outputs": [],
   "source": [
    "class Solution:\n",
    "    def maxProfit(self, prices):\n",
    "        # code here\n",
    "        n = len(prices)\n",
    "        minv = prices[0]\n",
    "        left = [0]*n\n",
    "        for i in range(1, n):\n",
    "            minv = min(minv, prices[i])\n",
    "            left[i] = max(left[i-1], prices[i] - minv)\n",
    "        \n",
    "        maxv = prices[-1]\n",
    "        right = [0]*n\n",
    "        \n",
    "        for i in range(n-2, -1, -1):\n",
    "            maxv = max(maxv, prices[i])\n",
    "            right[i] = max(right[i+1], maxv - prices[i])\n",
    "            \n",
    "        return max(l+r for l, r in zip(left, right))"
   ]
  },
  {
   "cell_type": "code",
   "execution_count": 2,
   "metadata": {},
   "outputs": [
    {
     "data": {
      "text/plain": [
       "87"
      ]
     },
     "execution_count": 2,
     "metadata": {},
     "output_type": "execute_result"
    }
   ],
   "source": [
    "prices = [10, 22, 5, 75, 65, 80]\n",
    "\n",
    "s=Solution()\n",
    "s.maxProfit(prices)"
   ]
  },
  {
   "cell_type": "code",
   "execution_count": 3,
   "metadata": {},
   "outputs": [
    {
     "data": {
      "text/plain": [
       "100"
      ]
     },
     "execution_count": 3,
     "metadata": {},
     "output_type": "execute_result"
    }
   ],
   "source": [
    "prices = [2, 30, 15, 10, 8, 25, 80]\n",
    "\n",
    "s=Solution()\n",
    "s.maxProfit(prices)"
   ]
  }
 ],
 "metadata": {
  "kernelspec": {
   "display_name": "Python 3",
   "language": "python",
   "name": "python3"
  },
  "language_info": {
   "codemirror_mode": {
    "name": "ipython",
    "version": 3
   },
   "file_extension": ".py",
   "mimetype": "text/x-python",
   "name": "python",
   "nbconvert_exporter": "python",
   "pygments_lexer": "ipython3",
   "version": "3.11.5"
  }
 },
 "nbformat": 4,
 "nbformat_minor": 2
}
