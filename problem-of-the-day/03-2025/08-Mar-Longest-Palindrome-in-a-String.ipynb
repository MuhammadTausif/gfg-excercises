{
 "cells": [
  {
   "cell_type": "code",
   "execution_count": 1,
   "metadata": {},
   "outputs": [],
   "source": [
    "class Solution:\n",
    "    def longestPalindrome(self, s):\n",
    "        # code here\n",
    "        n = len(s)\n",
    "        maxi, res = -1e9, \"\"\n",
    "        for i in range(n):\n",
    "            l, r = i, i\n",
    "            while(l >= 0 and r < n):\n",
    "                if s[l] == s[r]:\n",
    "                    if maxi < r - l + 1:\n",
    "                        maxi = r - l + 1\n",
    "                        res = s[l: r+1]\n",
    "                    l -= 1\n",
    "                    r += 1\n",
    "                else:\n",
    "                    break\n",
    "            l, r = i, i+1\n",
    "            while(l >= 0 and r < n):\n",
    "                if s[l] == s[r]:\n",
    "                    if maxi < r - l + 1:\n",
    "                        maxi = r - l + 1\n",
    "                        res = s[l: r+1]\n",
    "                    l -= 1\n",
    "                    r += 1\n",
    "                else:\n",
    "                    break\n",
    "        return res"
   ]
  },
  {
   "cell_type": "code",
   "execution_count": 2,
   "metadata": {},
   "outputs": [
    {
     "data": {
      "text/plain": [
       "'geeksskeeg'"
      ]
     },
     "execution_count": 2,
     "metadata": {},
     "output_type": "execute_result"
    }
   ],
   "source": [
    "s = 'forgeeksskeegfor'\n",
    "sol = Solution()\n",
    "sol.longestPalindrome(s)"
   ]
  }
 ],
 "metadata": {
  "kernelspec": {
   "display_name": "Python 3",
   "language": "python",
   "name": "python3"
  },
  "language_info": {
   "codemirror_mode": {
    "name": "ipython",
    "version": 3
   },
   "file_extension": ".py",
   "mimetype": "text/x-python",
   "name": "python",
   "nbconvert_exporter": "python",
   "pygments_lexer": "ipython3",
   "version": "3.11.5"
  }
 },
 "nbformat": 4,
 "nbformat_minor": 2
}
