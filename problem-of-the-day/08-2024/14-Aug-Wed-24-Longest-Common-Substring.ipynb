{
 "cells": [
  {
   "cell_type": "markdown",
   "metadata": {},
   "source": [
    "### Longest Common Substring\n",
    "\n",
    "[link](https://www.geeksforgeeks.org/problems/longest-common-substring1452/1)\n",
    "\n",
    "Difficulty: MediumAccuracy: 42.69%Submissions: 223K+Points: 4\n",
    "\n",
    "You are given two strings str1 and str2. Your task is to find the length of the longest common substring among the given strings.\n",
    "\n",
    "Examples:\n",
    "\n",
    "```\n",
    "Input: str1 = \"ABCDGH\", str2 = \"ACDGHR\"\n",
    "Output: 4\n",
    "Explanation: The longest common substring is \"CDGH\" which has length 4.\n",
    "Input: str1 = \"ABC\", str2 = \"ACB\"\n",
    "Output: 1\n",
    "Explanation: The longest common substrings are \"A\", \"B\", \"C\" all having length 1.\n",
    "```\n",
    "_Expected Time Complexity: O(n*m).\n",
    "Expected Auxiliary Space: O(n*m)._\n",
    "\n",
    "Constraints:\n",
    "\n",
    "- 1<= str1.size(), str2.size()<=1000\n",
    "- Both strings may contain upper and lower case alphabets."
   ]
  },
  {
   "cell_type": "code",
   "execution_count": null,
   "metadata": {},
   "outputs": [],
   "source": [
    "class Solution:\n",
    "\n",
    "    def longestCommonSubstr(self, str1, str2):\n",
    "        \n",
    "        n,m = len(str1),len(str2)\n",
    "        dp = [[0] * (m+1) for _ in range(n+1)]\n",
    "        res = 0\n",
    "        \n",
    "        for i in range(1,n+1):\n",
    "            for j in range(1,m+1):\n",
    "                if str1[i-1] == str2[j-1]:\n",
    "                    dp[i][j] = 1 + dp[i-1][j-1]\n",
    "                    res = max(res,dp[i][j])\n",
    "                    \n",
    "        return res"
   ]
  }
 ],
 "metadata": {
  "language_info": {
   "name": "python"
  }
 },
 "nbformat": 4,
 "nbformat_minor": 2
}
