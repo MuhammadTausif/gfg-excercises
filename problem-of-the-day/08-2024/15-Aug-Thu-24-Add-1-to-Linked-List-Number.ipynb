{
 "cells": [
  {
   "cell_type": "markdown",
   "metadata": {},
   "source": [
    "### Add 1 to a Linked List Number\n",
    "\n",
    "[link](https://www.geeksforgeeks.org/problems/add-1-to-a-number-represented-as-linked-list/1)\n",
    "\n",
    "Difficulty: MediumAccuracy: 31.91%Submissions: 221K+Points: 4\n",
    "\n",
    "You are given a linked list where each element in the list is a node and have an integer data. You need to add 1 to the number formed by concatinating all the list node numbers together and return the head of the modified linked list. \n",
    "\n",
    "Note: The head represents the first element of the given array.\n",
    "\n",
    "Examples :\n",
    "\n",
    "```\n",
    "Input: LinkedList: 4->5->6\n",
    "Output: 457\n",
    "\n",
    "Explanation: 4->5->6 represents 456 and when 1 is added it becomes 457. \n",
    "Input: LinkedList: 1->2->3\n",
    "Output: 124\n",
    " \n",
    "Explanation:  1->2->3 represents 123 and when 1 is added it becomes 124. \n",
    "```\n",
    "_Expected Time Complexity: O(n)\n",
    "Expected Auxiliary Space: O(1)_\n",
    "\n",
    "Constraints:\n",
    "\n",
    "- 1 <= len(list) <= 105\n",
    "- 0 <= list[i] <= 105"
   ]
  },
  {
   "cell_type": "code",
   "execution_count": null,
   "metadata": {},
   "outputs": [],
   "source": [
    "class Node:\n",
    "    def __init__(self, data):   # data -> value stored in node\n",
    "        self.data = data\n",
    "        self.next = None\n",
    "        \n",
    "class Solution:\n",
    "    def addOne(self, head):\n",
    "        number = 0\n",
    "        while head:number, head = number * 10 + head.data, head.next\n",
    "        return Node(number+1)"
   ]
  }
 ],
 "metadata": {
  "language_info": {
   "name": "python"
  }
 },
 "nbformat": 4,
 "nbformat_minor": 2
}
