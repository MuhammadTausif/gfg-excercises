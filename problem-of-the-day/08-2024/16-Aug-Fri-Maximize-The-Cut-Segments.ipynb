{
 "cells": [
  {
   "cell_type": "markdown",
   "metadata": {},
   "source": [
    "### Maximize The Cut Segments\n",
    "\n",
    "Difficulty: MediumAccuracy: 24.29%Submissions: 230K+Points: 4\n",
    "\n",
    "Given an integer n denoting the Length of a line segment. You need to cut the line segment in such a way that the cut length of a line segment each time is either x , y or z. Here x, y, and z are integers.\n",
    "After performing all the cut operations, your total number of cut segments must be maximum. Return the maximum number of cut segments possible.\n",
    "\n",
    "Note: if no segment can be cut then return 0.\n",
    "\n",
    "Examples:\n",
    "\n",
    "```\n",
    "Input: n = 4, x = 2, y = 1, z = 1\n",
    "Output: 4\n",
    "Explanation: Total length is 4, and the cut\n",
    "lengths are 2, 1 and 1.  We can make\n",
    "maximum 4 segments each of length 1.\n",
    "Input: n = 5, x = 5, y = 3, z = 2\n",
    "Output: 2\n",
    "Explanation: Here total length is 5, and\n",
    "the cut lengths are 5, 3 and 2. We can\n",
    "make two segments of lengths 3 and 2.\n",
    "\n",
    "```\n",
    "\n",
    "_Expected Time Complexity : O(n)\n",
    "Expected Auxiliary Space: O(n)_\n",
    "\n",
    "Constraints\n",
    "\n",
    "- 1 <= n, x, y, z <= 104"
   ]
  },
  {
   "cell_type": "code",
   "execution_count": null,
   "metadata": {},
   "outputs": [],
   "source": [
    "import sys\n",
    "sys.setrecursionlimit(10**6)\n",
    "class Solution:\n",
    "    def maximizeTheCuts(self, n, x, y, z):\n",
    "        def fun(num):\n",
    "            if num == 0:\n",
    "                return 0\n",
    "            if dp[num] != -1:\n",
    "                return dp[num]\n",
    "            take_x = take_y = take_z = float('-inf')\n",
    "            if num >= x:\n",
    "                take_x = fun(num - x) + 1\n",
    "            if num >= y:\n",
    "                take_y = fun(num - y) + 1\n",
    "            if num >= z:\n",
    "                take_z = fun(num - z) + 1\n",
    "            dp[num] = max(take_x, take_y, take_z)\n",
    "            return dp[num]\n",
    "        dp = [-1 for _ in range(n + 1)]\n",
    "        result = fun(n)\n",
    "        return max(0, result)"
   ]
  }
 ],
 "metadata": {
  "language_info": {
   "name": "python"
  }
 },
 "nbformat": 4,
 "nbformat_minor": 2
}
