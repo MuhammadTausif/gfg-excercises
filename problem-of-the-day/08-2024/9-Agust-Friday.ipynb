{
 "cells": [
  {
   "cell_type": "markdown",
   "metadata": {},
   "source": [
    "### Maximize Array Value After Rearrangement\n",
    "\n",
    "https://www.geeksforgeeks.org/problems/maximize-arrii-of-an-array0026/1\n",
    "\n",
    "Difficulty: EasyAccuracy: 18.93%Submissions: 246K+Points: 2\n",
    "Given an array arr of n integers. Your task is to write a program to find the maximum value of ∑arr[i]*i, where i = 0, 1, 2,., n-1. You are allowed to rearrange the elements of the array.\n",
    "\n",
    "Note: Since the output could be large, print the answer modulo 109+7.\n",
    "\n",
    "Examples :\n",
    "```\n",
    "Input : arr[] = [5, 3, 2, 4, 1]\n",
    "Output : 40\n",
    "Explanation: If we arrange the array as 1 2 3 4 5 then we can see that the minimum index will multiply with minimum number and maximum index will multiply with maximum number. So, 1*0 + 2*1 + 3*2 + 4*3 + 5*4 = 0+2+6+12+20 = 40 mod(109+7) = 40\n",
    "\n",
    "Input : arr[] = [1, 2, 3]\n",
    "Output : 8\n",
    "Expected Time Complexity: O(nlog(n))\n",
    "Expected Auxiliary Space: O(1)\n",
    "```\n",
    "\n",
    "Constraints:\n",
    "- 1 ≤ arr.size ≤ 105\n",
    "- 1 ≤ arri ≤ "
   ]
  },
  {
   "cell_type": "code",
   "execution_count": null,
   "metadata": {},
   "outputs": [],
   "source": [
    "class Solution:\n",
    "    def Maximize(self, arr): \n",
    "        # Complete the function\n",
    "        arr.sort()\n",
    "        sum=0\n",
    "        for i in range(1,len(arr)):\n",
    "            sum+=arr[i]*i\n",
    "        if (sum>10**9+7): return sum %(10**9+7)    \n",
    "        return sum "
   ]
  }
 ],
 "metadata": {
  "language_info": {
   "name": "python"
  }
 },
 "nbformat": 4,
 "nbformat_minor": 2
}
