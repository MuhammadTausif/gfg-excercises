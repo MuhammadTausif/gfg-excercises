{
 "cells": [
  {
   "cell_type": "markdown",
   "metadata": {},
   "source": [
    "### Rotate a Linked List\n",
    "\n",
    "Difficulty: MediumAccuracy: 39.95%Submissions: 221K+Points: 4\n",
    "\n",
    "Given the head of a singly linked list, the task is to rotate the linked list clockwise by k nodes, i.e., left-shift the linked list by k nodes, where k is a given positive integer smaller than or equal to length of the linked list.\n",
    "\n",
    "Examples:\n",
    "```\n",
    "Input: linkedlist: 2->4->7->8->9 , k = 3\n",
    "Output: 8->9->2->4->7\n",
    "Explanation:\n",
    "Rotate 1: 4 -> 7 -> 8 -> 9 -> 2\n",
    "Rotate 2: 7 -> 8 -> 9 -> 2 -> 4\n",
    "Rotate 3: 8 -> 9 -> 2 -> 4 -> 7\n",
    "\n",
    "Input: linkedlist: 1->2->3->4->5->6->7->8 , k = 4\n",
    "Output: 5->6->7->8->1->2->3->4\n",
    "```\n",
    "\n",
    "*Expected Time Complexity: O(n)*\n",
    "*Expected Auxiliary Space: O(1)*\n",
    "\n",
    "Constraints:\n",
    "- 1 <= number of nodes <= 103\n",
    "- 1 <= node -> data <= 104\n",
    "- 1 <= k <= number of nodes "
   ]
  },
  {
   "cell_type": "code",
   "execution_count": null,
   "metadata": {},
   "outputs": [],
   "source": [
    "'''\n",
    "\n",
    "class Node:\n",
    "    def __init__(self, data):\n",
    "        self.data = data\n",
    "        self.next = None\n",
    "\n",
    "'''\n",
    "\n",
    "\n",
    "class Solution:\n",
    "    \n",
    "    #Function to rotate a linked list.\n",
    "    def rotate(self, head, k):\n",
    "        # code here\n",
    "\n",
    "        dummy = w = Node(-1)\n",
    "        dummy.next = head\n",
    "        \n",
    "        while k > 0:\n",
    "            w = w.next\n",
    "            k -= 1\n",
    "        \n",
    "        if not w.next:\n",
    "            return head\n",
    "            \n",
    "        ret = w.next\n",
    "        w.next = None\n",
    "        t = ret\n",
    "        while t.next:\n",
    "            t = t.next\n",
    "        t.next = dummy.next\n",
    "        return ret\n",
    "\n"
   ]
  }
 ],
 "metadata": {
  "language_info": {
   "name": "python"
  }
 },
 "nbformat": 4,
 "nbformat_minor": 2
}
