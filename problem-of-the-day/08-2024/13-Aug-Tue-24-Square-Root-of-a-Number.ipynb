{
 "cells": [
  {
   "cell_type": "markdown",
   "metadata": {},
   "source": [
    "### Square root of a number\n",
    "\n",
    "[link](https://www.geeksforgeeks.org/problems/square-root/1)\n",
    "\n",
    "Difficulty: EasyAccuracy: 54.03%Submissions: 241K+Points: 2\n",
    "Given an integer n, find the square root of n. If n is not a perfect square, then return the floor value.\n",
    "\n",
    "Floor value of any number is the greatest Integer which is less than or equal to that number\n",
    "\n",
    "Examples:\n",
    "\n",
    "```\n",
    "Input: n = 5\n",
    "Output: 2\n",
    "Explanation: Since, 5 is not a perfect square, floor of square_root of 5 is 2.\n",
    "Input: n = 4\n",
    "Output: 2\n",
    "Explanation: Since, 4 is a perfect square, so its square root is 2.\n",
    "\n",
    "```\n",
    "_Expected Time Complexity: O(logn)\n",
    "Expected Auxiliary Space: O(1)_\n",
    "\n",
    "Constraints:\n",
    "\n",
    "- 1 ≤ n ≤ 107"
   ]
  },
  {
   "cell_type": "code",
   "execution_count": null,
   "metadata": {},
   "outputs": [],
   "source": [
    "from math import floor\n",
    "\n",
    "#Complete this function\n",
    "class Solution:\n",
    "    def floorSqrt(self, n): \n",
    "    #Your code here\n",
    "        return floor(pow(n,0.5))"
   ]
  }
 ],
 "metadata": {
  "language_info": {
   "name": "python"
  }
 },
 "nbformat": 4,
 "nbformat_minor": 2
}
