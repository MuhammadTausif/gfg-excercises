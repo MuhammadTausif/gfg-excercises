{
 "cells": [
  {
   "cell_type": "markdown",
   "metadata": {},
   "source": [
    "### Median of two sorted arrays\n",
    "\n",
    "[link](https://www.geeksforgeeks.org/problems/sum-of-middle-elements-of-two-sorted-arrays2305/1)\n",
    "\n",
    "Difficulty: MediumAccuracy: 47.98%Submissions: 65K+Points: 4\n",
    "\n",
    "Given 2 sorted integer arrays arr1 and arr2. Find the median of two sorted arrays arr1 and arr2.\n",
    "\n",
    "Examples:\n",
    "\n",
    "```\n",
    "Input: arr1 = [1, 2, 4, 6, 10], arr2 = [4, 5, 6, 9, 12]\n",
    "Output: 11\n",
    "Explanation: The merged array looks like [1, 2, 4, 4, 5, 6, 6, 9, 10, 12]. Sum of middle elements is 11 (5 + 6).\n",
    "Input: arr1 = [1, 12, 15, 26, 38], arr2 = [2, 13, 17, 30, 45]\n",
    "Output: 32\n",
    "Explanation: The merged array looks like [1, 2, 12, 13, 15, 17, 26, 30, 38, 45]. Sum of middle elements is 32 (15 + 17).\n",
    "\n",
    "```\n",
    "\n",
    "_Expected Time Complexity: O(log n)\n",
    "Expected Auxiliary Space: O(1)_\n",
    "\n",
    "Constraints:\n",
    "\n",
    "- 1 <= arr1.size() == arr2.size() <= 103\n",
    "- 1 <= arr1[i] <= 106\n",
    "- 1 <= arr2[i] <= 106"
   ]
  },
  {
   "cell_type": "code",
   "execution_count": 1,
   "metadata": {},
   "outputs": [],
   "source": [
    "class Solution:\n",
    "    def sum_of_middle_elements(self, arr1, arr2):\n",
    "        arr3 = arr1 + arr2\n",
    "        arr3.sort()\n",
    "        result = []\n",
    "        n = len(arr3)\n",
    "        \n",
    "        if n % 2 == 0:\n",
    "            result.append(arr3[n // 2-1])\n",
    "            result.append(arr3[n // 2])\n",
    "        else:\n",
    "            result.append(arr3[n // 2])\n",
    "        \n",
    "        \n",
    "        \n",
    "        return result[0] + result[1]"
   ]
  },
  {
   "cell_type": "code",
   "execution_count": null,
   "metadata": {},
   "outputs": [],
   "source": []
  }
 ],
 "metadata": {
  "kernelspec": {
   "display_name": "Python 3",
   "language": "python",
   "name": "python3"
  },
  "language_info": {
   "codemirror_mode": {
    "name": "ipython",
    "version": 3
   },
   "file_extension": ".py",
   "mimetype": "text/x-python",
   "name": "python",
   "nbconvert_exporter": "python",
   "pygments_lexer": "ipython3",
   "version": "3.11.5"
  }
 },
 "nbformat": 4,
 "nbformat_minor": 2
}
