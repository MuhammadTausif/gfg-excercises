{
 "cells": [
  {
   "cell_type": "markdown",
   "metadata": {},
   "source": [
    "### Rotten Oranges"
   ]
  },
  {
   "cell_type": "code",
   "execution_count": 3,
   "metadata": {},
   "outputs": [],
   "source": [
    "class Solution:\n",
    "    def orangesRotting(self, mat):\n",
    "        q = [(i, j) for i, r in enumerate(mat) for j, e in enumerate(r) if e == 2]\n",
    "        m, n, t = len(mat), len(mat[0]), 0\n",
    "        while q:\n",
    "            nq = []\n",
    "            for r0, c0 in q:\n",
    "                for r, c in ((r0+1, c0), (r0-1, c0), (r0, c0+1), (r0, c0-1)):\n",
    "                    if 0 <= r < m and 0 <= c < n and mat[r][c] == 1:\n",
    "                        nq.append((r, c))\n",
    "                        mat[r][c] = 2\n",
    "            if nq:\n",
    "                q = nq\n",
    "                t += 1\n",
    "            q = nq\n",
    "        return -1 if any([e == 1 for r in mat for e in r]) else t\n"
   ]
  },
  {
   "cell_type": "code",
   "execution_count": 4,
   "metadata": {},
   "outputs": [
    {
     "name": "stdout",
     "output_type": "stream",
     "text": [
      "-1\n",
      "1\n"
     ]
    }
   ],
   "source": [
    "mat1= [[2, 2, 0, 1]]\n",
    "mat2 = [[0, 1, 2], [0, 1, 2], [2, 1, 1]]\n",
    "solution = Solution()\n",
    "print(solution.orangesRotting(mat1))  # Output: 2\n",
    "print(solution.orangesRotting(mat2))  # Output: -1"
   ]
  }
 ],
 "metadata": {
  "kernelspec": {
   "display_name": "Python 3",
   "language": "python",
   "name": "python3"
  },
  "language_info": {
   "codemirror_mode": {
    "name": "ipython",
    "version": 3
   },
   "file_extension": ".py",
   "mimetype": "text/x-python",
   "name": "python",
   "nbconvert_exporter": "python",
   "pygments_lexer": "ipython3",
   "version": "3.11.5"
  }
 },
 "nbformat": 4,
 "nbformat_minor": 2
}
