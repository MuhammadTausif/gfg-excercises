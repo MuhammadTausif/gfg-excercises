{
 "cells": [
  {
   "cell_type": "markdown",
   "metadata": {},
   "source": [
    "### Undirected Graph Cycle"
   ]
  },
  {
   "cell_type": "code",
   "execution_count": 1,
   "metadata": {},
   "outputs": [],
   "source": [
    "\n",
    "class Solution:\n",
    "    class Graph:\n",
    "        def __init__(self, V):\n",
    "            self.V = V\n",
    "            self.adj = {i: [] for i in range(V)}\n",
    "\n",
    "        def add_edge(self, u, v):\n",
    "            self.adj[u].append(v)\n",
    "            self.adj[v].append(u)\n",
    "\n",
    "        def is_cycle_util(self, v, visited, parent):\n",
    "            visited[v] = True\n",
    "            for neighbor in self.adj[v]:\n",
    "                if not visited[neighbor]:  \n",
    "                    if self.is_cycle_util(neighbor, visited, v):\n",
    "                        return True\n",
    "                elif neighbor != parent:  \n",
    "                    return True\n",
    "            return False\n",
    "\n",
    "        def is_cycle(self):\n",
    "            visited = [False] * self.V\n",
    "            for i in range(self.V):\n",
    "                if not visited[i]:  \n",
    "                    if self.is_cycle_util(i, visited, -1):\n",
    "                        return True\n",
    "            return False\n",
    "\n",
    "    def isCycle(self, V, edges):\n",
    "        graph = self.Graph(V)  \n",
    "        for u, v in edges:\n",
    "            graph.add_edge(u, v)  \n",
    "        return graph.is_cycle()"
   ]
  },
  {
   "cell_type": "code",
   "execution_count": 2,
   "metadata": {},
   "outputs": [
    {
     "name": "stdout",
     "output_type": "stream",
     "text": [
      "True\n"
     ]
    }
   ],
   "source": [
    "V = 4\n",
    "E = 4\n",
    "edges= [[0, 1], [0, 2], [1, 2], [2, 3]]\n",
    "\n",
    "sol = Solution()\n",
    "print(sol.isCycle(V, edges))  # Output: True (cycle exists)"
   ]
  }
 ],
 "metadata": {
  "kernelspec": {
   "display_name": "Python 3",
   "language": "python",
   "name": "python3"
  },
  "language_info": {
   "codemirror_mode": {
    "name": "ipython",
    "version": 3
   },
   "file_extension": ".py",
   "mimetype": "text/x-python",
   "name": "python",
   "nbconvert_exporter": "python",
   "pygments_lexer": "ipython3",
   "version": "3.11.5"
  }
 },
 "nbformat": 4,
 "nbformat_minor": 2
}
