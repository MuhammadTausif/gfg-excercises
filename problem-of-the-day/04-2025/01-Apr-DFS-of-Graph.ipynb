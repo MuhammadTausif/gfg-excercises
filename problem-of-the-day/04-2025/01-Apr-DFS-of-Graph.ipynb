{
 "cells": [
  {
   "cell_type": "markdown",
   "metadata": {},
   "source": [
    "### DFS of Graph"
   ]
  },
  {
   "cell_type": "code",
   "execution_count": 1,
   "metadata": {},
   "outputs": [],
   "source": [
    "class Solution:\n",
    "    def dfs(self, adj):\n",
    "        V = len(adj)\n",
    "        visited = [False] * V\n",
    "        result = []\n",
    "        stack = [0]  # Start DFS from node 0\n",
    "\n",
    "        while stack:\n",
    "            node = stack.pop()\n",
    "            if not visited[node]:\n",
    "                visited[node] = True\n",
    "                result.append(node)\n",
    "                stack.extend(reversed(adj[node]))  # Add neighbors in reverse order for correct order\n",
    "                \n",
    "        return result"
   ]
  },
  {
   "cell_type": "code",
   "execution_count": 2,
   "metadata": {},
   "outputs": [
    {
     "name": "stdout",
     "output_type": "stream",
     "text": [
      "[0, 2, 4, 3, 1]\n"
     ]
    }
   ],
   "source": [
    "adj = [[2, 3, 1], [0], [0, 4], [0], [2]]\n",
    "solution = Solution()\n",
    "result = solution.dfs(adj)\n",
    "print(result)  # Output: [0, 1, 3, 2, 4]"
   ]
  },
  {
   "cell_type": "code",
   "execution_count": 3,
   "metadata": {},
   "outputs": [
    {
     "name": "stdout",
     "output_type": "stream",
     "text": [
      "[0, 1, 2, 3, 4]\n"
     ]
    }
   ],
   "source": [
    "adj = [[1, 2], [0], [0, 3], [2]]\n",
    "adj = [[1, 2], [0, 2], [0, 1, 3, 4], [2], [2]]\n",
    "solution = Solution()\n",
    "result = solution.dfs(adj)\n",
    "print(result)  # Output: [0, 1, 2, 3]"
   ]
  }
 ],
 "metadata": {
  "kernelspec": {
   "display_name": "Python 3",
   "language": "python",
   "name": "python3"
  },
  "language_info": {
   "codemirror_mode": {
    "name": "ipython",
    "version": 3
   },
   "file_extension": ".py",
   "mimetype": "text/x-python",
   "name": "python",
   "nbconvert_exporter": "python",
   "pygments_lexer": "ipython3",
   "version": "3.11.5"
  }
 },
 "nbformat": 4,
 "nbformat_minor": 2
}
