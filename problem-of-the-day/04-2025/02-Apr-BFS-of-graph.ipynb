{
 "cells": [
  {
   "cell_type": "markdown",
   "metadata": {},
   "source": [
    "### BFS of graph"
   ]
  },
  {
   "cell_type": "code",
   "execution_count": 1,
   "metadata": {},
   "outputs": [],
   "source": [
    "class Solution:\n",
    "    from collections import deque\n",
    "    def bfs(self, adj):\n",
    "        visited=set([0])\n",
    "        result=[]\n",
    "        queue=self.deque([0])\n",
    "        while queue:\n",
    "            node=queue.popleft()\n",
    "            result.append(node)\n",
    "            for neighbor in adj[node]:\n",
    "                if neighbor not in visited:\n",
    "                    visited.add(neighbor)\n",
    "                    queue.append(neighbor)\n",
    "        return result"
   ]
  },
  {
   "cell_type": "code",
   "execution_count": 3,
   "metadata": {},
   "outputs": [
    {
     "name": "stdout",
     "output_type": "stream",
     "text": [
      "[0, 1, 2, 3, 4]\n",
      "[0, 2, 3, 1, 4]\n"
     ]
    }
   ],
   "source": [
    "adj1 = [[1, 2], [0, 2], [0, 1, 3, 4], [2], [2]]\n",
    "adj2 = [[2, 3, 1], [0], [0, 4], [0], [2]]\n",
    "\n",
    "solution = Solution()\n",
    "result1 = solution.bfs(adj1)\n",
    "result2 = solution.bfs(adj2)\n",
    "print(result1)  # Output: [0, 1, 2, 3, 4]\n",
    "print(result2)  # Output: [0, 2, 3, 1, 4]"
   ]
  }
 ],
 "metadata": {
  "kernelspec": {
   "display_name": "Python 3",
   "language": "python",
   "name": "python3"
  },
  "language_info": {
   "codemirror_mode": {
    "name": "ipython",
    "version": 3
   },
   "file_extension": ".py",
   "mimetype": "text/x-python",
   "name": "python",
   "nbconvert_exporter": "python",
   "pygments_lexer": "ipython3",
   "version": "3.11.5"
  }
 },
 "nbformat": 4,
 "nbformat_minor": 2
}
