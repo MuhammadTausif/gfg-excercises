{
 "cells": [
  {
   "cell_type": "markdown",
   "metadata": {},
   "source": [
    "### Max Circular Subarray Sum\n",
    "\n",
    "[Link](https://www.geeksforgeeks.org/problems/max-circular-subarray-sum-1587115620/1)\n",
    "Difficulty: Hard\n",
    "\n",
    "Given an array of integers arr[] in a circular fashion. Find the maximum subarray sum that we can get if we assume the array to be circular.\n",
    "\n",
    "Examples:\n",
    "```\n",
    "Input: arr[] = [8, -8, 9, -9, 10, -11, 12]\n",
    "Output: 22\n",
    "Explanation: Starting from the last element of the array, i.e, 12, and moving in a circular fashion, we have max subarray as 12, 8, -8, 9, -9, 10, which gives maximum sum as 22.\n",
    "Input: arr[] = [10, -3, -4, 7, 6, 5, -4, -1]\n",
    "Output: 23\n",
    "Explanation: Maximum sum of the circular subarray is 23. The subarray is [7, 6, 5, -4, -1, 10].\n",
    "Input: arr[] = [-1, 40, -14, 7, 6, 5, -4, -1] \n",
    "Output: 52\n",
    "Explanation: Circular Subarray [7, 6, 5, -4, -1, -1, 40] has the maximum sum, which is 52.\n",
    "```\n",
    "\n",
    "Constraints:\n",
    "- 1 <= arr.size() <= 105\n",
    "- -104 <= arr[i] <= 104"
   ]
  },
  {
   "cell_type": "code",
   "execution_count": null,
   "metadata": {},
   "outputs": [],
   "source": [
    "### Solved\n",
    "def circularSubarraySum(arr):\n",
    "   \n",
    "    def kadane(arr):\n",
    "        curr=0\n",
    "        ans=arr[0]\n",
    "        for i in arr:\n",
    "            curr+=i\n",
    "            ans=max(curr,ans)\n",
    "            curr=max(curr,0)\n",
    "        return ans\n",
    "    max_sub_array=kadane(arr)\n",
    "    total_sum=sum(arr)\n",
    "    inverted_sum=kadane([-i for i in arr])\n",
    "    \n",
    "    max_circular_subarray_sum=total_sum+inverted_sum\n",
    "    \n",
    "    return max(max_sub_array,max_circular_subarray_sum)"
   ]
  }
 ],
 "metadata": {
  "language_info": {
   "name": "python"
  }
 },
 "nbformat": 4,
 "nbformat_minor": 2
}
