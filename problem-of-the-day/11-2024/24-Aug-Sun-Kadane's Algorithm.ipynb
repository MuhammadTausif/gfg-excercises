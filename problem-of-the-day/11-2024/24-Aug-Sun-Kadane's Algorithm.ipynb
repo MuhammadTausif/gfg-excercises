{
 "cells": [
  {
   "cell_type": "markdown",
   "metadata": {},
   "source": [
    "# Kadane's Algorithm"
   ]
  },
  {
   "cell_type": "markdown",
   "metadata": {},
   "source": [
    "### Kadane's Algorithm\n",
    "\n",
    "[Link](https://www.geeksforgeeks.org/problems/kadanes-algorithm-1587115620/1)\n",
    "\n",
    "Difficulty: Medium\n",
    "\n",
    "Given an integer array arr[]. You need to find the maximum sum of a subarray.\n",
    "\n",
    "Examples:\n",
    "```\n",
    "Input: arr[] = [2, 3, -8, 7, -1, 2, 3]\n",
    "Output: 11\n",
    "Explanation: The subarray {7, -1, 2, 3} has the largest sum 11.\n",
    "Input: arr[] = [-2, -4]\n",
    "Output: -2\n",
    "Explanation: The subarray {-2} has the largest sum -2.\n",
    "Input: arr[] = [5, 4, 1, 7, 8]\n",
    "Output: 25\n",
    "Explanation: The subarray {5, 4, 1, 7, 8} has the largest sum 25.\n",
    "```\n",
    "\n",
    "Constraints:\n",
    "- 1 ≤ arr.size() ≤ 105\n",
    "- -109 ≤ arr[i] ≤ 104"
   ]
  },
  {
   "cell_type": "code",
   "execution_count": 1,
   "metadata": {},
   "outputs": [],
   "source": [
    "class Solution:\n",
    "    ##Complete this function\n",
    "    #Function to find the sum of contiguous subarray with maximum sum.\n",
    "    def maxSubArraySum(self,arr):\n",
    "        ans = sum = -1e9\n",
    "        \n",
    "        for a in arr:\n",
    "            sum = max(a, sum+a)\n",
    "            ans = max(ans, sum)\n",
    "        \n",
    "        return ans"
   ]
  }
 ],
 "metadata": {
  "kernelspec": {
   "display_name": "Python 3",
   "language": "python",
   "name": "python3"
  },
  "language_info": {
   "codemirror_mode": {
    "name": "ipython",
    "version": 3
   },
   "file_extension": ".py",
   "mimetype": "text/x-python",
   "name": "python",
   "nbconvert_exporter": "python",
   "pygments_lexer": "ipython3",
   "version": "3.11.5"
  }
 },
 "nbformat": 4,
 "nbformat_minor": 2
}
