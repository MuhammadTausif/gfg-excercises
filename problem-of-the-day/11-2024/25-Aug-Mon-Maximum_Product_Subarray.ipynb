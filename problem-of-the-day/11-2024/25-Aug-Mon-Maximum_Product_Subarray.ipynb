{
 "cells": [
  {
   "cell_type": "markdown",
   "metadata": {},
   "source": [
    "### Maximum Product Subarray\n",
    "\n",
    "[Link](https://www.geeksforgeeks.org/problems/maximum-product-subarray3604/1)\n",
    "\n",
    "Difficulty: Medium\n",
    "\n",
    "Given an array arr[] that contains positive and negative integers (may contain 0 as well). Find the maximum product that we can get in a subarray of arr.\n",
    "\n",
    "Note: It is guaranteed that the output fits in a 32-bit integer.\n",
    "\n",
    "Examples\n",
    "```\n",
    "Input: arr[] = [-2, 6, -3, -10, 0, 2]\n",
    "Output: 180\n",
    "Explanation: The subarray with maximum product is {6, -3, -10} with product = 6 * (-3) * (-10) = 180.\n",
    "Input: arr[] = [-1, -3, -10, 0, 60]\n",
    "Output: 60\n",
    "Explanation: The subarray with maximum product is {60}.\n",
    "Input: arr[] = [2, 3, 4] \n",
    "Output: 24 \n",
    "Explanation: For an array with all positive elements, the result is product of all elements. \n",
    "```\n",
    "\n",
    "Constraints:\n",
    "- 1 ≤ arr.size() ≤ 106\n",
    "- -10  ≤  arr[i]  ≤  10"
   ]
  },
  {
   "cell_type": "code",
   "execution_count": 1,
   "metadata": {},
   "outputs": [
    {
     "ename": "TabError",
     "evalue": "inconsistent use of tabs and spaces in indentation (317373922.py, line 7)",
     "output_type": "error",
     "traceback": [
      "\u001b[1;36m  Cell \u001b[1;32mIn [1], line 7\u001b[1;36m\u001b[0m\n\u001b[1;33m    max_product = arr[0]\u001b[0m\n\u001b[1;37m    ^\u001b[0m\n\u001b[1;31mTabError\u001b[0m\u001b[1;31m:\u001b[0m inconsistent use of tabs and spaces in indentation\n"
     ]
    }
   ],
   "source": [
    "class Solution:\n",
    "\n",
    "\t# Function to find maximum\n",
    "\t# product subarray\n",
    "\tdef maxProduct(self,arr):\n",
    "\t\t# code here\n",
    "        max_product = arr[0]\n",
    "        min_product = arr[0]\n",
    "        result = arr[0]\n",
    "        \n",
    "        # Traverse the array starting from the second element\n",
    "        for i in range(1, len(arr)):\n",
    "            num = arr[i]\n",
    "            \n",
    "            # If the current number is negative, swap max and min\n",
    "            if num < 0:\n",
    "                max_product, min_product = min_product, max_product\n",
    "            \n",
    "            # Update max_product and min_product\n",
    "            max_product = max(num, max_product * num)\n",
    "            min_product = min(num, min_product * num)\n",
    "            \n",
    "            # Update the result\n",
    "            result = max(result, max_product)\n",
    "        \n",
    "        return result"
   ]
  },
  {
   "cell_type": "code",
   "execution_count": null,
   "metadata": {},
   "outputs": [],
   "source": []
  }
 ],
 "metadata": {
  "kernelspec": {
   "display_name": "Python 3",
   "language": "python",
   "name": "python3"
  },
  "language_info": {
   "codemirror_mode": {
    "name": "ipython",
    "version": 3
   },
   "file_extension": ".py",
   "mimetype": "text/x-python",
   "name": "python",
   "nbconvert_exporter": "python",
   "pygments_lexer": "ipython3",
   "version": "3.11.5"
  }
 },
 "nbformat": 4,
 "nbformat_minor": 2
}
