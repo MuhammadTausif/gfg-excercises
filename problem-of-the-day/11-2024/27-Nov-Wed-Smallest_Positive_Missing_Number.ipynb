{
 "cells": [
  {
   "cell_type": "markdown",
   "metadata": {},
   "source": [
    "### Smallest Positive Missing Number\n",
    "\n",
    "[Link](https://www.geeksforgeeks.org/problems/smallest-positive-missing-number-1587115621/1)\n",
    "\n",
    "Difficulty: Medium\n",
    "\n",
    "You are given an integer array arr[]. Your task is to find the smallest positive number missing from the array.\n",
    "\n",
    "Note: Positive number starts from 1. The array can have negative integers too.\n",
    "\n",
    "Examples:\n",
    "\n",
    "```\n",
    "Input: arr[] = [2, -3, 4, 1, 1, 7]\n",
    "Output: 3\n",
    "Explanation: Smallest positive missing number is 3.\n",
    "Input: arr[] = [5, 3, 2, 5, 1]\n",
    "Output: 4\n",
    "Explanation: Smallest positive missing number is 4.\n",
    "Input: arr[] = [-8, 0, -1, -4, -3]\n",
    "Output: 1\n",
    "Explanation: Smallest positive missing number is 1.\n",
    "\n",
    "```\n",
    "\n",
    "Constraints:  \n",
    "\n",
    "- 1 <= arr.size() <= 105\n",
    "- -106 <= arr[i] <= 106"
   ]
  },
  {
   "cell_type": "code",
   "execution_count": null,
   "metadata": {},
   "outputs": [],
   "source": [
    "class Solution:\n",
    "    def missingNumber(self,nums):\n",
    "        n=1\n",
    "        curr=0\n",
    "        nums.sort()\n",
    "\n",
    "        while curr<len(nums) and nums[curr]<=0:\n",
    "            curr+=1\n",
    "\n",
    "        while (curr<len(nums)):\n",
    "            if curr>0 and nums[curr]==nums[curr-1]:\n",
    "                curr+=1\n",
    "                continue\n",
    "\n",
    "            elif (nums[curr]==n):\n",
    "                n+=1\n",
    "            else:\n",
    "                return n\n",
    "            \n",
    "            curr+=1\n",
    "        \n",
    "        return n"
   ]
  }
 ],
 "metadata": {
  "language_info": {
   "name": "python"
  }
 },
 "nbformat": 4,
 "nbformat_minor": 2
}
