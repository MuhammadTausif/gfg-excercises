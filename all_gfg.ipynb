{
 "cells": [
  {
   "cell_type": "markdown",
   "metadata": {},
   "source": [
    "Odd or Even\n",
    "\n",
    "https://www.geeksforgeeks.org/problems/odd-or-even3618/1?page=1&difficulty=School&status=unsolved&sortBy=submissions"
   ]
  },
  {
   "cell_type": "code",
   "execution_count": 8,
   "metadata": {},
   "outputs": [
    {
     "data": {
      "text/plain": [
       "True"
      ]
     },
     "execution_count": 8,
     "metadata": {},
     "output_type": "execute_result"
    }
   ],
   "source": [
    "class Solution:\n",
    "    def oddEven (ob,N):\n",
    "        # code here \n",
    "        pass\n",
    "        return N%2\n",
    "\n",
    "\n",
    "bool(1%2)"
   ]
  },
  {
   "cell_type": "markdown",
   "metadata": {},
   "source": [
    "GCD of two numbers\n",
    "\n",
    "https://www.geeksforgeeks.org/problems/gcd-of-two-numbers3459/1?page=1&difficulty=School&status=unsolved&sortBy=submissions"
   ]
  },
  {
   "cell_type": "code",
   "execution_count": 12,
   "metadata": {},
   "outputs": [
    {
     "name": "stdout",
     "output_type": "stream",
     "text": [
      "1\n",
      "yes 1\n",
      "2\n",
      "3\n",
      "yes 3\n",
      "4\n",
      "5\n",
      "6\n"
     ]
    }
   ],
   "source": [
    "a = 3\n",
    "b = 6\n",
    "\n",
    "for i in range(1,b+1):\n",
    "    print(i)\n",
    "    if a%i==0 and b%i==0:\n",
    "        print(\"yes\", i)"
   ]
  },
  {
   "cell_type": "code",
   "execution_count": 1,
   "metadata": {},
   "outputs": [
    {
     "name": "stdout",
     "output_type": "stream",
     "text": [
      "3 , 6\n",
      "6 , 3\n",
      "3\n",
      "1 , 6\n",
      "6 , 1\n",
      "1\n",
      "1 , 1\n",
      "1\n",
      "7 , 541\n",
      "541 , 7\n",
      "7 , 2\n",
      "2 , 1\n",
      "1\n"
     ]
    }
   ],
   "source": [
    "class Solution:\n",
    "    def gcd(self, a : int, b : int) -> int:\n",
    "        while b :\n",
    "              print(a,',',b)\n",
    "              a, b = b, a%b\n",
    "        return a\n",
    "\n",
    "s = Solution()\n",
    "print(s.gcd(3,6))\n",
    "print(s.gcd(1,6))\n",
    "print(s.gcd(1,1))\n",
    "print(s.gcd(7,541))"
   ]
  },
  {
   "cell_type": "markdown",
   "metadata": {},
   "source": [
    "Perfect Arrays\n",
    "\n",
    "https://www.geeksforgeeks.org/problems/perfect-arrays4645/1?page=1&difficulty=School&status=unsolved&sortBy=submissions"
   ]
  },
  {
   "cell_type": "code",
   "execution_count": 2,
   "metadata": {},
   "outputs": [
    {
     "data": {
      "text/plain": [
       "True"
      ]
     },
     "execution_count": 2,
     "metadata": {},
     "output_type": "execute_result"
    }
   ],
   "source": [
    "arr = [1, 2, 3, 2, 1]\n",
    "arr[::-1] == arr"
   ]
  },
  {
   "cell_type": "markdown",
   "metadata": {},
   "source": [
    "Smaller and Large\n",
    "\n",
    "https://www.geeksforgeeks.org/problems/smaller-and-larger4005/1?page=1&difficulty=School&status=unsolved&sortBy=submissions"
   ]
  },
  {
   "cell_type": "code",
   "execution_count": 3,
   "metadata": {},
   "outputs": [
    {
     "data": {
      "text/plain": [
       "(0, 7)"
      ]
     },
     "execution_count": 3,
     "metadata": {},
     "output_type": "execute_result"
    }
   ],
   "source": [
    "from bisect import bisect_right\n",
    "class Solution:\n",
    "\tdef getMoreAndLess(self,arr, n, x):\n",
    "            \n",
    "            a = bisect_right(arr, x)\n",
    "            b = n - bisect_right(arr, x - 1)\n",
    "            return a, b\n",
    "\n",
    "s = Solution()\n",
    "s.getMoreAndLess([1, 2, 8, 10, 11, 12, 19], 7, 0)"
   ]
  },
  {
   "cell_type": "code",
   "execution_count": 11,
   "metadata": {},
   "outputs": [
    {
     "name": "stdout",
     "output_type": "stream",
     "text": [
      "6\n"
     ]
    },
    {
     "data": {
      "text/plain": [
       "int"
      ]
     },
     "execution_count": 11,
     "metadata": {},
     "output_type": "execute_result"
    }
   ],
   "source": [
    "from bisect import bisect_right, bisect_left\n",
    "print(bisect_right([1, 2, 8, 10, 11, 12, 19, 20, 30], 15))\n",
    "type(br)"
   ]
  },
  {
   "cell_type": "markdown",
   "metadata": {},
   "source": [
    "Sum Of Digits\n",
    "\n",
    "https://www.geeksforgeeks.org/problems/sum-of-digits1742/1?page=1&difficulty=School&status=unsolved&sortBy=submissions"
   ]
  },
  {
   "cell_type": "code",
   "execution_count": 12,
   "metadata": {},
   "outputs": [
    {
     "data": {
      "text/plain": [
       "5"
      ]
     },
     "execution_count": 12,
     "metadata": {},
     "output_type": "execute_result"
    }
   ],
   "source": [
    "class Solution:\n",
    "    def sumOfDigits (self, N):\n",
    "        return sum([int(i) for i in N])\n",
    "    \n",
    "\n",
    "s = Solution()\n",
    "s.sumOfDigits('23')"
   ]
  },
  {
   "cell_type": "markdown",
   "metadata": {},
   "source": [
    "Even Odd Sum\n",
    "\n",
    "https://www.geeksforgeeks.org/problems/even-odd-sum5450/1?page=3&difficulty=School&status=unsolved&sortBy=submissions"
   ]
  },
  {
   "cell_type": "code",
   "execution_count": 15,
   "metadata": {},
   "outputs": [
    {
     "data": {
      "text/plain": [
       "(9, 6)"
      ]
     },
     "execution_count": 15,
     "metadata": {},
     "output_type": "execute_result"
    }
   ],
   "source": [
    "#User function Template for python3\n",
    "\n",
    "class Solution:\n",
    "    def EvenOddSum(self,N,Arr):\n",
    "        return sum(Arr[::2]), sum(Arr[1::2])\n",
    "    \n",
    "\n",
    "s = Solution()\n",
    "s.EvenOddSum(5,[1,2,3,4,5])"
   ]
  },
  {
   "cell_type": "markdown",
   "metadata": {},
   "source": [
    "Series AP\n",
    "\n",
    "https://www.geeksforgeeks.org/problems/series-ap5310/1?page=1&difficulty=School&status=unsolved&sortBy=submissions"
   ]
  },
  {
   "cell_type": "code",
   "execution_count": 16,
   "metadata": {},
   "outputs": [
    {
     "data": {
      "text/plain": [
       "1"
      ]
     },
     "execution_count": 16,
     "metadata": {},
     "output_type": "execute_result"
    }
   ],
   "source": [
    "a1 = 2\n",
    "a2 = 3\n",
    "n = 4\n",
    "d = a2 - a1\n",
    "\n",
    "d"
   ]
  },
  {
   "cell_type": "code",
   "execution_count": 18,
   "metadata": {},
   "outputs": [
    {
     "data": {
      "text/plain": [
       "19"
      ]
     },
     "execution_count": 18,
     "metadata": {},
     "output_type": "execute_result"
    }
   ],
   "source": [
    "a1 = 1\n",
    "a2 = 3\n",
    "n = 10\n",
    "\n",
    "d = a2 - a1\n",
    "d\n",
    "a1 + (10-1)*2\n",
    "an = a1+(n-1)*d"
   ]
  },
  {
   "cell_type": "markdown",
   "metadata": {},
   "source": [
    "Swap number\n",
    "\n",
    "https://www.geeksforgeeks.org/problems/swap-two-numbers3844/1?page=1&difficulty=School&status=unsolved&sortBy=submissions"
   ]
  },
  {
   "cell_type": "code",
   "execution_count": 20,
   "metadata": {},
   "outputs": [],
   "source": [
    "a, b = 1, 2\n",
    "a, b = b, a"
   ]
  },
  {
   "cell_type": "markdown",
   "metadata": {},
   "source": [
    "Sum Palindrome\n",
    "\n",
    "https://www.geeksforgeeks.org/problems/sum-palindrome3857/1?page=1&difficulty=School&status=unsolved&sortBy=submissions"
   ]
  },
  {
   "cell_type": "code",
   "execution_count": 22,
   "metadata": {},
   "outputs": [
    {
     "name": "stdout",
     "output_type": "stream",
     "text": [
      "55\n",
      "121\n"
     ]
    }
   ],
   "source": [
    "class Solution:\n",
    "    def isSumPalindrome (self, n):\n",
    "        if str(n) == str(n)[::-1]:\n",
    "                return n\n",
    "        for i in range(5):\n",
    "            n = n + int(str(n)[::-1])\n",
    "            if str(n) == str(n)[::-1]:\n",
    "                return n\n",
    "            \n",
    "        return -1\n",
    "\n",
    "s = Solution()\n",
    "print(s.isSumPalindrome(23))\n",
    "print(s.isSumPalindrome(73))\n",
    "print(s.isSumPalindrome(73))\n"
   ]
  },
  {
   "cell_type": "markdown",
   "metadata": {},
   "source": [
    "The dice problem\n",
    "\n",
    "https://www.geeksforgeeks.org/problems/the-dice-problem2316/1?page=1&difficulty=School&status=unsolved&sortBy=submissions"
   ]
  },
  {
   "cell_type": "code",
   "execution_count": 15,
   "metadata": {},
   "outputs": [],
   "source": [
    "# class Solution:\n",
    "#     def oppositeFaceOfDice(self, N):\n",
    "#     \t#code here \n",
    "#     \tif N == 6:\n",
    "#     \t    return 1\n",
    "#     \telif N==5:\n",
    "#     \t    return 2\n",
    "#     \telif N==2:\n",
    "#     \t    return 5\n",
    "#     \telif N==3:\n",
    "#     \t    return 4\n",
    "#     \telif N==4:\n",
    "#     \t    return 3\n",
    "#     \telif N==1:\n",
    "#     \t    return 6"
   ]
  },
  {
   "cell_type": "markdown",
   "metadata": {},
   "source": [
    "Print 1 to n without using loops (repeat)\n",
    "\n",
    "https://www.geeksforgeeks.org/problems/print-1-to-n-without-using-loops3621/1?page=1&difficulty=School&status=unsolved&sortBy=submissions"
   ]
  },
  {
   "cell_type": "code",
   "execution_count": 18,
   "metadata": {},
   "outputs": [
    {
     "name": "stdout",
     "output_type": "stream",
     "text": [
      "1\n",
      "2\n",
      "3\n",
      "4\n",
      "5\n"
     ]
    }
   ],
   "source": [
    "class Solution:        \n",
    "    def printTillN(self, N):       \n",
    "        if N == 0:\n",
    "             return True\n",
    "        else:\n",
    "            self.printTillN(N-1)\n",
    "        print(N)\n",
    "s = Solution()\n",
    "s.printTillN(5)"
   ]
  },
  {
   "cell_type": "markdown",
   "metadata": {},
   "source": [
    "Multiplication Table\n",
    "\n",
    "https://www.geeksforgeeks.org/problems/print-table0303/1?page=1&difficulty=School&status=unsolved&sortBy=submissions"
   ]
  },
  {
   "cell_type": "code",
   "execution_count": 22,
   "metadata": {},
   "outputs": [
    {
     "name": "stdout",
     "output_type": "stream",
     "text": [
      "[9, 18, 27, 36, 45, 54, 63, 72, 81]\n",
      "[10, 20, 30, 40, 50, 60, 70, 80, 90]\n"
     ]
    }
   ],
   "source": [
    "class Solution:\n",
    "    def getTable(self,N):\n",
    "        table = []\n",
    "        for i in range(1, 10):\n",
    "            table.append(i*N)\n",
    "        \n",
    "        return table\n",
    "    \n",
    "s = Solution()\n",
    "print(s.getTable(9))\n",
    "print(s.getTable(10))"
   ]
  },
  {
   "cell_type": "markdown",
   "metadata": {},
   "source": [
    "Compete the skills\n",
    "\n",
    "https://www.geeksforgeeks.org/problems/compete-the-skills5807/1?page=1&difficulty=School&status=unsolved&sortBy=submissions"
   ]
  },
  {
   "cell_type": "code",
   "execution_count": 23,
   "metadata": {},
   "outputs": [],
   "source": [
    "class Solution:\n",
    "    def scores(self, a, b, cc):\n",
    "        for i, j in zip(a, b):\n",
    "            pass\n",
    "\n"
   ]
  },
  {
   "cell_type": "markdown",
   "metadata": {},
   "source": [
    "Remove all occurences of duplicates in a linked list (repeat)\n",
    "\n",
    "https://www.geeksforgeeks.org/problems/remove-all-occurences-of-duplicates-in-a-linked-list/1"
   ]
  },
  {
   "cell_type": "code",
   "execution_count": 24,
   "metadata": {},
   "outputs": [],
   "source": [
    "#User function Template for python3\n",
    "\n",
    "\n",
    "# Linked list Node class\n",
    "\n",
    "class Node :\n",
    "    def __init__(self, val):\n",
    "        self.data = val\n",
    "        self.next = None\n",
    "\n",
    "\n",
    "\n",
    "class Solution:\n",
    "    def removeAllDuplicates(self, head):\n",
    "        if not head:\n",
    "            return None\n",
    "        \n",
    "        # Create a dummy node\n",
    "        dummy = Node(0)\n",
    "        dummy.next = head\n",
    "        prev = dummy\n",
    "        current = head\n",
    "        \n",
    "        while current:\n",
    "            # Check if current node is a duplicate\n",
    "            is_duplicate = False\n",
    "            while current.next and current.data == current.next.data:\n",
    "                current = current.next\n",
    "                is_duplicate = True\n",
    "            \n",
    "            if is_duplicate:\n",
    "                # Skip all duplicates\n",
    "                current = current.next\n",
    "                continue\n",
    "            \n",
    "            # Link the last non-duplicate node to the current node\n",
    "            prev.next = current\n",
    "            prev = current\n",
    "            current = current.next\n",
    "        \n",
    "        # Handle the case where the last segment of the list contains duplicates\n",
    "        prev.next = None\n",
    "        \n",
    "        return dummy.next\n",
    "\n",
    "# Helper function to print the linked list\n",
    "def printList(head):\n",
    "    while head:\n",
    "        print(head.data, end=\" \")\n",
    "        head = head.next\n",
    "    print()\n",
    "\n"
   ]
  },
  {
   "cell_type": "markdown",
   "metadata": {},
   "source": [
    "1s Complement\n",
    "\n",
    "https://www.geeksforgeeks.org/problems/1s-complement2819/1?page=1&difficulty=School&status=unsolved&sortBy=accuracy"
   ]
  },
  {
   "cell_type": "code",
   "execution_count": 3,
   "metadata": {},
   "outputs": [
    {
     "name": "stdout",
     "output_type": "stream",
     "text": [
      "010\n",
      "01\n"
     ]
    }
   ],
   "source": [
    "class Solution:\n",
    "    def onesComplement(self,S,N):\n",
    "        return ''.join(['0' if i == '1' else '1' for i in S])\n",
    "\n",
    "\n",
    "\n",
    "s = Solution()\n",
    "print(s.onesComplement('101', 3))\n",
    "print(s.onesComplement('10', 2))"
   ]
  },
  {
   "cell_type": "markdown",
   "metadata": {},
   "source": [
    "Number Pattern\n",
    "\n",
    "https://www.geeksforgeeks.org/problems/number-pattern0517/1?page=1&difficulty=School&status=unsolved&sortBy=accuracy"
   ]
  },
  {
   "cell_type": "code",
   "execution_count": 25,
   "metadata": {},
   "outputs": [
    {
     "name": "stdout",
     "output_type": "stream",
     "text": [
      "1 121 12321 \n",
      "1 121 12321 1234321 \n",
      "1 121 12321 1234321 123454321 12345654321 \n"
     ]
    }
   ],
   "source": [
    "class Solution:\n",
    "\tdef numberPattern(self, N):\n",
    "\t\to = ''\n",
    "\t\tfor i in range(1, N+1):\n",
    "\t\t\tfor j in range(1, i+1):\n",
    "\t\t\t\to+=str(j)\n",
    "\t\t\t\t# print(j, end='')\n",
    "\t\t\tfor k in range(i-1,0,-1):\n",
    "\t\t\t\to+=str(k)\n",
    "\t\t\t\t# print(k, end='')\n",
    "\t\t\to+=' '\n",
    "\t\t\t# print(' ', end='')\n",
    "\t\t\t# print(o)\n",
    "\t\treturn o\n",
    "\t\t\n",
    "\n",
    "s = Solution()    \t\t\n",
    "print(s.numberPattern(3))\n",
    "print(s.numberPattern(4))\n",
    "print(s.numberPattern(6))\n",
    "\n",
    "class Solution_correct:\n",
    "    def numberPattern(self, N):\n",
    "        # code here\n",
    "        ans = []\n",
    "        for i in range(1, N + 1):\n",
    "            s1 = ''\n",
    "            s2 = ''\n",
    "            for j in range(1, i):\n",
    "                s1 += str(j)\n",
    "                s2 = str(j) + s2\n",
    "            ans.append(s1 + str(i) + s2)\n",
    "        return ans"
   ]
  },
  {
   "cell_type": "markdown",
   "metadata": {},
   "source": [
    "Vertical Width of a Binary Tree (repeat)\n",
    "\n",
    "https://www.geeksforgeeks.org/problems/vertical-width-of-a-binary-tree/1\n"
   ]
  },
  {
   "cell_type": "code",
   "execution_count": 29,
   "metadata": {},
   "outputs": [
    {
     "name": "stdout",
     "output_type": "stream",
     "text": [
      "0, 1, [0, 0]\n",
      "-1, 2, [-1, 0]\n",
      "-2, 4, [-2, 0]\n",
      "0, 5, [-2, 0]\n",
      "1, 3, [-2, 1]\n",
      "0, 6, [-2, 1]\n",
      "1, 8, [-2, 1]\n",
      "2, 7, [-2, 2]\n",
      "3, 9, [-2, 3]\n",
      "6\n"
     ]
    }
   ],
   "source": [
    "class Node:\n",
    "    def __init__(self, key):\n",
    "        self.data = key\n",
    "        self.left = None\n",
    "        self.right = None\n",
    "\n",
    "def verticalWidth(root):\n",
    "    if not root:\n",
    "        return 0\n",
    "    \n",
    "    # Dictionary to store the horizontal distances\n",
    "    min_max = [0, 0]  # min_max[0] is min distance, min_max[1] is max distance\n",
    "    \n",
    "    def findWidth(node, hd):\n",
    "        if not node:\n",
    "            return\n",
    "        \n",
    "        # Update the minimum and maximum distances\n",
    "        if hd < min_max[0]:\n",
    "            min_max[0] = hd\n",
    "        elif hd > min_max[1]:\n",
    "            min_max[1] = hd\n",
    "        \n",
    "        print(f\"{hd}, {node.data}, {min_max}\")\n",
    "        # Recur for the left and right children\n",
    "        findWidth(node.left, hd - 1)\n",
    "        findWidth(node.right, hd + 1)\n",
    "    \n",
    "    # Start from the root with horizontal distance 0\n",
    "    findWidth(root, 0)\n",
    "    \n",
    "    # Vertical width is max distance - min distance + 1\n",
    "    return min_max[1] - min_max[0] + 1\n",
    "\n",
    "# Example usage:\n",
    "# Construct the tree\n",
    "#          1\n",
    "#       /    \\\n",
    "#      2      3\n",
    "#     / \\    /  \\\n",
    "#    4   5  6   7\n",
    "#            \\   \\\n",
    "#             8   9\n",
    "\n",
    "root = Node(1)\n",
    "root.left = Node(2)\n",
    "root.right = Node(3)\n",
    "root.left.left = Node(4)\n",
    "root.left.right = Node(5)\n",
    "root.right.left = Node(6)\n",
    "root.right.right = Node(7)\n",
    "root.right.left.right = Node(8)\n",
    "root.right.right.right = Node(9)\n",
    "\n",
    "print(verticalWidth(root))  # Output: 6\n"
   ]
  },
  {
   "cell_type": "markdown",
   "metadata": {},
   "source": [
    "Find n-th term of series 1, 3, 6, 10, 15, 21 (repeat)\n",
    "\n",
    "https://www.geeksforgeeks.org/problems/find-n-th-term-of-series-1-3-6-10-15-215506/1?page=1&difficulty=School&status=unsolved&sortBy=accuracy"
   ]
  },
  {
   "cell_type": "code",
   "execution_count": 2,
   "metadata": {},
   "outputs": [],
   "source": [
    "class Solution:\n",
    "    def findNthTerm(self, N):\n",
    "        # code here \n",
    "        return int(N*(N+1)/2)"
   ]
  },
  {
   "cell_type": "markdown",
   "metadata": {},
   "source": [
    "Power of Pow | Even Number\n",
    "\n",
    "https://www.geeksforgeeks.org/problems/power-of-pow-even-number5440/1?page=3&difficulty=School&status=unsolved&sortBy=accuracy"
   ]
  },
  {
   "cell_type": "code",
   "execution_count": 7,
   "metadata": {},
   "outputs": [
    {
     "name": "stdout",
     "output_type": "stream",
     "text": [
      "20\n",
      "120\n",
      "56\n"
     ]
    }
   ],
   "source": [
    "class Solution:\n",
    "\tdef sum_of_square_evenNumbers(self, n):\n",
    "\t    return sum([(i*2)**2 for i in range(1, n + 1)])\n",
    "\t\n",
    "\n",
    "s = Solution()\n",
    "print(s.sum_of_square_evenNumbers(2))\n",
    "print(s.sum_of_square_evenNumbers(4))\n",
    "print(s.sum_of_square_evenNumbers(3))"
   ]
  },
  {
   "cell_type": "markdown",
   "metadata": {},
   "source": [
    "12 hour clock Multiplication\n",
    "\n",
    "https://www.geeksforgeeks.org/problems/12-hour-clock-multiplication4709/1?page=1&difficulty=School&status=unsolved&sortBy=accuracy"
   ]
  },
  {
   "cell_type": "code",
   "execution_count": 8,
   "metadata": {},
   "outputs": [],
   "source": [
    "class Solution:\n",
    "    def mulClock(self, num1, num2):\n",
    "        if num1 * num2 < 12:\n",
    "            return num1 * num2\n",
    "        else:\n",
    "            return (num1 * num2) % 12"
   ]
  },
  {
   "cell_type": "markdown",
   "metadata": {},
   "source": [
    "Sum of an AP\n",
    "\n",
    "https://www.geeksforgeeks.org/problems/sum-of-an-ap1025/1?page=1&difficulty=School&status=unsolved&sortBy=accuracy"
   ]
  },
  {
   "cell_type": "code",
   "execution_count": 9,
   "metadata": {},
   "outputs": [],
   "source": [
    "class Solution:\n",
    "\tdef sum_of_ap(self, n, a, d):\n",
    "\t\t# Code here\n",
    "\t\treturn int((n/2)*(2*a + (n-1)*d))"
   ]
  },
  {
   "cell_type": "markdown",
   "metadata": {},
   "source": [
    "Addition of two square matrices\n",
    "\n",
    "https://www.geeksforgeeks.org/problems/addition-of-two-square-matrices4916/1?page=1&difficulty=School&status=unsolved&sortBy=accuracy"
   ]
  },
  {
   "cell_type": "code",
   "execution_count": 28,
   "metadata": {},
   "outputs": [
    {
     "name": "stdout",
     "output_type": "stream",
     "text": [
      "[[5, 5], [5, 5]]\n",
      "[[14, 31], [23, 5]]\n"
     ]
    }
   ],
   "source": [
    "class Solution:\n",
    "\tdef Addition(self, matrixA, matrixB):\n",
    "\t\tfor i,k in enumerate(matrixA):\n",
    "\t\t\tfor j, l in enumerate(k):\n",
    "\t\t\t\tmatrixA[i][j] += matrixB[i][j]\t\t\t\t\n",
    "\n",
    "\t\tprint(f'{matrixA}')\n",
    "\t\t\n",
    "s = Solution()\n",
    "\n",
    "s.Addition([[1, 2], [3, 4]],[[4, 3], [2, 1]])\n",
    "s.Addition([[0, 1], [3, 4]],[[14, 30], [20, 1]])"
   ]
  },
  {
   "cell_type": "markdown",
   "metadata": {},
   "source": [
    "Compete the skills\n",
    "\n",
    "https://www.geeksforgeeks.org/problems/compete-the-skills5807/1?page=1&difficulty=School&status=unsolved&sortBy=accuracy"
   ]
  },
  {
   "cell_type": "code",
   "execution_count": 30,
   "metadata": {},
   "outputs": [
    {
     "name": "stdout",
     "output_type": "stream",
     "text": [
      "[1, 2]\n",
      "[0, 2]\n"
     ]
    }
   ],
   "source": [
    "class Solution:\n",
    "    def scores(self, a, b, cc):\n",
    "        for l, m in zip(a,b):\n",
    "            if l > m:\n",
    "                cc[0]+=1\n",
    "            elif m>l:\n",
    "                cc[1]+=1\n",
    "        print(cc)\n",
    "\n",
    "\n",
    "s = Solution()\n",
    "s.scores([4, 2, 7],[5, 6, 3], [0,0])\n",
    "s.scores([4, 2, 7],[5, 2, 8],[0,0])"
   ]
  },
  {
   "cell_type": "markdown",
   "metadata": {},
   "source": [
    "Multiply Array\n",
    "\n",
    "https://www.geeksforgeeks.org/problems/multiply-array-1658312632/1?page=1&difficulty=School&status=unsolved&sortBy=accuracy"
   ]
  },
  {
   "cell_type": "code",
   "execution_count": 36,
   "metadata": {},
   "outputs": [
    {
     "name": "stdout",
     "output_type": "stream",
     "text": [
      "120\n"
     ]
    }
   ],
   "source": [
    "class Solution:\n",
    "    def longest(self, arr, n):\n",
    "        o = 1\n",
    "        for i in arr:\n",
    "            o*=i\n",
    "        \n",
    "        print(o)\n",
    "\n",
    "s= Solution()\n",
    "s.longest([1,2,3,4,5], 5)\n"
   ]
  },
  {
   "cell_type": "markdown",
   "metadata": {},
   "source": [
    "Area of Rectangle, Right Angled Triangle and Circle\n",
    "\n",
    "https://www.geeksforgeeks.org/problems/area-of-rectange-right-angled-triangle-and-circle2600/1?page=1&difficulty=School&status=unsolved&sortBy=accuracy"
   ]
  },
  {
   "cell_type": "code",
   "execution_count": 40,
   "metadata": {},
   "outputs": [
    {
     "name": "stdout",
     "output_type": "stream",
     "text": [
      "(1024, 324, 8490)\n"
     ]
    }
   ],
   "source": [
    "class Solution:\n",
    "    def getAreas(self, L , W , B , H , R):\n",
    "        o = L*W, int(0.5*B*H), int(3.14*(R**2))\n",
    "        print(o)\n",
    "\n",
    "s = Solution()\n",
    "s.getAreas( L = 32 , W = 32 , B = 54 ,H = 12 , R = 52)"
   ]
  },
  {
   "cell_type": "markdown",
   "metadata": {},
   "source": [
    "Parallel or Perpendicular? (repeat)\n",
    "\n",
    "https://www.geeksforgeeks.org/problems/parallel-or-perpendicular4257/1?page=1&difficulty=School&status=unsolved&sortBy=accuracy"
   ]
  },
  {
   "cell_type": "code",
   "execution_count": 1,
   "metadata": {},
   "outputs": [
    {
     "ename": "ValueError",
     "evalue": "invalid literal for int() with base 10: ''",
     "output_type": "error",
     "traceback": [
      "\u001b[1;31m---------------------------------------------------------------------------\u001b[0m",
      "\u001b[1;31mValueError\u001b[0m                                Traceback (most recent call last)",
      "Cell \u001b[1;32mIn [1], line 21\u001b[0m\n\u001b[0;32m     16\u001b[0m \u001b[38;5;66;03m#{ \u001b[39;00m\n\u001b[0;32m     17\u001b[0m  \u001b[38;5;66;03m# Driver Code Starts\u001b[39;00m\n\u001b[0;32m     18\u001b[0m \u001b[38;5;66;03m#Initial Template for Python 3\u001b[39;00m\n\u001b[0;32m     20\u001b[0m \u001b[38;5;28;01mif\u001b[39;00m \u001b[38;5;18m__name__\u001b[39m \u001b[38;5;241m==\u001b[39m \u001b[38;5;124m'\u001b[39m\u001b[38;5;124m__main__\u001b[39m\u001b[38;5;124m'\u001b[39m:\n\u001b[1;32m---> 21\u001b[0m \tT\u001b[38;5;241m=\u001b[39m\u001b[38;5;28;43mint\u001b[39;49m\u001b[43m(\u001b[49m\u001b[38;5;28;43minput\u001b[39;49m\u001b[43m(\u001b[49m\u001b[43m)\u001b[49m\u001b[43m)\u001b[49m\n\u001b[0;32m     22\u001b[0m \t\u001b[38;5;28;01mfor\u001b[39;00m i \u001b[38;5;129;01min\u001b[39;00m \u001b[38;5;28mrange\u001b[39m(T):\n\u001b[0;32m     23\u001b[0m \t\tA \u001b[38;5;241m=\u001b[39m \u001b[38;5;28mlist\u001b[39m(\u001b[38;5;28mmap\u001b[39m(\u001b[38;5;28mint\u001b[39m, \u001b[38;5;28minput\u001b[39m()\u001b[38;5;241m.\u001b[39msplit()))\n",
      "\u001b[1;31mValueError\u001b[0m: invalid literal for int() with base 10: ''"
     ]
    }
   ],
   "source": [
    "#User function Template for python3\n",
    "\n",
    "class Solution:\n",
    "\tdef find(self, A, B):\n",
    "\t\t# Code here\n",
    "\t\ta1, a2, a3 = A\n",
    "\t\tb1, b2, b3 = B\n",
    "\t\tif ((a2*b3-a3*b2)**2 + (a1*b3-b1*a3)**2 + (a1*b2-a2*b1)**2)  == 0: # parallel >>> Here is a bug if i use >>>if ((a2*b3-a3*b2)2 + (a1*b3-b1*a3)2 + (a1*b2-a2*b1))  == 0\n",
    "\t\t    return 1\n",
    "\t\telif ((a1*b1) + (a2*b2) + (a3*b3)) ==0: # parpendicular\n",
    "\t\t    return 2\n",
    "\t\telse:\n",
    "\t\t    return 0 #otherwise\n",
    "\n",
    "\n",
    "#{ \n",
    " # Driver Code Starts\n",
    "#Initial Template for Python 3\n",
    "\n",
    "# if __name__ == '__main__':\n",
    "# \tT=int(input())\n",
    "# \tfor i in range(T):\n",
    "# \t\tA = list(map(int, input().split()))\n",
    "# \t\tB = list(map(int,input().split()))\n",
    "# \t\tob = Solution()\n",
    "# \t\tans = ob.find(A, B)\n",
    "# \t\tprint(ans)\n",
    "# } Driver Code Ends"
   ]
  },
  {
   "cell_type": "markdown",
   "metadata": {},
   "source": [
    "Search in Rotated Sorted Arra (repeat)\n",
    "\n",
    "https://www.geeksforgeeks.org/problems/search-in-a-rotated-array4618/1"
   ]
  },
  {
   "cell_type": "code",
   "execution_count": null,
   "metadata": {},
   "outputs": [],
   "source": [
    "def search_rotated_array(arr, key):\n",
    "    left, right = 0, len(arr) - 1\n",
    "    \n",
    "    while left <= right:\n",
    "        mid = (left + right) // 2\n",
    "        \n",
    "        if arr[mid] == key:\n",
    "            return mid\n",
    "        \n",
    "        # Determine which side is sorted\n",
    "        if arr[left] <= arr[mid]:  # Left half is sorted\n",
    "            if arr[left] <= key < arr[mid]:\n",
    "                right = mid - 1\n",
    "            else:\n",
    "                left = mid + 1\n",
    "        else:  # Right half is sorted\n",
    "            if arr[mid] < key <= arr[right]:\n",
    "                left = mid + 1\n",
    "            else:\n",
    "                right = mid - 1\n",
    "    \n",
    "    return -1\n",
    "\n",
    "# Example usage\n",
    "arr1 = [5, 6, 7, 8, 9, 10, 1, 2, 3]\n",
    "key1 = 10\n",
    "print(search_rotated_array(arr1, key1))  # Output: 5\n",
    "\n",
    "arr2 = [3, 5, 1, 2]\n",
    "key2 = 6\n",
    "print(search_rotated_array(arr2, key2))  # Output: -1\n"
   ]
  },
  {
   "cell_type": "markdown",
   "metadata": {},
   "source": [
    "### Closest Three Sum (repeat)\n",
    "\n",
    "https://www.geeksforgeeks.org/problems/three-sum-closest/1\n",
    "\n",
    "Given an array, arr of integers, and another number target, find three integers in the array such that their sum is closest to the target. Return the sum of the three integers.\n",
    "\n",
    "Note: If there are multiple solutions, return the maximum one.\n",
    "\n",
    "Examples :\n",
    "\n",
    "    Input: arr[] = [-7, 9, 8, 3, 1, 1], target = 2\n",
    "    Output: 2\n",
    "    Explanation: There is only one triplet present in the array where elements are -7,8,1 whose sum is 2.\n",
    "\n",
    "    Input: arr[] = [5, 2, 7, 5], target = 13\n",
    "    Output: 14\n",
    "    Explanation: There is one triplet with sum 12 and other with sum 14 in the array. Triplet elements are 5, 2, 5 and 2, 7, 5 respectively. Since abs(13-12) ==abs(13-14) maximum triplet sum will be preferred i.e 14."
   ]
  },
  {
   "cell_type": "code",
   "execution_count": 1,
   "metadata": {},
   "outputs": [
    {
     "name": "stdout",
     "output_type": "stream",
     "text": [
      "2\n",
      "14\n"
     ]
    }
   ],
   "source": [
    "def threeSumClosest(arr, target):\n",
    "    arr.sort()\n",
    "    closest_sum = float('inf')\n",
    "    \n",
    "    for i in range(len(arr) - 2):\n",
    "        left = i + 1\n",
    "        right = len(arr) - 1\n",
    "        \n",
    "        while left < right:\n",
    "            current_sum = arr[i] + arr[left] + arr[right]\n",
    "            \n",
    "            # Update the closest sum if the current sum is closer to the target\n",
    "            if abs(current_sum - target) < abs(closest_sum - target):\n",
    "                closest_sum = current_sum\n",
    "            # If the current sum is equally close, choose the maximum one\n",
    "            elif abs(current_sum - target) == abs(closest_sum - target):\n",
    "                closest_sum = max(closest_sum, current_sum)\n",
    "            \n",
    "            if current_sum < target:\n",
    "                left += 1\n",
    "            elif current_sum > target:\n",
    "                right -= 1\n",
    "            else:\n",
    "                # If the current sum is exactly the target, return the sum\n",
    "                return current_sum\n",
    "    \n",
    "    return closest_sum\n",
    "\n",
    "# Example usage:\n",
    "arr1 = [-7, 9, 8, 3, 1, 1]\n",
    "target1 = 2\n",
    "print(threeSumClosest(arr1, target1))  # Output: 2\n",
    "\n",
    "arr2 = [5, 2, 7, 5]\n",
    "target2 = 13\n",
    "print(threeSumClosest(arr2, target2))  # Output: 14\n"
   ]
  },
  {
   "cell_type": "markdown",
   "metadata": {},
   "source": [
    "### Largest square formed in a matrix (repeat)\n",
    "\n",
    "https://www.geeksforgeeks.org/problems/largest-square-formed-in-a-matrix0806/1\n",
    "\n",
    "Given a binary matrix mat of size n * m, find out the maximum length of a side of a square sub-matrix with all 1s.\n",
    "\n",
    "Examples:\n",
    "\n",
    "       Input: n = 6, m = 5\n",
    "       mat = [[0, 1, 1, 0, 1], \n",
    "              [1, 1, 0, 1, 0],\n",
    "              [0, 1, 1, 1, 0],\n",
    "              [1, 1, 1, 1, 0],\n",
    "              [1, 1, 1, 1, 1],\n",
    "              [0, 0, 0, 0, 0]]\n",
    "       Output: 3\n",
    "       Explanation: \n",
    "\n",
    "       The maximum length of a side of the square sub-matrix is 3 where every element is 1.\n",
    "       Input: n = 2, m = 2\n",
    "       mat = [[1, 1], \n",
    "              [1, 1]]\n",
    "       Output: 2\n",
    "       Explanation: The maximum length of a side of the square sub-matrix is 2. The matrix itself is the maximum sized sub-matrix in this case.\n",
    "       Input: n = 2, m = 2\n",
    "       mat = [[0, 0], \n",
    "              [0, 0]]\n",
    "       Output: 0\n",
    "       Explanation: There is no 1 in the matrix."
   ]
  },
  {
   "cell_type": "code",
   "execution_count": 4,
   "metadata": {},
   "outputs": [],
   "source": [
    "from typing import List\n",
    "\n",
    "\n",
    "class Solution:\n",
    "    def maxSquare(self, n : int, m : int, mat : List[List[int]]) -> int:\n",
    "        for m in mat:\n",
    "            p = -1\n",
    "            mp = -1\n",
    "            for i, k in enumerate(m):\n",
    "                if k == 1:\n",
    "                    p = i\n",
    "\n",
    "\n",
    "\n",
    "mat = [[0, 1, 1, 0, 1], \n",
    "       [1, 1, 0, 1, 0],\n",
    "       [0, 1, 1, 1, 0],\n",
    "       [1, 1, 1, 1, 0],\n",
    "       [1, 1, 1, 1, 1],\n",
    "       [0, 0, 0, 0, 0]]\n",
    "s = Solution()            \n",
    "s.maxSquare( n = 6, m = 5,mat=mat)"
   ]
  },
  {
   "cell_type": "code",
   "execution_count": 9,
   "metadata": {},
   "outputs": [
    {
     "name": "stdout",
     "output_type": "stream",
     "text": [
      "[0, 1, 1, 0, 1]\n",
      "[1, 1, 0, 1, 0]\n",
      "[0, 1, 1, 1, 1]\n",
      "[1, 1, 2, 2, 2]\n",
      "[1, 2, 2, 3, 3]\n",
      "[0, 0, 0, 0, 0]\n",
      "3\n",
      "[1, 1]\n",
      "[1, 2]\n",
      "2\n",
      "[0, 0]\n",
      "[0, 0]\n",
      "0\n"
     ]
    }
   ],
   "source": [
    "def maxSquareSubmatrixSide(n, m, mat):\n",
    "    # Edge case for empty matrix\n",
    "    if n == 0 or m == 0:\n",
    "        return 0\n",
    "\n",
    "    # Initialize a DP table with the same dimensions as the matrix\n",
    "    dp = [[0] * m for _ in range(n)]\n",
    "    max_side_length = 0\n",
    "\n",
    "    # Fill the DP table\n",
    "    for i in range(n):\n",
    "        for j in range(m):\n",
    "            if mat[i][j] == 1:\n",
    "                if i == 0 or j == 0:\n",
    "                    # On the first row or first column, max size of square is just the matrix element itself\n",
    "                    dp[i][j] = 1\n",
    "                else:\n",
    "                    # Fill dp[i][j] using the recurrence relation\n",
    "                    dp[i][j] = min(dp[i-1][j], dp[i][j-1], dp[i-1][j-1]) + 1\n",
    "                # Update the maximum length of a side of the square sub-matrix\n",
    "                max_side_length = max(max_side_length, dp[i][j])\n",
    "\n",
    "    [print(d) for d in dp]\n",
    "\n",
    "    return max_side_length\n",
    "\n",
    "# Example usage\n",
    "n1, m1 = 6, 5\n",
    "mat1 = [[0, 1, 1, 0, 1], \n",
    "        [1, 1, 0, 1, 0],\n",
    "        [0, 1, 1, 1, 1],\n",
    "        [1, 1, 1, 1, 1],\n",
    "        [1, 1, 1, 1, 1],\n",
    "        [0, 0, 0, 0, 0]]\n",
    "print(maxSquareSubmatrixSide(n1, m1, mat1))  # Output: 3\n",
    "\n",
    "n2, m2 = 2, 2\n",
    "mat2 = [[1, 1], \n",
    "        [1, 1]]\n",
    "print(maxSquareSubmatrixSide(n2, m2, mat2))  # Output: 2\n",
    "\n",
    "n3, m3 = 2, 2\n",
    "mat3 = [[0, 0], \n",
    "        [0, 0]]\n",
    "print(maxSquareSubmatrixSide(n3, m3, mat3))  # Output: 0\n"
   ]
  },
  {
   "cell_type": "markdown",
   "metadata": {},
   "source": [
    "### Binary representation\n",
    "\n",
    "https://www.geeksforgeeks.org/problems/binary-representation5003/1?page=1&difficulty=School&status=unsolved&sortBy=accuracy\n",
    "\n",
    "Write a program to print Binary representation of a given number N.\n",
    "\n",
    "Example 1:\n",
    "\n",
    "    Input:\n",
    "    N = 2\n",
    "    Output:\n",
    "    000000000000000000000000000010\n",
    "    Explanation:\n",
    "    The binary representation of 2 is '10'\n",
    "    but we need to print in 30 bits so append\n",
    "    remaining 0's in the left.\n",
    "\n",
    "Example 2:\n",
    "\n",
    "    Input:\n",
    "    N = 5\n",
    "    Output:\n",
    "    000000000000000000000000000101\n",
    "    Explanation:\n",
    "    The binary representation of 5 is '101'.\n",
    "\n",
    "Your Task:  \n",
    "    You don't need to read input or print anything. Your task is to complete the function getBinaryRep() which takes an Integer N as input parameter and returns a string of size 30 which is the binary representation of N.\n",
    "\n",
    "Expected Time Complexity: O(LogN)\n",
    "\n",
    "Expected Auxiliary Space: O(1)\n",
    "\n",
    "Constraints:\n",
    "\n",
    "1 ≤ N ≤ 10^9"
   ]
  },
  {
   "cell_type": "code",
   "execution_count": 16,
   "metadata": {},
   "outputs": [
    {
     "name": "stdout",
     "output_type": "stream",
     "text": [
      "------------------------10------------------------\n",
      "10----------------------------\n",
      "----------------------------10\n",
      "000000000000000000000000000010\n",
      "000000000000000000000000000101\n"
     ]
    }
   ],
   "source": [
    "class Solution:\n",
    "\tdef getBinaryRep(self, n):\n",
    "\t\t# code here\n",
    "\t\tpass\n",
    "\t\n",
    "s = '10'\n",
    "print(s.center(50,\"-\"))\n",
    "print(s.ljust(30, \"-\"))\n",
    "print(s.rjust(30, '-'))\n",
    "print(s.rjust(30, '0'))\n",
    "\n",
    "print(bin(5)[2:].rjust(30, '0'))"
   ]
  },
  {
   "cell_type": "markdown",
   "metadata": {},
   "source": [
    "### Cube root of a number\n",
    "\n",
    "https://www.geeksforgeeks.org/problems/cube-root-of-a-number0915/1?page=1&difficulty=School&status=unsolved&sortBy=accuracy\n",
    "\n",
    "Given a number N, find the cube root of N.\n",
    "\n",
    "Note: We need to print the floor value of the result.\n",
    "\n",
    " \n",
    "\n",
    "Example 1:\n",
    "\n",
    "    Input:\n",
    "    N = 3\n",
    "    Output:\n",
    "    1\n",
    "    Explanation:\n",
    "    Cube root of 3 is 1.442 = 1\n",
    "\n",
    "Example 2:\n",
    "\n",
    "    Input:\n",
    "    N = 8\n",
    "    Output:\n",
    "    2\n",
    "    Explanation:\n",
    "    Cube root of 8 is 2\n",
    " \n",
    "\n",
    "Your Task:\n",
    "\n",
    "You don't need to read input or print anything. Your task is to complete the function cubeRoot() which takes a Integer N as input and returns the answer.\n",
    "\n",
    " \n",
    "\n",
    "    Expected Time Complexity: O(cube root of N)\n",
    "    Expected Auxiliary Space: O(1)\n",
    "\n",
    " \n",
    "\n",
    "Constraints:\n",
    "\n",
    "1 <= N <= 105\n",
    "\n"
   ]
  },
  {
   "cell_type": "code",
   "execution_count": 18,
   "metadata": {},
   "outputs": [
    {
     "name": "stdout",
     "output_type": "stream",
     "text": [
      "1\n"
     ]
    }
   ],
   "source": [
    "from math import floor\n",
    "class Solution:\n",
    "    def cubeRoot(self, N):\n",
    "        return floor(pow(N, 1/3))\n",
    "    \n",
    "s = Solution()\n",
    "\n",
    "print(s.cubeRoot(3))"
   ]
  },
  {
   "cell_type": "markdown",
   "metadata": {},
   "source": [
    "### Kadane's Algorithm (repeat)\n",
    "\n",
    "https://www.geeksforgeeks.org/problems/kadanes-algorithm-1587115620/1?page=1&sortBy=submissions\n",
    "\n",
    "Given an integer array arr[]. Find the contiguous sub-array(containing at least one number) that has the maximum sum and return its sum.\n",
    "\n",
    "Examples:\n",
    "\n",
    "    Input: arr[] = [1, 2, 3, -2, 5]\n",
    "    Output: 9\n",
    "    Explanation: Max subarray sum is 9 of elements (1, 2, 3, -2, 5) which is a contiguous subarray.\n",
    "\n",
    "    Input: arr[] = [-1, -2, -3, -4]\n",
    "    Output: -1\n",
    "    Explanation: Max subarray sum is -1 of element (-1)\n",
    "\n",
    "    Input: arr[] = [5, 4, 7]\n",
    "    Output: 16\n",
    "\n",
    "    Explanation: Max subarray sum is 16 of element (5, 4, 7)\n",
    "\n",
    "- Expected Time Complexity: O(n)\n",
    "- Expected Auxiliary Space: O(1)\n",
    "\n",
    "Constraints:\n",
    "\n",
    "- -107 ≤ arr[i] ≤ 107\n",
    "- 1 ≤ arr.length ≤ 106\n"
   ]
  },
  {
   "cell_type": "code",
   "execution_count": 1,
   "metadata": {},
   "outputs": [
    {
     "name": "stdout",
     "output_type": "stream",
     "text": [
      "Maximum contiguous sum is 7\n"
     ]
    }
   ],
   "source": [
    "def GFG(a, size):\n",
    "    max_so_far = float('-inf')  \n",
    "    # Use float('-inf') instead of maxint\n",
    "    max_ending_here = 0\n",
    "    for i in range(0, size):\n",
    "        max_ending_here = max_ending_here + a[i]\n",
    "        if max_so_far < max_ending_here:\n",
    "            max_so_far = max_ending_here\n",
    "        if max_ending_here < 0:\n",
    "            max_ending_here = 0\n",
    "    return max_so_far\n",
    "# Driver function to check the above function\n",
    "a = [-2, -3, 4, -1, -2, 1, 5, -3]\n",
    "print(\"Maximum contiguous sum is\", GFG(a, len(a)))\n"
   ]
  },
  {
   "cell_type": "markdown",
   "metadata": {},
   "source": [
    "### Maximum Connected group\n",
    "\n",
    "https://www.geeksforgeeks.org/problems/maximum-connected-group/1\n",
    "\n",
    "You are given a square binary grid. A grid is considered binary if every value in the grid is either 1 or 0. You can change at most one cell in the grid from 0 to 1. You need to find the largest group of connected  1's. Two cells are said to be connected if both are adjacent(top, bottom, left, right) to each other and both have the same value.\n",
    "\n",
    "Examples :\n",
    "\n",
    "    Input: grid = [1, 1]\n",
    "                [0, 1]\n",
    "    Output: 4\n",
    "    Explanation: By changing cell (2,1), we can obtain a connected group of 4 1's\n",
    "    [1, 1]\n",
    "    [1, 1]\n",
    "    Input: grid = [1, 0, 1]\n",
    "                [1, 0, 1]\n",
    "                [1, 0, 1]\n",
    "    Output: 7\n",
    "    Explanation: By changing cell (3,2), we can obtain a connected group of 7 1's\n",
    "    [1, 0, 1]\n",
    "    [1, 0, 1]\n",
    "    [1, 1, 1]\n",
    "- Expected Time Complexity: O(n2)\n",
    "- Expected Auxiliary Space: O(n2)\n",
    "\n",
    "Constraints:\n",
    "- 1 <= size of the grid<= 500\n",
    "- 0 <= grid[i][j] <= 1"
   ]
  },
  {
   "cell_type": "code",
   "execution_count": 1,
   "metadata": {},
   "outputs": [
    {
     "name": "stdout",
     "output_type": "stream",
     "text": [
      "4\n",
      "7\n"
     ]
    }
   ],
   "source": [
    "def largest_connected_ones(grid):\n",
    "    n = len(grid)\n",
    "    visited = [[False] * n for _ in range(n)]\n",
    "    component_size = []\n",
    "    component_id = [[-1] * n for _ in range(n)]\n",
    "\n",
    "    def dfs(x, y, comp_id):\n",
    "        stack = [(x, y)]\n",
    "        size = 0\n",
    "        while stack:\n",
    "            cx, cy = stack.pop()\n",
    "            if visited[cx][cy]:\n",
    "                continue\n",
    "            visited[cx][cy] = True\n",
    "            component_id[cx][cy] = comp_id\n",
    "            size += 1\n",
    "            for dx, dy in [(-1, 0), (1, 0), (0, -1), (0, 1)]:\n",
    "                nx, ny = cx + dx, cy + dy\n",
    "                if 0 <= nx < n and 0 <= ny < n and not visited[nx][ny] and grid[nx][ny] == 1:\n",
    "                    stack.append((nx, ny))\n",
    "        return size\n",
    "\n",
    "    # Identify and label all components\n",
    "    comp_id = 0\n",
    "    for i in range(n):\n",
    "        for j in range(n):\n",
    "            if grid[i][j] == 1 and not visited[i][j]:\n",
    "                size = dfs(i, j, comp_id)\n",
    "                component_size.append(size)\n",
    "                comp_id += 1\n",
    "\n",
    "    max_connected = max(component_size, default=0)\n",
    "\n",
    "    # Evaluate each 0 cell for potential maximum component size\n",
    "    for i in range(n):\n",
    "        for j in range(n):\n",
    "            if grid[i][j] == 0:\n",
    "                neighboring_components = set()\n",
    "                for dx, dy in [(-1, 0), (1, 0), (0, -1), (0, 1)]:\n",
    "                    ni, nj = i + dx, j + dy\n",
    "                    if 0 <= ni < n and 0 <= nj < n and grid[ni][nj] == 1:\n",
    "                        neighboring_components.add(component_id[ni][nj])\n",
    "                \n",
    "                new_size = 1  # We change grid[i][j] from 0 to 1\n",
    "                for cid in neighboring_components:\n",
    "                    new_size += component_size[cid]\n",
    "                \n",
    "                max_connected = max(max_connected, new_size)\n",
    "\n",
    "    return max_connected\n",
    "\n",
    "# Example usage:\n",
    "grid1 = [\n",
    "    [1, 1],\n",
    "    [0, 1]\n",
    "]\n",
    "print(largest_connected_ones(grid1))  # Output: 4\n",
    "\n",
    "grid2 = [\n",
    "    [1, 0, 1],\n",
    "    [1, 0, 1],\n",
    "    [1, 0, 1]\n",
    "]\n",
    "print(largest_connected_ones(grid2))  # Output: 7\n"
   ]
  },
  {
   "cell_type": "code",
   "execution_count": null,
   "metadata": {},
   "outputs": [],
   "source": [
    "from typing import List\n",
    "\n",
    "\n",
    "class Solution:\n",
    "    def MaxConnection(self, grid : List[List[int]]) -> int:\n",
    "        n = len(grid)\n",
    "        visited = [[False] * n for _ in range(n)]\n",
    "        component_size = []\n",
    "        component_id = [[-1] * n for _ in range(n)]\n",
    "\n",
    "        def dfs(x, y, comp_id):\n",
    "            stack = [(x, y)]\n",
    "            size = 0\n",
    "            while stack:\n",
    "                cx, cy = stack.pop()\n",
    "                if visited[cx][cy]:\n",
    "                    continue\n",
    "                visited[cx][cy] = True\n",
    "                component_id[cx][cy] = comp_id\n",
    "                size += 1\n",
    "                for dx, dy in [(-1, 0), (1, 0), (0, -1), (0, 1)]:\n",
    "                    nx, ny = cx + dx, cy + dy\n",
    "                    if 0 <= nx < n and 0 <= ny < n and not visited[nx][ny] and grid[nx][ny] == 1:\n",
    "                        stack.append((nx, ny))\n",
    "            return size\n",
    "\n",
    "        # Identify and label all components\n",
    "        comp_id = 0\n",
    "        for i in range(n):\n",
    "            for j in range(n):\n",
    "                if grid[i][j] == 1 and not visited[i][j]:\n",
    "                    size = dfs(i, j, comp_id)\n",
    "                    component_size.append(size)\n",
    "                    comp_id += 1\n"
   ]
  },
  {
   "cell_type": "markdown",
   "metadata": {},
   "source": [
    "### Root to leaf path sum (repeat)\n",
    "\n",
    "https://www.geeksforgeeks.org/problems/root-to-leaf-path-sum/1\n",
    "\n",
    "Given a binary tree and an integer target, check whether there is a root-to-leaf path with its sum as target.\n",
    "\n",
    "Examples :\n",
    "\n",
    "    Input: tree = 1, target = 2\n",
    "                /   \\\n",
    "            2     3\n",
    "    Output: false\n",
    "    Explanation: There is no root to leaf path with sum 2.\n",
    "    Input: tree = 1,  target = 4\n",
    "                /   \\\n",
    "            2     3\n",
    "    Output: true\n",
    "    Explanation: The sum of path from leaf node 3 to root 1 is 4.\n",
    "    Expected Time Complexity: O(n)\n",
    "    Expected Auxiliary Space: O(height of tree)\n",
    "\n",
    "Constraints:\n",
    "- 1 ≤ number of nodes ≤ 104\n",
    "- 1 ≤ target ≤ 106"
   ]
  },
  {
   "cell_type": "code",
   "execution_count": 1,
   "metadata": {},
   "outputs": [
    {
     "name": "stdout",
     "output_type": "stream",
     "text": [
      "False\n",
      "True\n"
     ]
    }
   ],
   "source": [
    "class Node:\n",
    "    def __init__(self, val):\n",
    "        self.data = val\n",
    "        self.left = None\n",
    "        self.right = None\n",
    "\n",
    "class Solution:\n",
    "    def hasPathSum(self, root, target):\n",
    "        # Helper function to recursively check the path sum\n",
    "        def dfs(node, current_sum):\n",
    "            if not node:\n",
    "                return False\n",
    "            \n",
    "            current_sum += node.data\n",
    "            \n",
    "            # Check if it's a leaf node\n",
    "            if not node.left and not node.right:\n",
    "                return current_sum == target\n",
    "            \n",
    "            # Recursively check left and right subtrees\n",
    "            return dfs(node.left, current_sum) or dfs(node.right, current_sum)\n",
    "        \n",
    "        # Initialize the recursion\n",
    "        return dfs(root, 0)\n",
    "\n",
    "# Example usage:\n",
    "# Constructing the tree\n",
    "#         1\n",
    "#        / \\\n",
    "#       2   3\n",
    "root1 = Node(1)\n",
    "root1.left = Node(2)\n",
    "root1.right = Node(3)\n",
    "\n",
    "# Solution instance\n",
    "sol = Solution()\n",
    "\n",
    "# Test cases\n",
    "print(sol.hasPathSum(root1, 2))  # Output: False\n",
    "print(sol.hasPathSum(root1, 4))  # Output: True\n"
   ]
  },
  {
   "cell_type": "markdown",
   "metadata": {},
   "source": [
    "### Shortest Path in Weighted undirected graph (repat)\n",
    "\n",
    "https://www.geeksforgeeks.org/problems/shortest-path-in-weighted-undirected-graph/1\n",
    "\n",
    "Difficulty: MediumAccuracy: 50.0%Submissions: 45K+Points: 4\n",
    "You are given a weighted undirected graph having n vertices numbered from 1 to n and m edges along with their weights. Find the shortest path between the vertex 1 and the vertex n,  if there exists a path, and return a list of integers whose first element is the weight of the path, and the rest consist of the nodes on that path. If no path exists, then return a list containing a single element -1.\n",
    "\n",
    "The input list of edges is as follows - {a, b, w}, denoting there is an edge between a and b, and w is the weight of that edge.\n",
    "\n",
    "Note: The driver code here will first check if the weight of the path returned is equal to the sum of the weights along the nodes on that path, if equal it will output the weight of the path, else -2. In case the list contains only a single element (-1) it will simply output -1. \n",
    "\n",
    "Examples :\n",
    "\n",
    "    Input: n = 5, m= 6, edges = [[1, 2, 2], [2, 5, 5], [2, 3, 4], [1, 4, 1], [4, 3, 3], [3, 5, 1]]\n",
    "    Output: 5\n",
    "    Explanation: Shortest path from 1 to n is by the path 1 4 3 5 whose weight is 5. \n",
    "    Input: n = 2, m= 1, edges = [[1, 2, 2]]\n",
    "    Output: 2\n",
    "    Explanation: Shortest path from 1 to 2 is by the path 1 2 whose weight is 2. \n",
    "    Input: n = 2, m= 0, edges = [ ]\n",
    "    Output: -1\n",
    "    Explanation: Since there are no edges, so no answer is possible.\n",
    "    Expected Time Complexity: O(m* log(n))\n",
    "    Expected Space Complexity: O(n+m)\n",
    "\n",
    "Constraint:\n",
    "- 2 <= n <= 106\n",
    "- 0 <= m <= 106\n",
    "- 1 <= a, b <= n\n",
    "- 1 <= w <= 105"
   ]
  },
  {
   "cell_type": "code",
   "execution_count": 2,
   "metadata": {},
   "outputs": [
    {
     "name": "stdout",
     "output_type": "stream",
     "text": [
      "[5, 1, 4, 3, 5]\n"
     ]
    }
   ],
   "source": [
    "import heapq\n",
    "from collections import defaultdict, deque\n",
    "\n",
    "def shortest_path(n, m, edges):\n",
    "    # Step 1: Create the graph\n",
    "    graph = defaultdict(list)\n",
    "    for a, b, w in edges:\n",
    "        graph[a].append((b, w))\n",
    "        graph[b].append((a, w))\n",
    "    \n",
    "    # Step 2: Initialize the priority queue and distance array\n",
    "    pq = [(0, 1)]  # (distance, node)\n",
    "    distances = {i: float('inf') for i in range(1, n+1)}\n",
    "    distances[1] = 0\n",
    "    parent = {i: None for i in range(1, n+1)}\n",
    "    \n",
    "    while pq:\n",
    "        current_distance, current_node = heapq.heappop(pq)\n",
    "        \n",
    "        if current_distance > distances[current_node]:\n",
    "            continue\n",
    "        \n",
    "        for neighbor, weight in graph[current_node]:\n",
    "            distance = current_distance + weight\n",
    "            \n",
    "            if distance < distances[neighbor]:\n",
    "                distances[neighbor] = distance\n",
    "                parent[neighbor] = current_node\n",
    "                heapq.heappush(pq, (distance, neighbor))\n",
    "    \n",
    "    # Step 3: Reconstruct the path\n",
    "    if distances[n] == float('inf'):\n",
    "        return [-1]\n",
    "    \n",
    "    path = deque()\n",
    "    current_node = n\n",
    "    while current_node is not None:\n",
    "        path.appendleft(current_node)\n",
    "        current_node = parent[current_node]\n",
    "    \n",
    "    return [distances[n]] + list(path)\n",
    "\n",
    "# Example usage\n",
    "n = 5\n",
    "m = 6\n",
    "edges = [\n",
    "    [1, 2, 2],\n",
    "    [2, 5, 5],\n",
    "    [2, 3, 4],\n",
    "    [1, 4, 1],\n",
    "    [4, 3, 3],\n",
    "    [3, 5, 1]\n",
    "]\n",
    "\n",
    "print(shortest_path(n, m, edges))  # Output: [5, 1, 4, 3, 5]\n"
   ]
  },
  {
   "cell_type": "code",
   "execution_count": 3,
   "metadata": {},
   "outputs": [
    {
     "name": "stdout",
     "output_type": "stream",
     "text": [
      "[5, 1, 4, 3, 5]\n"
     ]
    }
   ],
   "source": [
    "from typing import List\n",
    "import heapq\n",
    "from collections import defaultdict, deque\n",
    "\n",
    "class Solution:\n",
    "    def shortestPath(self, n: int, m: int, edges: List[List[int]]) -> List[int]:\n",
    "        # Step 1: Create the graph\n",
    "        graph = defaultdict(list)\n",
    "        for a, b, w in edges:\n",
    "            graph[a].append((b, w))\n",
    "            graph[b].append((a, w))\n",
    "        \n",
    "        # Step 2: Initialize the priority queue and distance array\n",
    "        pq = [(0, 1)]  # (distance, node)\n",
    "        distances = {i: float('inf') for i in range(1, n+1)}\n",
    "        distances[1] = 0\n",
    "        parent = {i: None for i in range(1, n+1)}\n",
    "        \n",
    "        while pq:\n",
    "            current_distance, current_node = heapq.heappop(pq)\n",
    "            \n",
    "            if current_distance > distances[current_node]:\n",
    "                continue\n",
    "            \n",
    "            for neighbor, weight in graph[current_node]:\n",
    "                distance = current_distance + weight\n",
    "                \n",
    "                if distance < distances[neighbor]:\n",
    "                    distances[neighbor] = distance\n",
    "                    parent[neighbor] = current_node\n",
    "                    heapq.heappush(pq, (distance, neighbor))\n",
    "        \n",
    "        # Step 3: Reconstruct the path\n",
    "        if distances[n] == float('inf'):\n",
    "            return [-1]\n",
    "        \n",
    "        path = deque()\n",
    "        current_node = n\n",
    "        while current_node is not None:\n",
    "            path.appendleft(current_node)\n",
    "            current_node = parent[current_node]\n",
    "        \n",
    "        return [distances[n]] + list(path)\n",
    "\n",
    "# Example usage\n",
    "solution = Solution()\n",
    "n = 5\n",
    "m = 6\n",
    "edges = [\n",
    "    [1, 2, 2],\n",
    "    [2, 5, 5],\n",
    "    [2, 3, 4],\n",
    "    [1, 4, 1],\n",
    "    [4, 3, 3],\n",
    "    [3, 5, 1]\n",
    "]\n",
    "\n",
    "print(solution.shortestPath(n, m, edges))  # Output: [5, 1, 4, 3, 5]\n"
   ]
  },
  {
   "cell_type": "markdown",
   "metadata": {},
   "source": [
    "### Segregate 0s and 1s (repeat)\n",
    "\n",
    "https://www.geeksforgeeks.org/problems/segregate-0s-and-1s5106/1\n",
    "\n",
    "Given an array arr consisting of only 0's and 1's in random order. Modify the array in-place to segregate 0s onto the left side and 1s onto the right side of the array.\n",
    "\n",
    "Examples :\n",
    "\n",
    "    Input: arr[] = [0, 0, 1, 1, 0]\n",
    "    Output: [0, 0, 0, 1, 1]\n",
    "    Explanation:  After segregation, all the 0's are on the left and 1's are on the right. Modified array will be [0, 0, 0, 1, 1].\n",
    "    Input: arr[] = [1, 1, 1, 1]\n",
    "    Output: [1, 1, 1, 1]\n",
    "    Explanation: There are no 0s in the given array, so the modified array is [1, 1, 1, 1]\n",
    "    Expected Time Complexity: O(n)\n",
    "    Expected Auxiliary Space: O(1)\n",
    "\n",
    "Constraints:\n",
    "- 1 ≤ arr.size() ≤ 106\n",
    "- 0 ≤ arr[i] ≤ 1"
   ]
  },
  {
   "cell_type": "code",
   "execution_count": 18,
   "metadata": {},
   "outputs": [
    {
     "name": "stdout",
     "output_type": "stream",
     "text": [
      "i: 0\n",
      "i: 0\n",
      "i: 1\n",
      "j: 3: 1, 3\n",
      "[0, 0, 0, 1, 1]\n",
      "i: 1\n",
      "j: 1: 1, 4\n",
      "j: 2: 1, 4\n",
      "j: 3: 1, 4\n",
      "i: 1\n",
      "j: 2: 1, 3\n",
      "j: 3: 1, 3\n",
      "i: 1\n",
      "j: 3: 1, 2\n",
      "i: 1\n",
      "[1, 1, 1, 1]\n",
      "i: 1\n",
      "j: 1: 1, 4\n",
      "j: 2: 1, 4\n",
      "[0, 1, 1, 1]\n"
     ]
    }
   ],
   "source": [
    "class Solution:\n",
    "    def segregate0and1(self, arr):\n",
    "        for i in range(len(arr)):\n",
    "            print(f'i: {arr[i]}')\n",
    "            if arr[i] == 1:\n",
    "                f = False\n",
    "                for j in range(i+1, len(arr)):\n",
    "                    if arr[j]==0:\n",
    "                        arr[i], arr[j] =  arr[j], arr[i]\n",
    "                        f = True\n",
    "                        break\n",
    "                    print(f'j: {j}: {arr[j]}, {len(arr[i:])}')\n",
    "                if f:\n",
    "                    break\n",
    "        \n",
    "        return arr\n",
    "\n",
    "\n",
    "s = Solution()\n",
    "print(s.segregate0and1([0,0,1,1,0]))\n",
    "print(s.segregate0and1([1,1,1,1]))\n",
    "print(s.segregate0and1([1,1,1,0]))"
   ]
  },
  {
   "cell_type": "code",
   "execution_count": 19,
   "metadata": {},
   "outputs": [
    {
     "name": "stdout",
     "output_type": "stream",
     "text": [
      "[0, 0, 0, 1, 1]\n",
      "[1, 1, 1, 1]\n"
     ]
    }
   ],
   "source": [
    "def segregate0sAnd1s(arr):\n",
    "    left = 0\n",
    "    right = len(arr) - 1\n",
    "    \n",
    "    while left < right:\n",
    "        # Increment left index while we see 0 at left\n",
    "        while left < right and arr[left] == 0:\n",
    "            left += 1\n",
    "        \n",
    "        # Decrement right index while we see 1 at right\n",
    "        while left < right and arr[right] == 1:\n",
    "            right -= 1\n",
    "        \n",
    "        # If left is smaller than right then there is a 1 at left\n",
    "        # and a 0 at right. Exchange arr[left] and arr[right]\n",
    "        if left < right:\n",
    "            arr[left], arr[right] = arr[right], arr[left]\n",
    "            left += 1\n",
    "            right -= 1\n",
    "\n",
    "# Example usage:\n",
    "arr1 = [0, 0, 1, 1, 0]\n",
    "segregate0sAnd1s(arr1)\n",
    "print(arr1)  # Output: [0, 0, 0, 1, 1]\n",
    "\n",
    "arr2 = [1, 1, 1, 1]\n",
    "segregate0sAnd1s(arr2)\n",
    "print(arr2)  # Output: [1, 1, 1, 1]\n"
   ]
  },
  {
   "cell_type": "markdown",
   "metadata": {},
   "source": [
    "### Smallest number\n",
    "\n",
    "https://www.geeksforgeeks.org/problems/smallest-number5829/1\n",
    "\n",
    "Given two integers s and d. The task is to find the smallest number such that the sum of its digits is s and the number of digits in the number are d. Return a string that is the smallest possible number. If it is not possible then return -1.\n",
    "\n",
    "Examples:\n",
    "\n",
    "    Input: s = 9, d = 2\n",
    "    Output: 18 \n",
    "    Explanation: 18 is the smallest number possible with the sum of digits = 9 and total digits = 2.\n",
    "    \n",
    "    Input: s = 20, d = 3 \n",
    "    Output: 299 \n",
    "    Explanation: 299 is the smallest number possible with the sum of digits = 20 and total digits = 3.\n",
    "    Expected Time Complexity: O(d)\n",
    "    Expected Auxiliary Space: O(1)\n",
    "\n",
    "Constraints:\n",
    "- 1 ≤ s ≤ 100\n",
    "- 1 ≤ d ≤ 6"
   ]
  },
  {
   "cell_type": "code",
   "execution_count": 4,
   "metadata": {},
   "outputs": [
    {
     "name": "stdout",
     "output_type": "stream",
     "text": [
      "09\n",
      "299\n",
      "05\n",
      "-1\n"
     ]
    }
   ],
   "source": [
    "def smallestNumber(s, d):\n",
    "    # Check if the number is possible\n",
    "    if s < d or s > 9 * d:\n",
    "        return \"-1\"\n",
    "    \n",
    "    # Initialize the result array\n",
    "    result = [0] * d\n",
    "    \n",
    "    # Fill the result array from right to left\n",
    "    for i in range(d - 1, -1, -1):\n",
    "        # Place the maximum possible digit\n",
    "        if s > 9:\n",
    "            result[i] = 9\n",
    "            s -= 9\n",
    "        else:\n",
    "            result[i] = s\n",
    "            s = 0\n",
    "    \n",
    "    # Convert the result array to a string\n",
    "    return ''.join(map(str, result))\n",
    "\n",
    "# Example usage\n",
    "print(smallestNumber(9, 2))  # Output: \"18\"\n",
    "print(smallestNumber(20, 3)) # Output: \"299\"\n",
    "print(smallestNumber(5, 2))  # Output: \"14\"\n",
    "print(smallestNumber(100, 6)) # Output: \"999991\"\n"
   ]
  },
  {
   "cell_type": "code",
   "execution_count": 7,
   "metadata": {},
   "outputs": [
    {
     "name": "stdout",
     "output_type": "stream",
     "text": [
      "90\n",
      "992\n",
      "50\n",
      "-1\n"
     ]
    }
   ],
   "source": [
    "def smallestNumber(s, d):\n",
    "    # Check if the number is possible\n",
    "    if s < d or s > 9 * d:\n",
    "        return \"-1\"\n",
    "    \n",
    "    result = [0] * d\n",
    "    \n",
    "    # Fill the digits from left to right\n",
    "    for i in range(d):\n",
    "        # Find the value for the current digit\n",
    "        if s >= 9:\n",
    "            result[i] = 9\n",
    "            s -= 9\n",
    "        else:\n",
    "            result[i] = s\n",
    "            s = 0\n",
    "    \n",
    "    # Convert the result array to a string and return it\n",
    "    return ''.join(map(str, result))\n",
    "\n",
    "# Example usage\n",
    "print(smallestNumber(9, 2))  # Output: \"18\"\n",
    "print(smallestNumber(20, 3)) # Output: \"299\"\n",
    "print(smallestNumber(5, 2))  # Output: \"14\"\n",
    "print(smallestNumber(100, 6)) # Output: \"991991\"\n"
   ]
  },
  {
   "cell_type": "code",
   "execution_count": 12,
   "metadata": {},
   "outputs": [
    {
     "name": "stdout",
     "output_type": "stream",
     "text": [
      "18\n",
      "299\n",
      "14\n",
      "-1\n",
      "100000\n"
     ]
    }
   ],
   "source": [
    "def smallestNumber(s, d):\n",
    "    # Feasibility Check\n",
    "    if s < 1 or s > 9 * d:\n",
    "        return \"-1\"\n",
    "\n",
    "    result = [0] * d\n",
    "    \n",
    "    # Initially, place '1' in the most significant position to ensure no leading zeroes\n",
    "    result[0] = 1\n",
    "    s -= 1  # Decrement the sum as we have placed '1' in the first position\n",
    "    \n",
    "    # Fill remaining positions from right to left\n",
    "    for i in range(d - 1, 0, -1):\n",
    "        if s > 9:\n",
    "            result[i] = 9\n",
    "            s -= 9\n",
    "        else:\n",
    "            result[i] = s\n",
    "            s = 0\n",
    "    \n",
    "    # The remaining sum should go to the first digit\n",
    "    result[0] += s\n",
    "\n",
    "    # Convert the result array to a string and return\n",
    "    return ''.join(map(str, result))\n",
    "\n",
    "# Example usage\n",
    "print(smallestNumber(9, 2))   # Output: \"18\"\n",
    "print(smallestNumber(20, 3))  # Output: \"299\"\n",
    "print(smallestNumber(5, 2))   # Output: \"14\"\n",
    "print(smallestNumber(100, 6)) # Output: \"991999\"\n",
    "print(smallestNumber(1, 6)) # Output: \"991999\"\n"
   ]
  },
  {
   "cell_type": "code",
   "execution_count": 11,
   "metadata": {},
   "outputs": [
    {
     "name": "stdout",
     "output_type": "stream",
     "text": [
      "09\n",
      "299\n",
      "05\n",
      "-1\n",
      "-1\n"
     ]
    }
   ],
   "source": [
    "def smallestNumber(s, d):\n",
    "    # Feasibility Check\n",
    "    if s < d or s > 9 * d:\n",
    "        return \"-1\"\n",
    "    \n",
    "    # Initialize the result array\n",
    "    result = [0] * d\n",
    "    \n",
    "    # Start filling the digits from right to left\n",
    "    for i in range(d - 1, -1, -1):\n",
    "        # If the remaining sum is more than 9, place 9 in the current position\n",
    "        if s > 9:\n",
    "            result[i] = 9\n",
    "            s -= 9\n",
    "        else:\n",
    "            # Place the remaining sum in the current position\n",
    "            result[i] = s\n",
    "            s = 0\n",
    "    \n",
    "    # Convert the result array to a string and return it\n",
    "    return ''.join(map(str, result))\n",
    "\n",
    "# Example usage\n",
    "print(smallestNumber(9, 2))    # Output: \"18\"\n",
    "print(smallestNumber(20, 3))   # Output: \"299\"\n",
    "print(smallestNumber(5, 2))    # Output: \"41\"\n",
    "print(smallestNumber(100, 6))  # Output: \"999991\"\n",
    "print(smallestNumber(1, 6))    # Output: \"100000\"\n"
   ]
  },
  {
   "cell_type": "markdown",
   "metadata": {},
   "source": [
    "### Remaining String\n",
    "\n",
    "https://www.geeksforgeeks.org/problems/remaining-string3515/1\n",
    "\n",
    "\n",
    "Given a string s without spaces, a character ch and an integer count. Your task is to return the substring that remains after the character ch has appeared count number of times.\n",
    "\n",
    "Note:  Assume upper case and lower case alphabets are different. “”(Empty string) should be returned if it is not possible, or the remaining substring is empty.\n",
    "\n",
    "Examples:\n",
    "\n",
    "    Input: s = \"Thisisdemostring\", ch = 'i', count = 3\n",
    "    Output: ng\n",
    "    Explanation: The remaining substring of s after the 3rd\n",
    "    occurrence of 'i' is \"ng\", hence the output is ng.\n",
    "\n",
    "    Input: s = \"Thisisdemostri\", ch = 'i', count = 3\n",
    "    Output: \"\"\n",
    "    Explanation: The 3rd occurence of 'i' is at the last index. In this case the remaining substring is empty, hence we return empty string.\n",
    "    \n",
    "    Input: s = \"abcd\", ch = 'x', count = 2\n",
    "    Output: \"\"\n",
    "    Explanation: The character x is not present in the string, hence we return empty string.\n",
    "\n",
    "**Expected Time Complexity: O(|s|)**\n",
    "**Expected Auxiliary Space: O(1)**\n",
    "\n",
    "Constraints:\n",
    "- 1<= s.length()<=105\n",
    "- 1<=count<=s.length()\n",
    "- s[i] is both upper case and lower case"
   ]
  },
  {
   "cell_type": "code",
   "execution_count": 29,
   "metadata": {},
   "outputs": [
    {
     "name": "stdout",
     "output_type": "stream",
     "text": [
      "2\n",
      "sisdemostring\n",
      "1\n",
      "sdemostring\n",
      "8\n",
      "ng\n"
     ]
    }
   ],
   "source": [
    "s = 'Thisisdemostring'\n",
    "c = 3\n",
    "\n",
    "for i in range(c):\n",
    "    print(s.index('i'))\n",
    "    s = s[s.index('i')+1:]\n",
    "    print(s)\n",
    "\n"
   ]
  },
  {
   "cell_type": "code",
   "execution_count": 30,
   "metadata": {},
   "outputs": [
    {
     "name": "stdout",
     "output_type": "stream",
     "text": [
      "ng\n",
      "\n",
      "\n"
     ]
    }
   ],
   "source": [
    "def remainingString(s, ch, count):\n",
    "    occurrence = 0\n",
    "    \n",
    "    # Iterate through the string to find the count-th occurrence of ch\n",
    "    for i in range(len(s)):\n",
    "        if s[i] == ch:\n",
    "            occurrence += 1\n",
    "            if occurrence == count:\n",
    "                return s[i+1:]  # Return the remaining string after the count-th occurrence of ch\n",
    "    \n",
    "    # If the count-th occurrence is not found, return an empty string\n",
    "    return \"\"\n",
    "\n",
    "# Example usage:\n",
    "print(remainingString(\"Thisisdemostring\", 'i', 3))  # Output: \"ng\"\n",
    "print(remainingString(\"Thisisdemostri\", 'i', 3))   # Output: \"\"\n",
    "print(remainingString(\"abcd\", 'x', 2))             # Output: \"\"\n"
   ]
  },
  {
   "cell_type": "markdown",
   "metadata": {},
   "source": [
    "### Construct Binary Tree from Parent Array (repeat)\n",
    "\n",
    "https://www.geeksforgeeks.org/problems/construct-binary-tree-from-parent-array/1\n",
    "\n",
    "Given an array parent that is used to represent a tree. The array indices (0-based indexing) are the values of the tree nodes and parent[i] denotes the parent node of a particular node. The parent of the root node would always be -1, as there is no parent for the root. Construct the standard linked representation of Binary Tree from this array representation and return the root node of the constructed tree.\n",
    "\n",
    "Note: If two elements have the same parent, the one that appears first in the array will be the left child and the other is the right child. You don't need to print anything, the driver code will print the level order traversal of the returned root node to verify the output.\n",
    "\n",
    "Examples:\n",
    "\n",
    "    Input: parent[] = [-1, 0, 0, 1, 1, 3,5]\n",
    "    Output: 0 1 2 3 4 5 6\n",
    "    Explanation: the tree generated\n",
    "    will have a structure like \n",
    "            0\n",
    "            /   \\\n",
    "        1     2\n",
    "        / \\\n",
    "        3   4\n",
    "        /\n",
    "    5\n",
    "    /\n",
    "    6\n",
    "    Input: parent[] = [2, 0, -1]\n",
    "    Output: 2 0 1\n",
    "    Explanation: the tree generated will\n",
    "    have a sturcture like\n",
    "                2\n",
    "                /   \n",
    "            0      \n",
    "            /   \n",
    "            1     \n",
    "\n",
    "**Expected Time Complexity: O(n)**\n",
    "\n",
    "**Expected Auxiliary Space: O(n)**\n",
    "\n",
    "Constraints:\n",
    "- 1 ≤ parent.size() ≤ 103"
   ]
  },
  {
   "cell_type": "code",
   "execution_count": 1,
   "metadata": {},
   "outputs": [
    {
     "name": "stdout",
     "output_type": "stream",
     "text": [
      "[0, 1, 2, 3, 4, 5, 6]\n",
      "[2, 0, 1]\n"
     ]
    }
   ],
   "source": [
    "# Definition for a binary tree node.\n",
    "class TreeNode:\n",
    "    def __init__(self, x):\n",
    "        self.val = x\n",
    "        self.left = None\n",
    "        self.right = None\n",
    "\n",
    "def createTree(parent):\n",
    "    n = len(parent)\n",
    "    nodes = [TreeNode(i) for i in range(n)]  # Create nodes for all indices\n",
    "\n",
    "    root = None\n",
    "    \n",
    "    for i in range(n):\n",
    "        if parent[i] == -1:\n",
    "            root = nodes[i]  # Identify root\n",
    "        else:\n",
    "            p = parent[i]\n",
    "            if nodes[p].left is None:\n",
    "                nodes[p].left = nodes[i]\n",
    "            else:\n",
    "                nodes[p].right = nodes[i]\n",
    "    \n",
    "    return root\n",
    "\n",
    "# Example usage:\n",
    "def levelOrderTraversal(root):\n",
    "    if not root:\n",
    "        return []\n",
    "    queue = [root]\n",
    "    result = []\n",
    "    while queue:\n",
    "        node = queue.pop(0)\n",
    "        result.append(node.val)\n",
    "        if node.left:\n",
    "            queue.append(node.left)\n",
    "        if node.right:\n",
    "            queue.append(node.right)\n",
    "    return result\n",
    "\n",
    "# Test cases\n",
    "parent1 = [-1, 0, 0, 1, 1, 3, 5]\n",
    "root1 = createTree(parent1)\n",
    "print(levelOrderTraversal(root1))  # Output: [0, 1, 2, 3, 4, 5, 6]\n",
    "\n",
    "parent2 = [2, 0, -1]\n",
    "root2 = createTree(parent2)\n",
    "print(levelOrderTraversal(root2))  # Output: [2, 0, 1]\n"
   ]
  },
  {
   "cell_type": "code",
   "execution_count": 4,
   "metadata": {},
   "outputs": [
    {
     "name": "stdout",
     "output_type": "stream",
     "text": [
      "nodes: [0, 1, 2, 3, 4, 5, 6]\n",
      "[0, 1, 2, 3, 4, 5, 6]\n",
      "nodes: [0, 1, 2]\n",
      "[2, 0, 1]\n"
     ]
    }
   ],
   "source": [
    "# Definition for a binary tree node.\n",
    "class TreeNode:\n",
    "    def __init__(self, x):\n",
    "        self.val = x\n",
    "        self.left = None\n",
    "        self.right = None\n",
    "\n",
    "def createTree(parent):\n",
    "    n = len(parent)\n",
    "    nodes = [TreeNode(i) for i in range(n)]  # Create nodes for all indices\n",
    "\n",
    "    print(f'nodes: {[n.val for n in nodes]}')\n",
    "\n",
    "    root = None\n",
    "    \n",
    "    for i in range(n):\n",
    "        if parent[i] == -1:\n",
    "            root = nodes[i]  # Identify root\n",
    "        else:\n",
    "            p = parent[i]\n",
    "            if nodes[p].left is None:\n",
    "                nodes[p].left = nodes[i]\n",
    "            else:\n",
    "                nodes[p].right = nodes[i]\n",
    "    \n",
    "    return root\n",
    "\n",
    "# Example usage:\n",
    "def levelOrderTraversal(root):\n",
    "    if not root:\n",
    "        return []\n",
    "    queue = [root]\n",
    "    result = []\n",
    "    while queue:\n",
    "        node = queue.pop(0)\n",
    "        result.append(node.val)\n",
    "        if node.left:\n",
    "            queue.append(node.left)\n",
    "        if node.right:\n",
    "            queue.append(node.right)\n",
    "    return result\n",
    "\n",
    "# Test cases\n",
    "parent1 = [-1, 0, 0, 1, 1, 3, 5]\n",
    "root1 = createTree(parent1)\n",
    "print(levelOrderTraversal(root1))  # Output: [0, 1, 2, 3, 4, 5, 6]\n",
    "\n",
    "parent2 = [2, 0, -1]\n",
    "root2 = createTree(parent2)\n",
    "print(levelOrderTraversal(root2))  # Output: [2, 0, 1]\n"
   ]
  },
  {
   "cell_type": "markdown",
   "metadata": {},
   "source": [
    "### Longest alternating subsequence (repeat)\n",
    "\n",
    "https://www.geeksforgeeks.org/problems/longest-alternating-subsequence5951/1\n",
    "\n",
    "You are given an array arr. Your task is to find the longest length of a good sequence. A good sequence {x1, x2, .. xn} is an alternating sequence if its elements satisfy one of the following relations :\n",
    "\n",
    "1.  x1 < x2 > x3 < x4 > x5. . . . . and so on\n",
    "2.  x1 >x2 < x3 > x4 < x5. . . . . and so on\n",
    "\n",
    "Examples:\n",
    "\n",
    "    Input: arr= [1, 5, 4]\n",
    "    Output: 3\n",
    "    Explanation: The entire sequenece is a good sequence.\n",
    "\n",
    "    Input: arr= [1, 17, 5, 10, 13, 15, 10, 5, 16, 8]\n",
    "    Output: 7\n",
    "    Explanation: There are several subsequences that achieve this length. \n",
    "    One maximum length good subsequences is [1, 17, 10, 13, 10, 16, 8].\n",
    "\n",
    "- Expected Time Complexity: O(n)\n",
    "- Expected Space Complexity: O(1)\n",
    "\n",
    "Constraints:\n",
    "- 1 <= nums.size() <= 105 \n",
    "- 1 <= nums[i] <= 104 "
   ]
  },
  {
   "cell_type": "code",
   "execution_count": 5,
   "metadata": {},
   "outputs": [
    {
     "name": "stdout",
     "output_type": "stream",
     "text": [
      "3\n",
      "7\n"
     ]
    }
   ],
   "source": [
    "def longestAlternatingSubsequence(arr):\n",
    "    n = len(arr)\n",
    "    \n",
    "    if n == 0:\n",
    "        return 0\n",
    "    \n",
    "    # Initialize lengths of longest alternating subsequence ending with\n",
    "    # an increasing or decreasing element\n",
    "    up = 1\n",
    "    down = 1\n",
    "    \n",
    "    for i in range(1, n):\n",
    "        if arr[i] > arr[i - 1]:\n",
    "            up = down + 1\n",
    "        elif arr[i] < arr[i - 1]:\n",
    "            down = up + 1\n",
    "    \n",
    "    # The result is the maximum of the two possible subsequences\n",
    "    return max(up, down)\n",
    "\n",
    "# Example usage\n",
    "arr1 = [1, 5, 4]\n",
    "arr2 = [1, 17, 5, 10, 13, 15, 10, 5, 16, 8]\n",
    "\n",
    "print(longestAlternatingSubsequence(arr1))  # Output: 3\n",
    "print(longestAlternatingSubsequence(arr2))  # Output: 7\n"
   ]
  },
  {
   "cell_type": "markdown",
   "metadata": {},
   "source": [
    "### Count Smaller elements (repeat)\n",
    "\n",
    "https://www.geeksforgeeks.org/problems/count-smaller-elements2214/1\n",
    "\n",
    "Given an array arr containing non-negative integers. Count and return an array ans where ans[i] denotes the number of smaller elements on right side of arr[i].\n",
    "\n",
    "Examples:\n",
    "\n",
    "    Input: arr[] = [12, 1, 2, 3, 0, 11, 4]\n",
    "    Output: [6, 1, 1, 1, 0, 1, 0]\n",
    "    Explanation: There are 6 smaller elements right after 12. There is 1 smaller element right after 1. And so on.\n",
    "\n",
    "    Input: arr[] = [1, 2, 3, 4, 5]\n",
    "    Output: [0, 0, 0, 0, 0]\n",
    "    Explanation: There are 0 smaller elements right after 1. There are 0 smaller elements right after 2. And so on.\n",
    "\n",
    "- **Expected Time Complexity: O(n*logn)**\n",
    "- **Expected Auxiliary Space: O(n)**\n",
    "\n",
    "Constraints:\n",
    "- 1 ≤ arr.size() ≤ 106\n",
    "- 0 ≤ arr[i]  ≤ 108"
   ]
  },
  {
   "cell_type": "code",
   "execution_count": 9,
   "metadata": {},
   "outputs": [
    {
     "name": "stdout",
     "output_type": "stream",
     "text": [
      "[0, 1, 2, 3, 4, 11, 12] ----------\n",
      "{0: 1, 1: 2, 2: 3, 3: 4, 4: 5, 11: 6, 12: 7} : ---\n",
      "[6, 1, 1, 1, 0, 1, 0]\n",
      "[1, 2, 3, 4, 5] ----------\n",
      "{1: 1, 2: 2, 3: 3, 4: 4, 5: 5} : ---\n",
      "[0, 0, 0, 0, 0]\n"
     ]
    }
   ],
   "source": [
    "class FenwickTree:\n",
    "    def __init__(self, size):\n",
    "        self.size = size\n",
    "        self.tree = [0] * (size + 1)\n",
    "\n",
    "    def update(self, index, value):\n",
    "        while index <= self.size:\n",
    "            self.tree[index] += value\n",
    "            index += index & -index\n",
    "\n",
    "    def query(self, index):\n",
    "        sum = 0\n",
    "        while index > 0:\n",
    "            sum += self.tree[index]\n",
    "            index -= index & -index\n",
    "        return sum\n",
    "\n",
    "def countSmaller(arr):\n",
    "    # Coordinate compression\n",
    "    sorted_unique_elements = sorted(set(arr))\n",
    "    rank_map = {val: i + 1 for i, val in enumerate(sorted_unique_elements)}\n",
    "    # print(sorted_unique_elements, '-'*10)\n",
    "    # print(rank_map, \": ---\")\n",
    "\n",
    "    # Initialize BIT\n",
    "    bit = FenwickTree(len(rank_map))\n",
    "    result = [0] * len(arr)\n",
    "\n",
    "    # Traverse the array from right to left\n",
    "    for i in reversed(range(len(arr))):\n",
    "        rank = rank_map[arr[i]]\n",
    "        result[i] = bit.query(rank - 1)\n",
    "        bit.update(rank, 1)\n",
    "\n",
    "    return result\n",
    "\n",
    "# Example usage\n",
    "arr1 = [12, 1, 2, 3, 0, 11, 4]\n",
    "print(countSmaller(arr1))  # Output: [6, 1, 1, 1, 0, 1, 0]\n",
    "\n",
    "arr2 = [1, 2, 3, 4, 5]\n",
    "print(countSmaller(arr2))  # Output: [0, 0, 0, 0, 0]\n"
   ]
  },
  {
   "cell_type": "markdown",
   "metadata": {},
   "source": [
    "### Remove Half Nodes\n",
    "\n",
    "[link](https://www.geeksforgeeks.org/problems/remove-half-nodes/1)\n",
    "\n",
    "You are given a binary tree and you need to remove all the half nodes (which have only one child). Return the root node of the modified tree after removing all the half-nodes.\n",
    "\n",
    "Note: The output will be judged by the inorder traversal of the resultant tree, inside the driver code.\n",
    "\n",
    "Examples:\n",
    "\n",
    "Input: tree = 5\n",
    "            /   \\\n",
    "          7     8\n",
    "        / \n",
    "      2\n",
    "Output: 2 5 8\n",
    "Explanation: In the above tree, the node 7 has only single child. After removing the node the tree becomes  2<-5->8. Hence, the answer is 2 5 8 & it is in inorder traversal.\n",
    "Input:  tree = 2   \n",
    "              / \\   \n",
    "            7   5 \n",
    "Output: 7 2 5\n",
    "Explanation: Here there are no nodes which has only one child. So the tree remains same.\n",
    "Expected Time Complexity: O(n)\n",
    "Expected Auxiliary Space: O(height of the binary tree)\n",
    "\n",
    "Constraints:\n",
    "1<=number of nodes<=104\n",
    "\n"
   ]
  },
  {
   "cell_type": "code",
   "execution_count": 10,
   "metadata": {},
   "outputs": [
    {
     "name": "stdout",
     "output_type": "stream",
     "text": [
      "[2, 5, 8]\n",
      "[7, 2, 5]\n"
     ]
    }
   ],
   "source": [
    "# Definition for a binary tree node.\n",
    "class TreeNode:\n",
    "    def __init__(self, x):\n",
    "        self.val = x\n",
    "        self.left = None\n",
    "        self.right = None\n",
    "\n",
    "class Solution:\n",
    "    def removeHalfNodes(self, root: TreeNode) -> TreeNode:\n",
    "        if not root:\n",
    "            return None\n",
    "        \n",
    "        # Recursively process left and right subtrees\n",
    "        root.left = self.removeHalfNodes(root.left)\n",
    "        root.right = self.removeHalfNodes(root.right)\n",
    "        \n",
    "        # If the current node is a half node with only one child, replace it with its child\n",
    "        if root.left is None and root.right is not None:\n",
    "            return root.right\n",
    "        if root.right is None and root.left is not None:\n",
    "            return root.left\n",
    "        \n",
    "        return root\n",
    "\n",
    "# Helper function to perform inorder traversal and collect results in a list\n",
    "def inorderTraversal(root):\n",
    "    result = []\n",
    "    def inorder(node):\n",
    "        if not node:\n",
    "            return\n",
    "        inorder(node.left)\n",
    "        result.append(node.val)\n",
    "        inorder(node.right)\n",
    "    inorder(root)\n",
    "    return result\n",
    "\n",
    "# Example usage:\n",
    "root1 = TreeNode(5)\n",
    "root1.left = TreeNode(7)\n",
    "root1.right = TreeNode(8)\n",
    "root1.left.left = TreeNode(2)\n",
    "\n",
    "solution = Solution()\n",
    "new_root1 = solution.removeHalfNodes(root1)\n",
    "print(inorderTraversal(new_root1))  # Output: [2, 5, 8]\n",
    "\n",
    "root2 = TreeNode(2)\n",
    "root2.left = TreeNode(7)\n",
    "root2.right = TreeNode(5)\n",
    "\n",
    "new_root2 = solution.removeHalfNodes(root2)\n",
    "print(inorderTraversal(new_root2))  # Output: [7, 2, 5]\n"
   ]
  },
  {
   "cell_type": "markdown",
   "metadata": {},
   "source": [
    "### Maximum product subset of an array\n",
    "\n",
    "https://www.geeksforgeeks.org/problems/maximum-product-subset-of-an-array/1\n",
    "\n",
    "Given an array arr. The task is to find and return the maximum product possible with the subset of elements present in the array.\n",
    "\n",
    "Note:\n",
    "\n",
    "The maximum product can be a single element also.\n",
    "Since the product can be large, return it modulo 109 + 7.\n",
    "Examples:\n",
    "\n",
    "    Input: arr[] = [-1, 0, -2, 4, 3]\n",
    "    Output: 24\n",
    "    Explanation: Maximum product will be ( -1 * -2 * 4 * 3 ) = 24\n",
    "\n",
    "    Input: arr[] = [-1, 0]\n",
    "    Output: 0\n",
    "    Explanation: Maximum product will be ( -1 * 0) = 0\n",
    "\n",
    "    Input: arr[] = [5]\n",
    "    Output: 5\n",
    "    Explanation: Maximum product will be 5.\n",
    "\n",
    "- Expected Time Complexity: O(n)\n",
    "- Expected Auxiliary Space: O(1)\n",
    "\n",
    "Constraints:\n",
    "\n",
    "    1 <= arr.size() <= 2 * 104\n",
    "    -10 <= arr[i] <= 10"
   ]
  },
  {
   "cell_type": "code",
   "execution_count": 6,
   "metadata": {},
   "outputs": [
    {
     "name": "stdout",
     "output_type": "stream",
     "text": [
      "24\n",
      "0\n",
      "5\n",
      "1000000006\n"
     ]
    }
   ],
   "source": [
    "def maxProductSubset(arr):\n",
    "    MOD = 10**9 + 7\n",
    "    \n",
    "    # Base case: if there's only one element\n",
    "    if len(arr) == 1:\n",
    "        return arr[0] % MOD\n",
    "    \n",
    "    # Initialize variables\n",
    "    max_neg = float('-inf')\n",
    "    product = 1\n",
    "    neg_count = 0\n",
    "    zero_count = 0\n",
    "    \n",
    "    for num in arr:\n",
    "        if num == 0:\n",
    "            zero_count += 1\n",
    "            continue\n",
    "        if num < 0:\n",
    "            neg_count += 1\n",
    "            max_neg = max(max_neg, num)\n",
    "        product = (product * num) % MOD\n",
    "    \n",
    "    # If there are all zeros\n",
    "    if zero_count == len(arr):\n",
    "        return 0\n",
    "    \n",
    "    # If there is one negative number and the rest are zeros\n",
    "    if neg_count == 1 and zero_count + neg_count == len(arr):\n",
    "        return 0\n",
    "    \n",
    "    # If the count of negative numbers is odd, exclude the largest negative number\n",
    "    if neg_count % 2 != 0:\n",
    "        if max_neg != float('-inf'):\n",
    "            product = product * pow(max_neg, MOD-2, MOD) % MOD  # Equivalent to dividing by max_neg in modular arithmetic\n",
    "    \n",
    "    return product\n",
    "\n",
    "# Example usage\n",
    "arr1 = [-1, 0, -2, 4, 3]\n",
    "print(maxProductSubset(arr1))  # Output: 24\n",
    "\n",
    "arr2 = [-1, 0]\n",
    "print(maxProductSubset(arr2))  # Output: 0\n",
    "\n",
    "arr3 = [5]\n",
    "print(maxProductSubset(arr3))  # Output: 5\n",
    "\n",
    "arr3 = [-1]\n",
    "print(maxProductSubset(arr3))  # Output: 5\n"
   ]
  },
  {
   "cell_type": "code",
   "execution_count": 7,
   "metadata": {},
   "outputs": [
    {
     "name": "stdout",
     "output_type": "stream",
     "text": [
      "24\n",
      "0\n",
      "5\n",
      "-1\n"
     ]
    }
   ],
   "source": [
    "def maxProductSubset(arr):\n",
    "    MOD = 10**9 + 7\n",
    "    \n",
    "    # Base case: if there's only one element\n",
    "    if len(arr) == 1:\n",
    "        return arr[0]\n",
    "    \n",
    "    # Initialize variables\n",
    "    max_neg = float('-inf')\n",
    "    product = 1\n",
    "    neg_count = 0\n",
    "    zero_count = 0\n",
    "    non_zero_count = 0\n",
    "    \n",
    "    for num in arr:\n",
    "        if num == 0:\n",
    "            zero_count += 1\n",
    "            continue\n",
    "        if num < 0:\n",
    "            neg_count += 1\n",
    "            max_neg = max(max_neg, num)\n",
    "        product = (product * num) % MOD\n",
    "        non_zero_count += 1\n",
    "    \n",
    "    # If there are all zeros\n",
    "    if zero_count == len(arr):\n",
    "        return 0\n",
    "    \n",
    "    # If there is one negative number and the rest are zeros\n",
    "    if neg_count == 1 and zero_count + neg_count == len(arr):\n",
    "        return 0\n",
    "    \n",
    "    # If the count of negative numbers is odd, exclude the largest negative number\n",
    "    if neg_count % 2 != 0:\n",
    "        if max_neg != float('-inf'):\n",
    "            product = product * pow(max_neg, MOD-2, MOD) % MOD  # Equivalent to dividing by max_neg in modular arithmetic\n",
    "\n",
    "    # Handle negative results\n",
    "    if product < 0:\n",
    "        product = (product + MOD) % MOD\n",
    "    \n",
    "    return product\n",
    "\n",
    "# Example usage\n",
    "arr1 = [-1, 0, -2, 4, 3]\n",
    "print(maxProductSubset(arr1))  # Output: 24\n",
    "\n",
    "arr2 = [-1, 0]\n",
    "print(maxProductSubset(arr2))  # Output: 0\n",
    "\n",
    "arr3 = [5]\n",
    "print(maxProductSubset(arr3))  # Output: 5\n",
    "\n",
    "arr4 = [-1]\n",
    "print(maxProductSubset(arr4))  # Output: -1\n"
   ]
  },
  {
   "cell_type": "markdown",
   "metadata": {},
   "source": [
    "### Largest BST (Repeat)\n",
    "\n",
    "https://www.geeksforgeeks.org/problems/largest-bst/1\n",
    "\n",
    "Given a binary tree. Find the size of its largest subtree which is a Binary Search Tree.\n",
    "Note: Here Size equals the number of nodes in the subtree.\n",
    "\n",
    "Examples :\n",
    "\n",
    "    Input:   1\n",
    "            /  \\\n",
    "            4   4              \n",
    "        / \\ \n",
    "        6   8\n",
    "    Output: 1 \n",
    "    Explanation: There's no sub-tree with size greater than 1 which forms a BST. All the leaf Nodes are the BSTs with size equal to 1.\n",
    "\n",
    "    Input:    6\n",
    "            /   \\\n",
    "        6      2              \n",
    "        \\    / \\\n",
    "            2  1   3\n",
    "    Output: 3\n",
    "    Explanation: The following sub-tree is a BST of size 3:  2\n",
    "                                                        /   \\\n",
    "                                                        1     3\n",
    "    \n",
    "    Expected Time Complexity: O(n).\n",
    "    Expected Auxiliary Space: O(Height of the BST).\n",
    "\n",
    "Constraints:\n",
    "    1 ≤ Number of nodes ≤ 105\n",
    "    1 ≤ Data of a node ≤ 106\n",
    "\n"
   ]
  },
  {
   "cell_type": "code",
   "execution_count": 1,
   "metadata": {},
   "outputs": [
    {
     "name": "stdout",
     "output_type": "stream",
     "text": [
      "1\n",
      "3\n"
     ]
    }
   ],
   "source": [
    "class TreeNode:\n",
    "    def __init__(self, val=0, left=None, right=None):\n",
    "        self.val = val\n",
    "        self.left = left\n",
    "        self.right = right\n",
    "\n",
    "class Solution:\n",
    "    def largestBSTSubtree(self, root: TreeNode) -> int:\n",
    "        def helper(node):\n",
    "            # Return a tuple of four values:\n",
    "            # isBST, size of the subtree, min value in the subtree, max value in the subtree\n",
    "            if not node:\n",
    "                return True, 0, float('inf'), float('-inf')\n",
    "            \n",
    "            left_is_bst, left_size, left_min, left_max = helper(node.left)\n",
    "            right_is_bst, right_size, right_min, right_max = helper(node.right)\n",
    "            \n",
    "            # Check if the current subtree is a BST\n",
    "            if left_is_bst and right_is_bst and left_max < node.val < right_min:\n",
    "                size = 1 + left_size + right_size\n",
    "                self.max_size = max(self.max_size, size)\n",
    "                return True, size, min(left_min, node.val), max(right_max, node.val)\n",
    "            else:\n",
    "                return False, 0, 0, 0\n",
    "        \n",
    "        self.max_size = 0\n",
    "        helper(root)\n",
    "        return self.max_size\n",
    "\n",
    "# Example usage:\n",
    "# Constructing the binary tree from the example:\n",
    "root1 = TreeNode(1)\n",
    "root1.left = TreeNode(4)\n",
    "root1.right = TreeNode(4)\n",
    "root1.left.left = TreeNode(6)\n",
    "root1.left.right = TreeNode(8)\n",
    "\n",
    "solution = Solution()\n",
    "print(solution.largestBSTSubtree(root1))  # Output: 1\n",
    "\n",
    "root2 = TreeNode(6)\n",
    "root2.left = TreeNode(6)\n",
    "root2.right = TreeNode(2)\n",
    "root2.left.right = TreeNode(2)\n",
    "root2.right.left = TreeNode(1)\n",
    "root2.right.right = TreeNode(3)\n",
    "\n",
    "print(solution.largestBSTSubtree(root2))  # Output: 3\n"
   ]
  },
  {
   "cell_type": "code",
   "execution_count": null,
   "metadata": {},
   "outputs": [],
   "source": []
  }
 ],
 "metadata": {
  "kernelspec": {
   "display_name": "Python 3",
   "language": "python",
   "name": "python3"
  },
  "language_info": {
   "codemirror_mode": {
    "name": "ipython",
    "version": 3
   },
   "file_extension": ".py",
   "mimetype": "text/x-python",
   "name": "python",
   "nbconvert_exporter": "python",
   "pygments_lexer": "ipython3",
   "version": "3.11.5"
  }
 },
 "nbformat": 4,
 "nbformat_minor": 2
}
