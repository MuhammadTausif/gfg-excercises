{
 "cells": [
  {
   "cell_type": "markdown",
   "metadata": {},
   "source": [
    "Odd or Even\n",
    "\n",
    "https://www.geeksforgeeks.org/problems/odd-or-even3618/1?page=1&difficulty=School&status=unsolved&sortBy=submissions"
   ]
  },
  {
   "cell_type": "code",
   "execution_count": 8,
   "metadata": {},
   "outputs": [
    {
     "data": {
      "text/plain": [
       "True"
      ]
     },
     "execution_count": 8,
     "metadata": {},
     "output_type": "execute_result"
    }
   ],
   "source": [
    "class Solution:\n",
    "    def oddEven (ob,N):\n",
    "        # code here \n",
    "        pass\n",
    "        return N%2\n",
    "\n",
    "\n",
    "bool(1%2)"
   ]
  },
  {
   "cell_type": "markdown",
   "metadata": {},
   "source": [
    "GCD of two numbers\n",
    "\n",
    "https://www.geeksforgeeks.org/problems/gcd-of-two-numbers3459/1?page=1&difficulty=School&status=unsolved&sortBy=submissions"
   ]
  },
  {
   "cell_type": "code",
   "execution_count": 12,
   "metadata": {},
   "outputs": [
    {
     "name": "stdout",
     "output_type": "stream",
     "text": [
      "1\n",
      "yes 1\n",
      "2\n",
      "3\n",
      "yes 3\n",
      "4\n",
      "5\n",
      "6\n"
     ]
    }
   ],
   "source": [
    "a = 3\n",
    "b = 6\n",
    "\n",
    "for i in range(1,b+1):\n",
    "    print(i)\n",
    "    if a%i==0 and b%i==0:\n",
    "        print(\"yes\", i)"
   ]
  },
  {
   "cell_type": "code",
   "execution_count": 23,
   "metadata": {},
   "outputs": [
    {
     "name": "stdout",
     "output_type": "stream",
     "text": [
      "3 , 6\n",
      "6 , 3\n",
      "3\n",
      "1 , 6\n",
      "6 , 1\n",
      "1\n",
      "1 , 1\n",
      "1\n",
      "7 , 541\n",
      "541 , 7\n",
      "7 , 2\n",
      "2 , 1\n",
      "1\n"
     ]
    }
   ],
   "source": [
    "class Solution:\n",
    "    def gcd(self, a : int, b : int) -> int:\n",
    "        while b :\n",
    "              print(a,',',b)\n",
    "              a, b = b, a%b\n",
    "        return a\n",
    "\n",
    "s = Solution()\n",
    "print(s.gcd(3,6))\n",
    "print(s.gcd(1,6))\n",
    "print(s.gcd(1,1))\n",
    "print(s.gcd(7,541))"
   ]
  },
  {
   "cell_type": "markdown",
   "metadata": {},
   "source": [
    "Perfect Arrays\n",
    "\n",
    "https://www.geeksforgeeks.org/problems/perfect-arrays4645/1?page=1&difficulty=School&status=unsolved&sortBy=submissions"
   ]
  },
  {
   "cell_type": "code",
   "execution_count": 25,
   "metadata": {},
   "outputs": [
    {
     "data": {
      "text/plain": [
       "True"
      ]
     },
     "execution_count": 25,
     "metadata": {},
     "output_type": "execute_result"
    }
   ],
   "source": [
    "arr = [1, 2, 3, 2, 1]\n",
    "arr[::-1] == arr"
   ]
  },
  {
   "cell_type": "markdown",
   "metadata": {},
   "source": [
    "Smaller and Large\n",
    "\n",
    "https://www.geeksforgeeks.org/problems/smaller-and-larger4005/1?page=1&difficulty=School&status=unsolved&sortBy=submissions"
   ]
  },
  {
   "cell_type": "code",
   "execution_count": 26,
   "metadata": {},
   "outputs": [
    {
     "data": {
      "text/plain": [
       "(0, 7)"
      ]
     },
     "execution_count": 26,
     "metadata": {},
     "output_type": "execute_result"
    }
   ],
   "source": [
    "from bisect import bisect_right\n",
    "class Solution:\n",
    "\tdef getMoreAndLess(self,arr, n, x):\n",
    "            \n",
    "            a = bisect_right(arr, x)\n",
    "            b = n - bisect_right(arr, x - 1)\n",
    "            return a, b\n",
    "\n",
    "s = Solution()\n",
    "s.getMoreAndLess([1, 2, 8, 10, 11, 12, 19], 7, 0)"
   ]
  },
  {
   "cell_type": "code",
   "execution_count": 11,
   "metadata": {},
   "outputs": [
    {
     "name": "stdout",
     "output_type": "stream",
     "text": [
      "6\n"
     ]
    },
    {
     "data": {
      "text/plain": [
       "int"
      ]
     },
     "execution_count": 11,
     "metadata": {},
     "output_type": "execute_result"
    }
   ],
   "source": [
    "from bisect import bisect_right, bisect_left\n",
    "print(bisect_right([1, 2, 8, 10, 11, 12, 19, 20, 30], 15))\n",
    "type(br)"
   ]
  },
  {
   "cell_type": "markdown",
   "metadata": {},
   "source": [
    "Sum Of Digits\n",
    "\n",
    "https://www.geeksforgeeks.org/problems/sum-of-digits1742/1?page=1&difficulty=School&status=unsolved&sortBy=submissions"
   ]
  },
  {
   "cell_type": "code",
   "execution_count": 12,
   "metadata": {},
   "outputs": [
    {
     "data": {
      "text/plain": [
       "5"
      ]
     },
     "execution_count": 12,
     "metadata": {},
     "output_type": "execute_result"
    }
   ],
   "source": [
    "class Solution:\n",
    "    def sumOfDigits (self, N):\n",
    "        return sum([int(i) for i in N])\n",
    "    \n",
    "\n",
    "s = Solution()\n",
    "s.sumOfDigits('23')"
   ]
  },
  {
   "cell_type": "markdown",
   "metadata": {},
   "source": []
  }
 ],
 "metadata": {
  "kernelspec": {
   "display_name": "Python 3",
   "language": "python",
   "name": "python3"
  },
  "language_info": {
   "codemirror_mode": {
    "name": "ipython",
    "version": 3
   },
   "file_extension": ".py",
   "mimetype": "text/x-python",
   "name": "python",
   "nbconvert_exporter": "python",
   "pygments_lexer": "ipython3",
   "version": "3.11.5"
  }
 },
 "nbformat": 4,
 "nbformat_minor": 2
}
