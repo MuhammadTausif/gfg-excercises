{
 "cells": [
  {
   "cell_type": "markdown",
   "metadata": {},
   "source": [
    "Odd or Even\n",
    "\n",
    "https://www.geeksforgeeks.org/problems/odd-or-even3618/1?page=1&difficulty=School&status=unsolved&sortBy=submissions"
   ]
  },
  {
   "cell_type": "code",
   "execution_count": 8,
   "metadata": {},
   "outputs": [
    {
     "data": {
      "text/plain": [
       "True"
      ]
     },
     "execution_count": 8,
     "metadata": {},
     "output_type": "execute_result"
    }
   ],
   "source": [
    "class Solution:\n",
    "    def oddEven (ob,N):\n",
    "        # code here \n",
    "        pass\n",
    "        return N%2\n",
    "\n",
    "\n",
    "bool(1%2)"
   ]
  },
  {
   "cell_type": "markdown",
   "metadata": {},
   "source": [
    "GCD of two numbers\n",
    "\n",
    "https://www.geeksforgeeks.org/problems/gcd-of-two-numbers3459/1?page=1&difficulty=School&status=unsolved&sortBy=submissions"
   ]
  },
  {
   "cell_type": "code",
   "execution_count": 12,
   "metadata": {},
   "outputs": [
    {
     "name": "stdout",
     "output_type": "stream",
     "text": [
      "1\n",
      "yes 1\n",
      "2\n",
      "3\n",
      "yes 3\n",
      "4\n",
      "5\n",
      "6\n"
     ]
    }
   ],
   "source": [
    "a = 3\n",
    "b = 6\n",
    "\n",
    "for i in range(1,b+1):\n",
    "    print(i)\n",
    "    if a%i==0 and b%i==0:\n",
    "        print(\"yes\", i)"
   ]
  },
  {
   "cell_type": "code",
   "execution_count": 1,
   "metadata": {},
   "outputs": [
    {
     "name": "stdout",
     "output_type": "stream",
     "text": [
      "3 , 6\n",
      "6 , 3\n",
      "3\n",
      "1 , 6\n",
      "6 , 1\n",
      "1\n",
      "1 , 1\n",
      "1\n",
      "7 , 541\n",
      "541 , 7\n",
      "7 , 2\n",
      "2 , 1\n",
      "1\n"
     ]
    }
   ],
   "source": [
    "class Solution:\n",
    "    def gcd(self, a : int, b : int) -> int:\n",
    "        while b :\n",
    "              print(a,',',b)\n",
    "              a, b = b, a%b\n",
    "        return a\n",
    "\n",
    "s = Solution()\n",
    "print(s.gcd(3,6))\n",
    "print(s.gcd(1,6))\n",
    "print(s.gcd(1,1))\n",
    "print(s.gcd(7,541))"
   ]
  },
  {
   "cell_type": "markdown",
   "metadata": {},
   "source": [
    "Perfect Arrays\n",
    "\n",
    "https://www.geeksforgeeks.org/problems/perfect-arrays4645/1?page=1&difficulty=School&status=unsolved&sortBy=submissions"
   ]
  },
  {
   "cell_type": "code",
   "execution_count": 2,
   "metadata": {},
   "outputs": [
    {
     "data": {
      "text/plain": [
       "True"
      ]
     },
     "execution_count": 2,
     "metadata": {},
     "output_type": "execute_result"
    }
   ],
   "source": [
    "arr = [1, 2, 3, 2, 1]\n",
    "arr[::-1] == arr"
   ]
  },
  {
   "cell_type": "markdown",
   "metadata": {},
   "source": [
    "Smaller and Large\n",
    "\n",
    "https://www.geeksforgeeks.org/problems/smaller-and-larger4005/1?page=1&difficulty=School&status=unsolved&sortBy=submissions"
   ]
  },
  {
   "cell_type": "code",
   "execution_count": 3,
   "metadata": {},
   "outputs": [
    {
     "data": {
      "text/plain": [
       "(0, 7)"
      ]
     },
     "execution_count": 3,
     "metadata": {},
     "output_type": "execute_result"
    }
   ],
   "source": [
    "from bisect import bisect_right\n",
    "class Solution:\n",
    "\tdef getMoreAndLess(self,arr, n, x):\n",
    "            \n",
    "            a = bisect_right(arr, x)\n",
    "            b = n - bisect_right(arr, x - 1)\n",
    "            return a, b\n",
    "\n",
    "s = Solution()\n",
    "s.getMoreAndLess([1, 2, 8, 10, 11, 12, 19], 7, 0)"
   ]
  },
  {
   "cell_type": "code",
   "execution_count": 11,
   "metadata": {},
   "outputs": [
    {
     "name": "stdout",
     "output_type": "stream",
     "text": [
      "6\n"
     ]
    },
    {
     "data": {
      "text/plain": [
       "int"
      ]
     },
     "execution_count": 11,
     "metadata": {},
     "output_type": "execute_result"
    }
   ],
   "source": [
    "from bisect import bisect_right, bisect_left\n",
    "print(bisect_right([1, 2, 8, 10, 11, 12, 19, 20, 30], 15))\n",
    "type(br)"
   ]
  },
  {
   "cell_type": "markdown",
   "metadata": {},
   "source": [
    "Sum Of Digits\n",
    "\n",
    "https://www.geeksforgeeks.org/problems/sum-of-digits1742/1?page=1&difficulty=School&status=unsolved&sortBy=submissions"
   ]
  },
  {
   "cell_type": "code",
   "execution_count": 12,
   "metadata": {},
   "outputs": [
    {
     "data": {
      "text/plain": [
       "5"
      ]
     },
     "execution_count": 12,
     "metadata": {},
     "output_type": "execute_result"
    }
   ],
   "source": [
    "class Solution:\n",
    "    def sumOfDigits (self, N):\n",
    "        return sum([int(i) for i in N])\n",
    "    \n",
    "\n",
    "s = Solution()\n",
    "s.sumOfDigits('23')"
   ]
  },
  {
   "cell_type": "markdown",
   "metadata": {},
   "source": [
    "Even Odd Sum\n",
    "\n",
    "https://www.geeksforgeeks.org/problems/even-odd-sum5450/1?page=3&difficulty=School&status=unsolved&sortBy=submissions"
   ]
  },
  {
   "cell_type": "code",
   "execution_count": 15,
   "metadata": {},
   "outputs": [
    {
     "data": {
      "text/plain": [
       "(9, 6)"
      ]
     },
     "execution_count": 15,
     "metadata": {},
     "output_type": "execute_result"
    }
   ],
   "source": [
    "#User function Template for python3\n",
    "\n",
    "class Solution:\n",
    "    def EvenOddSum(self,N,Arr):\n",
    "        return sum(Arr[::2]), sum(Arr[1::2])\n",
    "    \n",
    "\n",
    "s = Solution()\n",
    "s.EvenOddSum(5,[1,2,3,4,5])"
   ]
  },
  {
   "cell_type": "markdown",
   "metadata": {},
   "source": [
    "Series AP\n",
    "\n",
    "https://www.geeksforgeeks.org/problems/series-ap5310/1?page=1&difficulty=School&status=unsolved&sortBy=submissions"
   ]
  },
  {
   "cell_type": "code",
   "execution_count": 16,
   "metadata": {},
   "outputs": [
    {
     "data": {
      "text/plain": [
       "1"
      ]
     },
     "execution_count": 16,
     "metadata": {},
     "output_type": "execute_result"
    }
   ],
   "source": [
    "a1 = 2\n",
    "a2 = 3\n",
    "n = 4\n",
    "d = a2 - a1\n",
    "\n",
    "d"
   ]
  },
  {
   "cell_type": "code",
   "execution_count": 18,
   "metadata": {},
   "outputs": [
    {
     "data": {
      "text/plain": [
       "19"
      ]
     },
     "execution_count": 18,
     "metadata": {},
     "output_type": "execute_result"
    }
   ],
   "source": [
    "a1 = 1\n",
    "a2 = 3\n",
    "n = 10\n",
    "\n",
    "d = a2 - a1\n",
    "d\n",
    "a1 + (10-1)*2\n",
    "an = a1+(n-1)*d"
   ]
  },
  {
   "cell_type": "markdown",
   "metadata": {},
   "source": [
    "Swap number\n",
    "\n",
    "https://www.geeksforgeeks.org/problems/swap-two-numbers3844/1?page=1&difficulty=School&status=unsolved&sortBy=submissions"
   ]
  },
  {
   "cell_type": "code",
   "execution_count": 20,
   "metadata": {},
   "outputs": [],
   "source": [
    "a, b = 1, 2\n",
    "a, b = b, a"
   ]
  },
  {
   "cell_type": "markdown",
   "metadata": {},
   "source": [
    "Sum Palindrome\n",
    "\n",
    "https://www.geeksforgeeks.org/problems/sum-palindrome3857/1?page=1&difficulty=School&status=unsolved&sortBy=submissions"
   ]
  },
  {
   "cell_type": "code",
   "execution_count": 22,
   "metadata": {},
   "outputs": [
    {
     "name": "stdout",
     "output_type": "stream",
     "text": [
      "55\n",
      "121\n"
     ]
    }
   ],
   "source": [
    "class Solution:\n",
    "    def isSumPalindrome (self, n):\n",
    "        if str(n) == str(n)[::-1]:\n",
    "                return n\n",
    "        for i in range(5):\n",
    "            n = n + int(str(n)[::-1])\n",
    "            if str(n) == str(n)[::-1]:\n",
    "                return n\n",
    "            \n",
    "        return -1\n",
    "\n",
    "s = Solution()\n",
    "print(s.isSumPalindrome(23))\n",
    "print(s.isSumPalindrome(73))\n",
    "print(s.isSumPalindrome(73))\n"
   ]
  },
  {
   "cell_type": "markdown",
   "metadata": {},
   "source": [
    "The dice problem\n",
    "\n",
    "https://www.geeksforgeeks.org/problems/the-dice-problem2316/1?page=1&difficulty=School&status=unsolved&sortBy=submissions"
   ]
  },
  {
   "cell_type": "code",
   "execution_count": 15,
   "metadata": {},
   "outputs": [],
   "source": [
    "# class Solution:\n",
    "#     def oppositeFaceOfDice(self, N):\n",
    "#     \t#code here \n",
    "#     \tif N == 6:\n",
    "#     \t    return 1\n",
    "#     \telif N==5:\n",
    "#     \t    return 2\n",
    "#     \telif N==2:\n",
    "#     \t    return 5\n",
    "#     \telif N==3:\n",
    "#     \t    return 4\n",
    "#     \telif N==4:\n",
    "#     \t    return 3\n",
    "#     \telif N==1:\n",
    "#     \t    return 6"
   ]
  },
  {
   "cell_type": "markdown",
   "metadata": {},
   "source": [
    "Print 1 to n without using loops (repeat)\n",
    "\n",
    "https://www.geeksforgeeks.org/problems/print-1-to-n-without-using-loops3621/1?page=1&difficulty=School&status=unsolved&sortBy=submissions"
   ]
  },
  {
   "cell_type": "code",
   "execution_count": 18,
   "metadata": {},
   "outputs": [
    {
     "name": "stdout",
     "output_type": "stream",
     "text": [
      "1\n",
      "2\n",
      "3\n",
      "4\n",
      "5\n"
     ]
    }
   ],
   "source": [
    "class Solution:        \n",
    "    def printTillN(self, N):       \n",
    "        if N == 0:\n",
    "             return True\n",
    "        else:\n",
    "            self.printTillN(N-1)\n",
    "        print(N)\n",
    "s = Solution()\n",
    "s.printTillN(5)"
   ]
  },
  {
   "cell_type": "markdown",
   "metadata": {},
   "source": [
    "Multiplication Table\n",
    "\n",
    "https://www.geeksforgeeks.org/problems/print-table0303/1?page=1&difficulty=School&status=unsolved&sortBy=submissions"
   ]
  },
  {
   "cell_type": "code",
   "execution_count": 22,
   "metadata": {},
   "outputs": [
    {
     "name": "stdout",
     "output_type": "stream",
     "text": [
      "[9, 18, 27, 36, 45, 54, 63, 72, 81]\n",
      "[10, 20, 30, 40, 50, 60, 70, 80, 90]\n"
     ]
    }
   ],
   "source": [
    "class Solution:\n",
    "    def getTable(self,N):\n",
    "        table = []\n",
    "        for i in range(1, 10):\n",
    "            table.append(i*N)\n",
    "        \n",
    "        return table\n",
    "    \n",
    "s = Solution()\n",
    "print(s.getTable(9))\n",
    "print(s.getTable(10))"
   ]
  },
  {
   "cell_type": "markdown",
   "metadata": {},
   "source": [
    "Compete the skills\n",
    "\n",
    "https://www.geeksforgeeks.org/problems/compete-the-skills5807/1?page=1&difficulty=School&status=unsolved&sortBy=submissions"
   ]
  },
  {
   "cell_type": "code",
   "execution_count": 23,
   "metadata": {},
   "outputs": [],
   "source": [
    "class Solution:\n",
    "    def scores(self, a, b, cc):\n",
    "        for i, j in zip(a, b):\n",
    "            pass\n",
    "\n"
   ]
  },
  {
   "cell_type": "markdown",
   "metadata": {},
   "source": [
    "Remove all occurences of duplicates in a linked list (repeat)\n",
    "\n",
    "https://www.geeksforgeeks.org/problems/remove-all-occurences-of-duplicates-in-a-linked-list/1"
   ]
  },
  {
   "cell_type": "code",
   "execution_count": 24,
   "metadata": {},
   "outputs": [],
   "source": [
    "#User function Template for python3\n",
    "\n",
    "\n",
    "# Linked list Node class\n",
    "\n",
    "class Node :\n",
    "    def __init__(self, val):\n",
    "        self.data = val\n",
    "        self.next = None\n",
    "\n",
    "\n",
    "\n",
    "class Solution:\n",
    "    def removeAllDuplicates(self, head):\n",
    "        if not head:\n",
    "            return None\n",
    "        \n",
    "        # Create a dummy node\n",
    "        dummy = Node(0)\n",
    "        dummy.next = head\n",
    "        prev = dummy\n",
    "        current = head\n",
    "        \n",
    "        while current:\n",
    "            # Check if current node is a duplicate\n",
    "            is_duplicate = False\n",
    "            while current.next and current.data == current.next.data:\n",
    "                current = current.next\n",
    "                is_duplicate = True\n",
    "            \n",
    "            if is_duplicate:\n",
    "                # Skip all duplicates\n",
    "                current = current.next\n",
    "                continue\n",
    "            \n",
    "            # Link the last non-duplicate node to the current node\n",
    "            prev.next = current\n",
    "            prev = current\n",
    "            current = current.next\n",
    "        \n",
    "        # Handle the case where the last segment of the list contains duplicates\n",
    "        prev.next = None\n",
    "        \n",
    "        return dummy.next\n",
    "\n",
    "# Helper function to print the linked list\n",
    "def printList(head):\n",
    "    while head:\n",
    "        print(head.data, end=\" \")\n",
    "        head = head.next\n",
    "    print()\n",
    "\n"
   ]
  },
  {
   "cell_type": "markdown",
   "metadata": {},
   "source": [
    "1s Complement\n",
    "\n",
    "https://www.geeksforgeeks.org/problems/1s-complement2819/1?page=1&difficulty=School&status=unsolved&sortBy=accuracy"
   ]
  },
  {
   "cell_type": "code",
   "execution_count": 3,
   "metadata": {},
   "outputs": [
    {
     "name": "stdout",
     "output_type": "stream",
     "text": [
      "010\n",
      "01\n"
     ]
    }
   ],
   "source": [
    "class Solution:\n",
    "    def onesComplement(self,S,N):\n",
    "        return ''.join(['0' if i == '1' else '1' for i in S])\n",
    "\n",
    "\n",
    "\n",
    "s = Solution()\n",
    "print(s.onesComplement('101', 3))\n",
    "print(s.onesComplement('10', 2))"
   ]
  },
  {
   "cell_type": "markdown",
   "metadata": {},
   "source": [
    "Number Pattern\n",
    "\n",
    "https://www.geeksforgeeks.org/problems/number-pattern0517/1?page=1&difficulty=School&status=unsolved&sortBy=accuracy"
   ]
  },
  {
   "cell_type": "code",
   "execution_count": 25,
   "metadata": {},
   "outputs": [
    {
     "name": "stdout",
     "output_type": "stream",
     "text": [
      "1 121 12321 \n",
      "1 121 12321 1234321 \n",
      "1 121 12321 1234321 123454321 12345654321 \n"
     ]
    }
   ],
   "source": [
    "class Solution:\n",
    "\tdef numberPattern(self, N):\n",
    "\t\to = ''\n",
    "\t\tfor i in range(1, N+1):\n",
    "\t\t\tfor j in range(1, i+1):\n",
    "\t\t\t\to+=str(j)\n",
    "\t\t\t\t# print(j, end='')\n",
    "\t\t\tfor k in range(i-1,0,-1):\n",
    "\t\t\t\to+=str(k)\n",
    "\t\t\t\t# print(k, end='')\n",
    "\t\t\to+=' '\n",
    "\t\t\t# print(' ', end='')\n",
    "\t\t\t# print(o)\n",
    "\t\treturn o\n",
    "\t\t\n",
    "\n",
    "s = Solution()    \t\t\n",
    "print(s.numberPattern(3))\n",
    "print(s.numberPattern(4))\n",
    "print(s.numberPattern(6))\n",
    "\n",
    "class Solution_correct:\n",
    "    def numberPattern(self, N):\n",
    "        # code here\n",
    "        ans = []\n",
    "        for i in range(1, N + 1):\n",
    "            s1 = ''\n",
    "            s2 = ''\n",
    "            for j in range(1, i):\n",
    "                s1 += str(j)\n",
    "                s2 = str(j) + s2\n",
    "            ans.append(s1 + str(i) + s2)\n",
    "        return ans"
   ]
  },
  {
   "cell_type": "markdown",
   "metadata": {},
   "source": [
    "Vertical Width of a Binary Tree (repeat)\n",
    "\n",
    "https://www.geeksforgeeks.org/problems/vertical-width-of-a-binary-tree/1\n"
   ]
  },
  {
   "cell_type": "code",
   "execution_count": 29,
   "metadata": {},
   "outputs": [
    {
     "name": "stdout",
     "output_type": "stream",
     "text": [
      "0, 1, [0, 0]\n",
      "-1, 2, [-1, 0]\n",
      "-2, 4, [-2, 0]\n",
      "0, 5, [-2, 0]\n",
      "1, 3, [-2, 1]\n",
      "0, 6, [-2, 1]\n",
      "1, 8, [-2, 1]\n",
      "2, 7, [-2, 2]\n",
      "3, 9, [-2, 3]\n",
      "6\n"
     ]
    }
   ],
   "source": [
    "class Node:\n",
    "    def __init__(self, key):\n",
    "        self.data = key\n",
    "        self.left = None\n",
    "        self.right = None\n",
    "\n",
    "def verticalWidth(root):\n",
    "    if not root:\n",
    "        return 0\n",
    "    \n",
    "    # Dictionary to store the horizontal distances\n",
    "    min_max = [0, 0]  # min_max[0] is min distance, min_max[1] is max distance\n",
    "    \n",
    "    def findWidth(node, hd):\n",
    "        if not node:\n",
    "            return\n",
    "        \n",
    "        # Update the minimum and maximum distances\n",
    "        if hd < min_max[0]:\n",
    "            min_max[0] = hd\n",
    "        elif hd > min_max[1]:\n",
    "            min_max[1] = hd\n",
    "        \n",
    "        print(f\"{hd}, {node.data}, {min_max}\")\n",
    "        # Recur for the left and right children\n",
    "        findWidth(node.left, hd - 1)\n",
    "        findWidth(node.right, hd + 1)\n",
    "    \n",
    "    # Start from the root with horizontal distance 0\n",
    "    findWidth(root, 0)\n",
    "    \n",
    "    # Vertical width is max distance - min distance + 1\n",
    "    return min_max[1] - min_max[0] + 1\n",
    "\n",
    "# Example usage:\n",
    "# Construct the tree\n",
    "#          1\n",
    "#       /    \\\n",
    "#      2      3\n",
    "#     / \\    /  \\\n",
    "#    4   5  6   7\n",
    "#            \\   \\\n",
    "#             8   9\n",
    "\n",
    "root = Node(1)\n",
    "root.left = Node(2)\n",
    "root.right = Node(3)\n",
    "root.left.left = Node(4)\n",
    "root.left.right = Node(5)\n",
    "root.right.left = Node(6)\n",
    "root.right.right = Node(7)\n",
    "root.right.left.right = Node(8)\n",
    "root.right.right.right = Node(9)\n",
    "\n",
    "print(verticalWidth(root))  # Output: 6\n"
   ]
  },
  {
   "cell_type": "markdown",
   "metadata": {},
   "source": [
    "Find n-th term of series 1, 3, 6, 10, 15, 21 (repeat)\n",
    "\n",
    "https://www.geeksforgeeks.org/problems/find-n-th-term-of-series-1-3-6-10-15-215506/1?page=1&difficulty=School&status=unsolved&sortBy=accuracy"
   ]
  },
  {
   "cell_type": "code",
   "execution_count": 2,
   "metadata": {},
   "outputs": [],
   "source": [
    "class Solution:\n",
    "    def findNthTerm(self, N):\n",
    "        # code here \n",
    "        return int(N*(N+1)/2)"
   ]
  },
  {
   "cell_type": "markdown",
   "metadata": {},
   "source": [
    "Power of Pow | Even Number\n",
    "\n",
    "https://www.geeksforgeeks.org/problems/power-of-pow-even-number5440/1?page=3&difficulty=School&status=unsolved&sortBy=accuracy"
   ]
  },
  {
   "cell_type": "code",
   "execution_count": 7,
   "metadata": {},
   "outputs": [
    {
     "name": "stdout",
     "output_type": "stream",
     "text": [
      "20\n",
      "120\n",
      "56\n"
     ]
    }
   ],
   "source": [
    "class Solution:\n",
    "\tdef sum_of_square_evenNumbers(self, n):\n",
    "\t    return sum([(i*2)**2 for i in range(1, n + 1)])\n",
    "\t\n",
    "\n",
    "s = Solution()\n",
    "print(s.sum_of_square_evenNumbers(2))\n",
    "print(s.sum_of_square_evenNumbers(4))\n",
    "print(s.sum_of_square_evenNumbers(3))"
   ]
  },
  {
   "cell_type": "markdown",
   "metadata": {},
   "source": [
    "12 hour clock Multiplication\n",
    "\n",
    "https://www.geeksforgeeks.org/problems/12-hour-clock-multiplication4709/1?page=1&difficulty=School&status=unsolved&sortBy=accuracy"
   ]
  },
  {
   "cell_type": "code",
   "execution_count": 8,
   "metadata": {},
   "outputs": [],
   "source": [
    "class Solution:\n",
    "    def mulClock(self, num1, num2):\n",
    "        if num1 * num2 < 12:\n",
    "            return num1 * num2\n",
    "        else:\n",
    "            return (num1 * num2) % 12"
   ]
  }
 ],
 "metadata": {
  "kernelspec": {
   "display_name": "Python 3",
   "language": "python",
   "name": "python3"
  },
  "language_info": {
   "codemirror_mode": {
    "name": "ipython",
    "version": 3
   },
   "file_extension": ".py",
   "mimetype": "text/x-python",
   "name": "python",
   "nbconvert_exporter": "python",
   "pygments_lexer": "ipython3",
   "version": "3.11.5"
  }
 },
 "nbformat": 4,
 "nbformat_minor": 2
}
