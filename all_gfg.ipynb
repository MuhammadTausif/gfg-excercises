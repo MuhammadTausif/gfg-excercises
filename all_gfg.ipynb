{
 "cells": [
  {
   "cell_type": "markdown",
   "metadata": {},
   "source": [
    "Odd or Even\n",
    "\n",
    "https://www.geeksforgeeks.org/problems/odd-or-even3618/1?page=1&difficulty=School&status=unsolved&sortBy=submissions"
   ]
  },
  {
   "cell_type": "code",
   "execution_count": 8,
   "metadata": {},
   "outputs": [
    {
     "data": {
      "text/plain": [
       "True"
      ]
     },
     "execution_count": 8,
     "metadata": {},
     "output_type": "execute_result"
    }
   ],
   "source": [
    "class Solution:\n",
    "    def oddEven (ob,N):\n",
    "        # code here \n",
    "        pass\n",
    "        return N%2\n",
    "\n",
    "\n",
    "bool(1%2)"
   ]
  },
  {
   "cell_type": "markdown",
   "metadata": {},
   "source": [
    "GCD of two numbers\n",
    "\n",
    "https://www.geeksforgeeks.org/problems/gcd-of-two-numbers3459/1?page=1&difficulty=School&status=unsolved&sortBy=submissions"
   ]
  },
  {
   "cell_type": "code",
   "execution_count": 12,
   "metadata": {},
   "outputs": [
    {
     "name": "stdout",
     "output_type": "stream",
     "text": [
      "1\n",
      "yes 1\n",
      "2\n",
      "3\n",
      "yes 3\n",
      "4\n",
      "5\n",
      "6\n"
     ]
    }
   ],
   "source": [
    "a = 3\n",
    "b = 6\n",
    "\n",
    "for i in range(1,b+1):\n",
    "    print(i)\n",
    "    if a%i==0 and b%i==0:\n",
    "        print(\"yes\", i)"
   ]
  },
  {
   "cell_type": "code",
   "execution_count": 1,
   "metadata": {},
   "outputs": [
    {
     "name": "stdout",
     "output_type": "stream",
     "text": [
      "3 , 6\n",
      "6 , 3\n",
      "3\n",
      "1 , 6\n",
      "6 , 1\n",
      "1\n",
      "1 , 1\n",
      "1\n",
      "7 , 541\n",
      "541 , 7\n",
      "7 , 2\n",
      "2 , 1\n",
      "1\n"
     ]
    }
   ],
   "source": [
    "class Solution:\n",
    "    def gcd(self, a : int, b : int) -> int:\n",
    "        while b :\n",
    "              print(a,',',b)\n",
    "              a, b = b, a%b\n",
    "        return a\n",
    "\n",
    "s = Solution()\n",
    "print(s.gcd(3,6))\n",
    "print(s.gcd(1,6))\n",
    "print(s.gcd(1,1))\n",
    "print(s.gcd(7,541))"
   ]
  },
  {
   "cell_type": "markdown",
   "metadata": {},
   "source": [
    "Perfect Arrays\n",
    "\n",
    "https://www.geeksforgeeks.org/problems/perfect-arrays4645/1?page=1&difficulty=School&status=unsolved&sortBy=submissions"
   ]
  },
  {
   "cell_type": "code",
   "execution_count": 2,
   "metadata": {},
   "outputs": [
    {
     "data": {
      "text/plain": [
       "True"
      ]
     },
     "execution_count": 2,
     "metadata": {},
     "output_type": "execute_result"
    }
   ],
   "source": [
    "arr = [1, 2, 3, 2, 1]\n",
    "arr[::-1] == arr"
   ]
  },
  {
   "cell_type": "markdown",
   "metadata": {},
   "source": [
    "Smaller and Large\n",
    "\n",
    "https://www.geeksforgeeks.org/problems/smaller-and-larger4005/1?page=1&difficulty=School&status=unsolved&sortBy=submissions"
   ]
  },
  {
   "cell_type": "code",
   "execution_count": 3,
   "metadata": {},
   "outputs": [
    {
     "data": {
      "text/plain": [
       "(0, 7)"
      ]
     },
     "execution_count": 3,
     "metadata": {},
     "output_type": "execute_result"
    }
   ],
   "source": [
    "from bisect import bisect_right\n",
    "class Solution:\n",
    "\tdef getMoreAndLess(self,arr, n, x):\n",
    "            \n",
    "            a = bisect_right(arr, x)\n",
    "            b = n - bisect_right(arr, x - 1)\n",
    "            return a, b\n",
    "\n",
    "s = Solution()\n",
    "s.getMoreAndLess([1, 2, 8, 10, 11, 12, 19], 7, 0)"
   ]
  },
  {
   "cell_type": "code",
   "execution_count": 11,
   "metadata": {},
   "outputs": [
    {
     "name": "stdout",
     "output_type": "stream",
     "text": [
      "6\n"
     ]
    },
    {
     "data": {
      "text/plain": [
       "int"
      ]
     },
     "execution_count": 11,
     "metadata": {},
     "output_type": "execute_result"
    }
   ],
   "source": [
    "from bisect import bisect_right, bisect_left\n",
    "print(bisect_right([1, 2, 8, 10, 11, 12, 19, 20, 30], 15))\n",
    "type(br)"
   ]
  },
  {
   "cell_type": "markdown",
   "metadata": {},
   "source": [
    "Sum Of Digits\n",
    "\n",
    "https://www.geeksforgeeks.org/problems/sum-of-digits1742/1?page=1&difficulty=School&status=unsolved&sortBy=submissions"
   ]
  },
  {
   "cell_type": "code",
   "execution_count": 12,
   "metadata": {},
   "outputs": [
    {
     "data": {
      "text/plain": [
       "5"
      ]
     },
     "execution_count": 12,
     "metadata": {},
     "output_type": "execute_result"
    }
   ],
   "source": [
    "class Solution:\n",
    "    def sumOfDigits (self, N):\n",
    "        return sum([int(i) for i in N])\n",
    "    \n",
    "\n",
    "s = Solution()\n",
    "s.sumOfDigits('23')"
   ]
  },
  {
   "cell_type": "markdown",
   "metadata": {},
   "source": [
    "Even Odd Sum\n",
    "\n",
    "https://www.geeksforgeeks.org/problems/even-odd-sum5450/1?page=3&difficulty=School&status=unsolved&sortBy=submissions"
   ]
  },
  {
   "cell_type": "code",
   "execution_count": 15,
   "metadata": {},
   "outputs": [
    {
     "data": {
      "text/plain": [
       "(9, 6)"
      ]
     },
     "execution_count": 15,
     "metadata": {},
     "output_type": "execute_result"
    }
   ],
   "source": [
    "#User function Template for python3\n",
    "\n",
    "class Solution:\n",
    "    def EvenOddSum(self,N,Arr):\n",
    "        return sum(Arr[::2]), sum(Arr[1::2])\n",
    "    \n",
    "\n",
    "s = Solution()\n",
    "s.EvenOddSum(5,[1,2,3,4,5])"
   ]
  },
  {
   "cell_type": "markdown",
   "metadata": {},
   "source": [
    "Series AP\n",
    "\n",
    "https://www.geeksforgeeks.org/problems/series-ap5310/1?page=1&difficulty=School&status=unsolved&sortBy=submissions"
   ]
  },
  {
   "cell_type": "code",
   "execution_count": 16,
   "metadata": {},
   "outputs": [
    {
     "data": {
      "text/plain": [
       "1"
      ]
     },
     "execution_count": 16,
     "metadata": {},
     "output_type": "execute_result"
    }
   ],
   "source": [
    "a1 = 2\n",
    "a2 = 3\n",
    "n = 4\n",
    "d = a2 - a1\n",
    "\n",
    "d"
   ]
  },
  {
   "cell_type": "code",
   "execution_count": 18,
   "metadata": {},
   "outputs": [
    {
     "data": {
      "text/plain": [
       "19"
      ]
     },
     "execution_count": 18,
     "metadata": {},
     "output_type": "execute_result"
    }
   ],
   "source": [
    "a1 = 1\n",
    "a2 = 3\n",
    "n = 10\n",
    "\n",
    "d = a2 - a1\n",
    "d\n",
    "a1 + (10-1)*2\n",
    "an = a1+(n-1)*d"
   ]
  },
  {
   "cell_type": "markdown",
   "metadata": {},
   "source": [
    "Swap number\n",
    "\n",
    "https://www.geeksforgeeks.org/problems/swap-two-numbers3844/1?page=1&difficulty=School&status=unsolved&sortBy=submissions"
   ]
  },
  {
   "cell_type": "code",
   "execution_count": 20,
   "metadata": {},
   "outputs": [],
   "source": [
    "a, b = 1, 2\n",
    "a, b = b, a"
   ]
  },
  {
   "cell_type": "markdown",
   "metadata": {},
   "source": [
    "Sum Palindrome\n",
    "\n",
    "https://www.geeksforgeeks.org/problems/sum-palindrome3857/1?page=1&difficulty=School&status=unsolved&sortBy=submissions"
   ]
  },
  {
   "cell_type": "code",
   "execution_count": 22,
   "metadata": {},
   "outputs": [
    {
     "name": "stdout",
     "output_type": "stream",
     "text": [
      "55\n",
      "121\n"
     ]
    }
   ],
   "source": [
    "class Solution:\n",
    "    def isSumPalindrome (self, n):\n",
    "        if str(n) == str(n)[::-1]:\n",
    "                return n\n",
    "        for i in range(5):\n",
    "            n = n + int(str(n)[::-1])\n",
    "            if str(n) == str(n)[::-1]:\n",
    "                return n\n",
    "            \n",
    "        return -1\n",
    "\n",
    "s = Solution()\n",
    "print(s.isSumPalindrome(23))\n",
    "print(s.isSumPalindrome(73))\n",
    "print(s.isSumPalindrome(73))\n"
   ]
  },
  {
   "cell_type": "markdown",
   "metadata": {},
   "source": [
    "The dice problem\n",
    "\n",
    "https://www.geeksforgeeks.org/problems/the-dice-problem2316/1?page=1&difficulty=School&status=unsolved&sortBy=submissions"
   ]
  },
  {
   "cell_type": "code",
   "execution_count": 15,
   "metadata": {},
   "outputs": [],
   "source": [
    "# class Solution:\n",
    "#     def oppositeFaceOfDice(self, N):\n",
    "#     \t#code here \n",
    "#     \tif N == 6:\n",
    "#     \t    return 1\n",
    "#     \telif N==5:\n",
    "#     \t    return 2\n",
    "#     \telif N==2:\n",
    "#     \t    return 5\n",
    "#     \telif N==3:\n",
    "#     \t    return 4\n",
    "#     \telif N==4:\n",
    "#     \t    return 3\n",
    "#     \telif N==1:\n",
    "#     \t    return 6"
   ]
  },
  {
   "cell_type": "markdown",
   "metadata": {},
   "source": [
    "Print 1 to n without using loops (repeat)\n",
    "\n",
    "https://www.geeksforgeeks.org/problems/print-1-to-n-without-using-loops3621/1?page=1&difficulty=School&status=unsolved&sortBy=submissions"
   ]
  },
  {
   "cell_type": "code",
   "execution_count": 18,
   "metadata": {},
   "outputs": [
    {
     "name": "stdout",
     "output_type": "stream",
     "text": [
      "1\n",
      "2\n",
      "3\n",
      "4\n",
      "5\n"
     ]
    }
   ],
   "source": [
    "class Solution:        \n",
    "    def printTillN(self, N):       \n",
    "        if N == 0:\n",
    "             return True\n",
    "        else:\n",
    "            self.printTillN(N-1)\n",
    "        print(N)\n",
    "s = Solution()\n",
    "s.printTillN(5)"
   ]
  },
  {
   "cell_type": "markdown",
   "metadata": {},
   "source": [
    "Multiplication Table\n",
    "\n",
    "https://www.geeksforgeeks.org/problems/print-table0303/1?page=1&difficulty=School&status=unsolved&sortBy=submissions"
   ]
  },
  {
   "cell_type": "code",
   "execution_count": 22,
   "metadata": {},
   "outputs": [
    {
     "name": "stdout",
     "output_type": "stream",
     "text": [
      "[9, 18, 27, 36, 45, 54, 63, 72, 81]\n",
      "[10, 20, 30, 40, 50, 60, 70, 80, 90]\n"
     ]
    }
   ],
   "source": [
    "class Solution:\n",
    "    def getTable(self,N):\n",
    "        table = []\n",
    "        for i in range(1, 10):\n",
    "            table.append(i*N)\n",
    "        \n",
    "        return table\n",
    "    \n",
    "s = Solution()\n",
    "print(s.getTable(9))\n",
    "print(s.getTable(10))"
   ]
  },
  {
   "cell_type": "markdown",
   "metadata": {},
   "source": [
    "Compete the skills\n",
    "\n",
    "https://www.geeksforgeeks.org/problems/compete-the-skills5807/1?page=1&difficulty=School&status=unsolved&sortBy=submissions"
   ]
  },
  {
   "cell_type": "code",
   "execution_count": 23,
   "metadata": {},
   "outputs": [],
   "source": [
    "class Solution:\n",
    "    def scores(self, a, b, cc):\n",
    "        for i, j in zip(a, b):\n",
    "            pass\n",
    "\n"
   ]
  },
  {
   "cell_type": "markdown",
   "metadata": {},
   "source": [
    "Remove all occurences of duplicates in a linked list (repeat)\n",
    "\n",
    "https://www.geeksforgeeks.org/problems/remove-all-occurences-of-duplicates-in-a-linked-list/1"
   ]
  },
  {
   "cell_type": "code",
   "execution_count": 24,
   "metadata": {},
   "outputs": [],
   "source": [
    "#User function Template for python3\n",
    "\n",
    "\n",
    "# Linked list Node class\n",
    "\n",
    "class Node :\n",
    "    def __init__(self, val):\n",
    "        self.data = val\n",
    "        self.next = None\n",
    "\n",
    "\n",
    "\n",
    "class Solution:\n",
    "    def removeAllDuplicates(self, head):\n",
    "        if not head:\n",
    "            return None\n",
    "        \n",
    "        # Create a dummy node\n",
    "        dummy = Node(0)\n",
    "        dummy.next = head\n",
    "        prev = dummy\n",
    "        current = head\n",
    "        \n",
    "        while current:\n",
    "            # Check if current node is a duplicate\n",
    "            is_duplicate = False\n",
    "            while current.next and current.data == current.next.data:\n",
    "                current = current.next\n",
    "                is_duplicate = True\n",
    "            \n",
    "            if is_duplicate:\n",
    "                # Skip all duplicates\n",
    "                current = current.next\n",
    "                continue\n",
    "            \n",
    "            # Link the last non-duplicate node to the current node\n",
    "            prev.next = current\n",
    "            prev = current\n",
    "            current = current.next\n",
    "        \n",
    "        # Handle the case where the last segment of the list contains duplicates\n",
    "        prev.next = None\n",
    "        \n",
    "        return dummy.next\n",
    "\n",
    "# Helper function to print the linked list\n",
    "def printList(head):\n",
    "    while head:\n",
    "        print(head.data, end=\" \")\n",
    "        head = head.next\n",
    "    print()\n",
    "\n"
   ]
  },
  {
   "cell_type": "markdown",
   "metadata": {},
   "source": [
    "1s Complement\n",
    "\n",
    "https://www.geeksforgeeks.org/problems/1s-complement2819/1?page=1&difficulty=School&status=unsolved&sortBy=accuracy"
   ]
  },
  {
   "cell_type": "code",
   "execution_count": 3,
   "metadata": {},
   "outputs": [
    {
     "name": "stdout",
     "output_type": "stream",
     "text": [
      "010\n",
      "01\n"
     ]
    }
   ],
   "source": [
    "class Solution:\n",
    "    def onesComplement(self,S,N):\n",
    "        return ''.join(['0' if i == '1' else '1' for i in S])\n",
    "\n",
    "\n",
    "\n",
    "s = Solution()\n",
    "print(s.onesComplement('101', 3))\n",
    "print(s.onesComplement('10', 2))"
   ]
  },
  {
   "cell_type": "markdown",
   "metadata": {},
   "source": [
    "Number Pattern\n",
    "\n",
    "https://www.geeksforgeeks.org/problems/number-pattern0517/1?page=1&difficulty=School&status=unsolved&sortBy=accuracy"
   ]
  },
  {
   "cell_type": "code",
   "execution_count": 25,
   "metadata": {},
   "outputs": [
    {
     "name": "stdout",
     "output_type": "stream",
     "text": [
      "1 121 12321 \n",
      "1 121 12321 1234321 \n",
      "1 121 12321 1234321 123454321 12345654321 \n"
     ]
    }
   ],
   "source": [
    "class Solution:\n",
    "\tdef numberPattern(self, N):\n",
    "\t\to = ''\n",
    "\t\tfor i in range(1, N+1):\n",
    "\t\t\tfor j in range(1, i+1):\n",
    "\t\t\t\to+=str(j)\n",
    "\t\t\t\t# print(j, end='')\n",
    "\t\t\tfor k in range(i-1,0,-1):\n",
    "\t\t\t\to+=str(k)\n",
    "\t\t\t\t# print(k, end='')\n",
    "\t\t\to+=' '\n",
    "\t\t\t# print(' ', end='')\n",
    "\t\t\t# print(o)\n",
    "\t\treturn o\n",
    "\t\t\n",
    "\n",
    "s = Solution()    \t\t\n",
    "print(s.numberPattern(3))\n",
    "print(s.numberPattern(4))\n",
    "print(s.numberPattern(6))\n",
    "\n",
    "class Solution_correct:\n",
    "    def numberPattern(self, N):\n",
    "        # code here\n",
    "        ans = []\n",
    "        for i in range(1, N + 1):\n",
    "            s1 = ''\n",
    "            s2 = ''\n",
    "            for j in range(1, i):\n",
    "                s1 += str(j)\n",
    "                s2 = str(j) + s2\n",
    "            ans.append(s1 + str(i) + s2)\n",
    "        return ans"
   ]
  },
  {
   "cell_type": "markdown",
   "metadata": {},
   "source": [
    "Vertical Width of a Binary Tree (repeat)\n",
    "\n",
    "https://www.geeksforgeeks.org/problems/vertical-width-of-a-binary-tree/1\n"
   ]
  },
  {
   "cell_type": "code",
   "execution_count": 29,
   "metadata": {},
   "outputs": [
    {
     "name": "stdout",
     "output_type": "stream",
     "text": [
      "0, 1, [0, 0]\n",
      "-1, 2, [-1, 0]\n",
      "-2, 4, [-2, 0]\n",
      "0, 5, [-2, 0]\n",
      "1, 3, [-2, 1]\n",
      "0, 6, [-2, 1]\n",
      "1, 8, [-2, 1]\n",
      "2, 7, [-2, 2]\n",
      "3, 9, [-2, 3]\n",
      "6\n"
     ]
    }
   ],
   "source": [
    "class Node:\n",
    "    def __init__(self, key):\n",
    "        self.data = key\n",
    "        self.left = None\n",
    "        self.right = None\n",
    "\n",
    "def verticalWidth(root):\n",
    "    if not root:\n",
    "        return 0\n",
    "    \n",
    "    # Dictionary to store the horizontal distances\n",
    "    min_max = [0, 0]  # min_max[0] is min distance, min_max[1] is max distance\n",
    "    \n",
    "    def findWidth(node, hd):\n",
    "        if not node:\n",
    "            return\n",
    "        \n",
    "        # Update the minimum and maximum distances\n",
    "        if hd < min_max[0]:\n",
    "            min_max[0] = hd\n",
    "        elif hd > min_max[1]:\n",
    "            min_max[1] = hd\n",
    "        \n",
    "        print(f\"{hd}, {node.data}, {min_max}\")\n",
    "        # Recur for the left and right children\n",
    "        findWidth(node.left, hd - 1)\n",
    "        findWidth(node.right, hd + 1)\n",
    "    \n",
    "    # Start from the root with horizontal distance 0\n",
    "    findWidth(root, 0)\n",
    "    \n",
    "    # Vertical width is max distance - min distance + 1\n",
    "    return min_max[1] - min_max[0] + 1\n",
    "\n",
    "# Example usage:\n",
    "# Construct the tree\n",
    "#          1\n",
    "#       /    \\\n",
    "#      2      3\n",
    "#     / \\    /  \\\n",
    "#    4   5  6   7\n",
    "#            \\   \\\n",
    "#             8   9\n",
    "\n",
    "root = Node(1)\n",
    "root.left = Node(2)\n",
    "root.right = Node(3)\n",
    "root.left.left = Node(4)\n",
    "root.left.right = Node(5)\n",
    "root.right.left = Node(6)\n",
    "root.right.right = Node(7)\n",
    "root.right.left.right = Node(8)\n",
    "root.right.right.right = Node(9)\n",
    "\n",
    "print(verticalWidth(root))  # Output: 6\n"
   ]
  },
  {
   "cell_type": "markdown",
   "metadata": {},
   "source": [
    "Find n-th term of series 1, 3, 6, 10, 15, 21 (repeat)\n",
    "\n",
    "https://www.geeksforgeeks.org/problems/find-n-th-term-of-series-1-3-6-10-15-215506/1?page=1&difficulty=School&status=unsolved&sortBy=accuracy"
   ]
  },
  {
   "cell_type": "code",
   "execution_count": 2,
   "metadata": {},
   "outputs": [],
   "source": [
    "class Solution:\n",
    "    def findNthTerm(self, N):\n",
    "        # code here \n",
    "        return int(N*(N+1)/2)"
   ]
  },
  {
   "cell_type": "markdown",
   "metadata": {},
   "source": [
    "Power of Pow | Even Number\n",
    "\n",
    "https://www.geeksforgeeks.org/problems/power-of-pow-even-number5440/1?page=3&difficulty=School&status=unsolved&sortBy=accuracy"
   ]
  },
  {
   "cell_type": "code",
   "execution_count": 7,
   "metadata": {},
   "outputs": [
    {
     "name": "stdout",
     "output_type": "stream",
     "text": [
      "20\n",
      "120\n",
      "56\n"
     ]
    }
   ],
   "source": [
    "class Solution:\n",
    "\tdef sum_of_square_evenNumbers(self, n):\n",
    "\t    return sum([(i*2)**2 for i in range(1, n + 1)])\n",
    "\t\n",
    "\n",
    "s = Solution()\n",
    "print(s.sum_of_square_evenNumbers(2))\n",
    "print(s.sum_of_square_evenNumbers(4))\n",
    "print(s.sum_of_square_evenNumbers(3))"
   ]
  },
  {
   "cell_type": "markdown",
   "metadata": {},
   "source": [
    "12 hour clock Multiplication\n",
    "\n",
    "https://www.geeksforgeeks.org/problems/12-hour-clock-multiplication4709/1?page=1&difficulty=School&status=unsolved&sortBy=accuracy"
   ]
  },
  {
   "cell_type": "code",
   "execution_count": 8,
   "metadata": {},
   "outputs": [],
   "source": [
    "class Solution:\n",
    "    def mulClock(self, num1, num2):\n",
    "        if num1 * num2 < 12:\n",
    "            return num1 * num2\n",
    "        else:\n",
    "            return (num1 * num2) % 12"
   ]
  },
  {
   "cell_type": "markdown",
   "metadata": {},
   "source": [
    "Sum of an AP\n",
    "\n",
    "https://www.geeksforgeeks.org/problems/sum-of-an-ap1025/1?page=1&difficulty=School&status=unsolved&sortBy=accuracy"
   ]
  },
  {
   "cell_type": "code",
   "execution_count": 9,
   "metadata": {},
   "outputs": [],
   "source": [
    "class Solution:\n",
    "\tdef sum_of_ap(self, n, a, d):\n",
    "\t\t# Code here\n",
    "\t\treturn int((n/2)*(2*a + (n-1)*d))"
   ]
  },
  {
   "cell_type": "markdown",
   "metadata": {},
   "source": [
    "Addition of two square matrices\n",
    "\n",
    "https://www.geeksforgeeks.org/problems/addition-of-two-square-matrices4916/1?page=1&difficulty=School&status=unsolved&sortBy=accuracy"
   ]
  },
  {
   "cell_type": "code",
   "execution_count": 28,
   "metadata": {},
   "outputs": [
    {
     "name": "stdout",
     "output_type": "stream",
     "text": [
      "[[5, 5], [5, 5]]\n",
      "[[14, 31], [23, 5]]\n"
     ]
    }
   ],
   "source": [
    "class Solution:\n",
    "\tdef Addition(self, matrixA, matrixB):\n",
    "\t\tfor i,k in enumerate(matrixA):\n",
    "\t\t\tfor j, l in enumerate(k):\n",
    "\t\t\t\tmatrixA[i][j] += matrixB[i][j]\t\t\t\t\n",
    "\n",
    "\t\tprint(f'{matrixA}')\n",
    "\t\t\n",
    "s = Solution()\n",
    "\n",
    "s.Addition([[1, 2], [3, 4]],[[4, 3], [2, 1]])\n",
    "s.Addition([[0, 1], [3, 4]],[[14, 30], [20, 1]])"
   ]
  },
  {
   "cell_type": "markdown",
   "metadata": {},
   "source": [
    "Compete the skills\n",
    "\n",
    "https://www.geeksforgeeks.org/problems/compete-the-skills5807/1?page=1&difficulty=School&status=unsolved&sortBy=accuracy"
   ]
  },
  {
   "cell_type": "code",
   "execution_count": 30,
   "metadata": {},
   "outputs": [
    {
     "name": "stdout",
     "output_type": "stream",
     "text": [
      "[1, 2]\n",
      "[0, 2]\n"
     ]
    }
   ],
   "source": [
    "class Solution:\n",
    "    def scores(self, a, b, cc):\n",
    "        for l, m in zip(a,b):\n",
    "            if l > m:\n",
    "                cc[0]+=1\n",
    "            elif m>l:\n",
    "                cc[1]+=1\n",
    "        print(cc)\n",
    "\n",
    "\n",
    "s = Solution()\n",
    "s.scores([4, 2, 7],[5, 6, 3], [0,0])\n",
    "s.scores([4, 2, 7],[5, 2, 8],[0,0])"
   ]
  },
  {
   "cell_type": "markdown",
   "metadata": {},
   "source": [
    "Multiply Array\n",
    "\n",
    "https://www.geeksforgeeks.org/problems/multiply-array-1658312632/1?page=1&difficulty=School&status=unsolved&sortBy=accuracy"
   ]
  },
  {
   "cell_type": "code",
   "execution_count": 36,
   "metadata": {},
   "outputs": [
    {
     "name": "stdout",
     "output_type": "stream",
     "text": [
      "120\n"
     ]
    }
   ],
   "source": [
    "class Solution:\n",
    "    def longest(self, arr, n):\n",
    "        o = 1\n",
    "        for i in arr:\n",
    "            o*=i\n",
    "        \n",
    "        print(o)\n",
    "\n",
    "s= Solution()\n",
    "s.longest([1,2,3,4,5], 5)\n"
   ]
  },
  {
   "cell_type": "markdown",
   "metadata": {},
   "source": [
    "Area of Rectangle, Right Angled Triangle and Circle\n",
    "\n",
    "https://www.geeksforgeeks.org/problems/area-of-rectange-right-angled-triangle-and-circle2600/1?page=1&difficulty=School&status=unsolved&sortBy=accuracy"
   ]
  },
  {
   "cell_type": "code",
   "execution_count": 40,
   "metadata": {},
   "outputs": [
    {
     "name": "stdout",
     "output_type": "stream",
     "text": [
      "(1024, 324, 8490)\n"
     ]
    }
   ],
   "source": [
    "class Solution:\n",
    "    def getAreas(self, L , W , B , H , R):\n",
    "        o = L*W, int(0.5*B*H), int(3.14*(R**2))\n",
    "        print(o)\n",
    "\n",
    "s = Solution()\n",
    "s.getAreas( L = 32 , W = 32 , B = 54 ,H = 12 , R = 52)"
   ]
  },
  {
   "cell_type": "markdown",
   "metadata": {},
   "source": [
    "Parallel or Perpendicular? (repeat)\n",
    "\n",
    "https://www.geeksforgeeks.org/problems/parallel-or-perpendicular4257/1?page=1&difficulty=School&status=unsolved&sortBy=accuracy"
   ]
  },
  {
   "cell_type": "code",
   "execution_count": 1,
   "metadata": {},
   "outputs": [
    {
     "ename": "ValueError",
     "evalue": "invalid literal for int() with base 10: ''",
     "output_type": "error",
     "traceback": [
      "\u001b[1;31m---------------------------------------------------------------------------\u001b[0m",
      "\u001b[1;31mValueError\u001b[0m                                Traceback (most recent call last)",
      "Cell \u001b[1;32mIn [1], line 21\u001b[0m\n\u001b[0;32m     16\u001b[0m \u001b[38;5;66;03m#{ \u001b[39;00m\n\u001b[0;32m     17\u001b[0m  \u001b[38;5;66;03m# Driver Code Starts\u001b[39;00m\n\u001b[0;32m     18\u001b[0m \u001b[38;5;66;03m#Initial Template for Python 3\u001b[39;00m\n\u001b[0;32m     20\u001b[0m \u001b[38;5;28;01mif\u001b[39;00m \u001b[38;5;18m__name__\u001b[39m \u001b[38;5;241m==\u001b[39m \u001b[38;5;124m'\u001b[39m\u001b[38;5;124m__main__\u001b[39m\u001b[38;5;124m'\u001b[39m:\n\u001b[1;32m---> 21\u001b[0m \tT\u001b[38;5;241m=\u001b[39m\u001b[38;5;28;43mint\u001b[39;49m\u001b[43m(\u001b[49m\u001b[38;5;28;43minput\u001b[39;49m\u001b[43m(\u001b[49m\u001b[43m)\u001b[49m\u001b[43m)\u001b[49m\n\u001b[0;32m     22\u001b[0m \t\u001b[38;5;28;01mfor\u001b[39;00m i \u001b[38;5;129;01min\u001b[39;00m \u001b[38;5;28mrange\u001b[39m(T):\n\u001b[0;32m     23\u001b[0m \t\tA \u001b[38;5;241m=\u001b[39m \u001b[38;5;28mlist\u001b[39m(\u001b[38;5;28mmap\u001b[39m(\u001b[38;5;28mint\u001b[39m, \u001b[38;5;28minput\u001b[39m()\u001b[38;5;241m.\u001b[39msplit()))\n",
      "\u001b[1;31mValueError\u001b[0m: invalid literal for int() with base 10: ''"
     ]
    }
   ],
   "source": [
    "#User function Template for python3\n",
    "\n",
    "class Solution:\n",
    "\tdef find(self, A, B):\n",
    "\t\t# Code here\n",
    "\t\ta1, a2, a3 = A\n",
    "\t\tb1, b2, b3 = B\n",
    "\t\tif ((a2*b3-a3*b2)**2 + (a1*b3-b1*a3)**2 + (a1*b2-a2*b1)**2)  == 0: # parallel >>> Here is a bug if i use >>>if ((a2*b3-a3*b2)2 + (a1*b3-b1*a3)2 + (a1*b2-a2*b1))  == 0\n",
    "\t\t    return 1\n",
    "\t\telif ((a1*b1) + (a2*b2) + (a3*b3)) ==0: # parpendicular\n",
    "\t\t    return 2\n",
    "\t\telse:\n",
    "\t\t    return 0 #otherwise\n",
    "\n",
    "\n",
    "#{ \n",
    " # Driver Code Starts\n",
    "#Initial Template for Python 3\n",
    "\n",
    "# if __name__ == '__main__':\n",
    "# \tT=int(input())\n",
    "# \tfor i in range(T):\n",
    "# \t\tA = list(map(int, input().split()))\n",
    "# \t\tB = list(map(int,input().split()))\n",
    "# \t\tob = Solution()\n",
    "# \t\tans = ob.find(A, B)\n",
    "# \t\tprint(ans)\n",
    "# } Driver Code Ends"
   ]
  },
  {
   "cell_type": "markdown",
   "metadata": {},
   "source": [
    "Search in Rotated Sorted Arra (repeat)\n",
    "\n",
    "https://www.geeksforgeeks.org/problems/search-in-a-rotated-array4618/1"
   ]
  },
  {
   "cell_type": "code",
   "execution_count": null,
   "metadata": {},
   "outputs": [],
   "source": [
    "def search_rotated_array(arr, key):\n",
    "    left, right = 0, len(arr) - 1\n",
    "    \n",
    "    while left <= right:\n",
    "        mid = (left + right) // 2\n",
    "        \n",
    "        if arr[mid] == key:\n",
    "            return mid\n",
    "        \n",
    "        # Determine which side is sorted\n",
    "        if arr[left] <= arr[mid]:  # Left half is sorted\n",
    "            if arr[left] <= key < arr[mid]:\n",
    "                right = mid - 1\n",
    "            else:\n",
    "                left = mid + 1\n",
    "        else:  # Right half is sorted\n",
    "            if arr[mid] < key <= arr[right]:\n",
    "                left = mid + 1\n",
    "            else:\n",
    "                right = mid - 1\n",
    "    \n",
    "    return -1\n",
    "\n",
    "# Example usage\n",
    "arr1 = [5, 6, 7, 8, 9, 10, 1, 2, 3]\n",
    "key1 = 10\n",
    "print(search_rotated_array(arr1, key1))  # Output: 5\n",
    "\n",
    "arr2 = [3, 5, 1, 2]\n",
    "key2 = 6\n",
    "print(search_rotated_array(arr2, key2))  # Output: -1\n"
   ]
  },
  {
   "cell_type": "markdown",
   "metadata": {},
   "source": [
    "### Closest Three Sum (repeat)\n",
    "\n",
    "https://www.geeksforgeeks.org/problems/three-sum-closest/1\n",
    "\n",
    "Given an array, arr of integers, and another number target, find three integers in the array such that their sum is closest to the target. Return the sum of the three integers.\n",
    "\n",
    "Note: If there are multiple solutions, return the maximum one.\n",
    "\n",
    "Examples :\n",
    "\n",
    "    Input: arr[] = [-7, 9, 8, 3, 1, 1], target = 2\n",
    "    Output: 2\n",
    "    Explanation: There is only one triplet present in the array where elements are -7,8,1 whose sum is 2.\n",
    "\n",
    "    Input: arr[] = [5, 2, 7, 5], target = 13\n",
    "    Output: 14\n",
    "    Explanation: There is one triplet with sum 12 and other with sum 14 in the array. Triplet elements are 5, 2, 5 and 2, 7, 5 respectively. Since abs(13-12) ==abs(13-14) maximum triplet sum will be preferred i.e 14."
   ]
  },
  {
   "cell_type": "code",
   "execution_count": 1,
   "metadata": {},
   "outputs": [
    {
     "name": "stdout",
     "output_type": "stream",
     "text": [
      "2\n",
      "14\n"
     ]
    }
   ],
   "source": [
    "def threeSumClosest(arr, target):\n",
    "    arr.sort()\n",
    "    closest_sum = float('inf')\n",
    "    \n",
    "    for i in range(len(arr) - 2):\n",
    "        left = i + 1\n",
    "        right = len(arr) - 1\n",
    "        \n",
    "        while left < right:\n",
    "            current_sum = arr[i] + arr[left] + arr[right]\n",
    "            \n",
    "            # Update the closest sum if the current sum is closer to the target\n",
    "            if abs(current_sum - target) < abs(closest_sum - target):\n",
    "                closest_sum = current_sum\n",
    "            # If the current sum is equally close, choose the maximum one\n",
    "            elif abs(current_sum - target) == abs(closest_sum - target):\n",
    "                closest_sum = max(closest_sum, current_sum)\n",
    "            \n",
    "            if current_sum < target:\n",
    "                left += 1\n",
    "            elif current_sum > target:\n",
    "                right -= 1\n",
    "            else:\n",
    "                # If the current sum is exactly the target, return the sum\n",
    "                return current_sum\n",
    "    \n",
    "    return closest_sum\n",
    "\n",
    "# Example usage:\n",
    "arr1 = [-7, 9, 8, 3, 1, 1]\n",
    "target1 = 2\n",
    "print(threeSumClosest(arr1, target1))  # Output: 2\n",
    "\n",
    "arr2 = [5, 2, 7, 5]\n",
    "target2 = 13\n",
    "print(threeSumClosest(arr2, target2))  # Output: 14\n"
   ]
  },
  {
   "cell_type": "markdown",
   "metadata": {},
   "source": [
    "### Largest square formed in a matrix (repeat)\n",
    "\n",
    "https://www.geeksforgeeks.org/problems/largest-square-formed-in-a-matrix0806/1\n",
    "\n",
    "Given a binary matrix mat of size n * m, find out the maximum length of a side of a square sub-matrix with all 1s.\n",
    "\n",
    "Examples:\n",
    "\n",
    "       Input: n = 6, m = 5\n",
    "       mat = [[0, 1, 1, 0, 1], \n",
    "              [1, 1, 0, 1, 0],\n",
    "              [0, 1, 1, 1, 0],\n",
    "              [1, 1, 1, 1, 0],\n",
    "              [1, 1, 1, 1, 1],\n",
    "              [0, 0, 0, 0, 0]]\n",
    "       Output: 3\n",
    "       Explanation: \n",
    "\n",
    "       The maximum length of a side of the square sub-matrix is 3 where every element is 1.\n",
    "       Input: n = 2, m = 2\n",
    "       mat = [[1, 1], \n",
    "              [1, 1]]\n",
    "       Output: 2\n",
    "       Explanation: The maximum length of a side of the square sub-matrix is 2. The matrix itself is the maximum sized sub-matrix in this case.\n",
    "       Input: n = 2, m = 2\n",
    "       mat = [[0, 0], \n",
    "              [0, 0]]\n",
    "       Output: 0\n",
    "       Explanation: There is no 1 in the matrix."
   ]
  },
  {
   "cell_type": "code",
   "execution_count": 4,
   "metadata": {},
   "outputs": [],
   "source": [
    "from typing import List\n",
    "\n",
    "\n",
    "class Solution:\n",
    "    def maxSquare(self, n : int, m : int, mat : List[List[int]]) -> int:\n",
    "        for m in mat:\n",
    "            p = -1\n",
    "            mp = -1\n",
    "            for i, k in enumerate(m):\n",
    "                if k == 1:\n",
    "                    p = i\n",
    "\n",
    "\n",
    "\n",
    "mat = [[0, 1, 1, 0, 1], \n",
    "       [1, 1, 0, 1, 0],\n",
    "       [0, 1, 1, 1, 0],\n",
    "       [1, 1, 1, 1, 0],\n",
    "       [1, 1, 1, 1, 1],\n",
    "       [0, 0, 0, 0, 0]]\n",
    "s = Solution()            \n",
    "s.maxSquare( n = 6, m = 5,mat=mat)"
   ]
  },
  {
   "cell_type": "code",
   "execution_count": 9,
   "metadata": {},
   "outputs": [
    {
     "name": "stdout",
     "output_type": "stream",
     "text": [
      "[0, 1, 1, 0, 1]\n",
      "[1, 1, 0, 1, 0]\n",
      "[0, 1, 1, 1, 1]\n",
      "[1, 1, 2, 2, 2]\n",
      "[1, 2, 2, 3, 3]\n",
      "[0, 0, 0, 0, 0]\n",
      "3\n",
      "[1, 1]\n",
      "[1, 2]\n",
      "2\n",
      "[0, 0]\n",
      "[0, 0]\n",
      "0\n"
     ]
    }
   ],
   "source": [
    "def maxSquareSubmatrixSide(n, m, mat):\n",
    "    # Edge case for empty matrix\n",
    "    if n == 0 or m == 0:\n",
    "        return 0\n",
    "\n",
    "    # Initialize a DP table with the same dimensions as the matrix\n",
    "    dp = [[0] * m for _ in range(n)]\n",
    "    max_side_length = 0\n",
    "\n",
    "    # Fill the DP table\n",
    "    for i in range(n):\n",
    "        for j in range(m):\n",
    "            if mat[i][j] == 1:\n",
    "                if i == 0 or j == 0:\n",
    "                    # On the first row or first column, max size of square is just the matrix element itself\n",
    "                    dp[i][j] = 1\n",
    "                else:\n",
    "                    # Fill dp[i][j] using the recurrence relation\n",
    "                    dp[i][j] = min(dp[i-1][j], dp[i][j-1], dp[i-1][j-1]) + 1\n",
    "                # Update the maximum length of a side of the square sub-matrix\n",
    "                max_side_length = max(max_side_length, dp[i][j])\n",
    "\n",
    "    [print(d) for d in dp]\n",
    "\n",
    "    return max_side_length\n",
    "\n",
    "# Example usage\n",
    "n1, m1 = 6, 5\n",
    "mat1 = [[0, 1, 1, 0, 1], \n",
    "        [1, 1, 0, 1, 0],\n",
    "        [0, 1, 1, 1, 1],\n",
    "        [1, 1, 1, 1, 1],\n",
    "        [1, 1, 1, 1, 1],\n",
    "        [0, 0, 0, 0, 0]]\n",
    "print(maxSquareSubmatrixSide(n1, m1, mat1))  # Output: 3\n",
    "\n",
    "n2, m2 = 2, 2\n",
    "mat2 = [[1, 1], \n",
    "        [1, 1]]\n",
    "print(maxSquareSubmatrixSide(n2, m2, mat2))  # Output: 2\n",
    "\n",
    "n3, m3 = 2, 2\n",
    "mat3 = [[0, 0], \n",
    "        [0, 0]]\n",
    "print(maxSquareSubmatrixSide(n3, m3, mat3))  # Output: 0\n"
   ]
  },
  {
   "cell_type": "markdown",
   "metadata": {},
   "source": [
    "### Binary representation\n",
    "\n",
    "https://www.geeksforgeeks.org/problems/binary-representation5003/1?page=1&difficulty=School&status=unsolved&sortBy=accuracy\n",
    "\n",
    "Write a program to print Binary representation of a given number N.\n",
    "\n",
    "Example 1:\n",
    "\n",
    "    Input:\n",
    "    N = 2\n",
    "    Output:\n",
    "    000000000000000000000000000010\n",
    "    Explanation:\n",
    "    The binary representation of 2 is '10'\n",
    "    but we need to print in 30 bits so append\n",
    "    remaining 0's in the left.\n",
    "\n",
    "Example 2:\n",
    "\n",
    "    Input:\n",
    "    N = 5\n",
    "    Output:\n",
    "    000000000000000000000000000101\n",
    "    Explanation:\n",
    "    The binary representation of 5 is '101'.\n",
    "\n",
    "Your Task:  \n",
    "    You don't need to read input or print anything. Your task is to complete the function getBinaryRep() which takes an Integer N as input parameter and returns a string of size 30 which is the binary representation of N.\n",
    "\n",
    "Expected Time Complexity: O(LogN)\n",
    "\n",
    "Expected Auxiliary Space: O(1)\n",
    "\n",
    "Constraints:\n",
    "\n",
    "1 ≤ N ≤ 10^9"
   ]
  },
  {
   "cell_type": "code",
   "execution_count": 16,
   "metadata": {},
   "outputs": [
    {
     "name": "stdout",
     "output_type": "stream",
     "text": [
      "------------------------10------------------------\n",
      "10----------------------------\n",
      "----------------------------10\n",
      "000000000000000000000000000010\n",
      "000000000000000000000000000101\n"
     ]
    }
   ],
   "source": [
    "class Solution:\n",
    "\tdef getBinaryRep(self, n):\n",
    "\t\t# code here\n",
    "\t\tpass\n",
    "\t\n",
    "s = '10'\n",
    "print(s.center(50,\"-\"))\n",
    "print(s.ljust(30, \"-\"))\n",
    "print(s.rjust(30, '-'))\n",
    "print(s.rjust(30, '0'))\n",
    "\n",
    "print(bin(5)[2:].rjust(30, '0'))"
   ]
  },
  {
   "cell_type": "markdown",
   "metadata": {},
   "source": [
    "### Cube root of a number\n",
    "\n",
    "https://www.geeksforgeeks.org/problems/cube-root-of-a-number0915/1?page=1&difficulty=School&status=unsolved&sortBy=accuracy\n",
    "\n",
    "Given a number N, find the cube root of N.\n",
    "\n",
    "Note: We need to print the floor value of the result.\n",
    "\n",
    " \n",
    "\n",
    "Example 1:\n",
    "\n",
    "    Input:\n",
    "    N = 3\n",
    "    Output:\n",
    "    1\n",
    "    Explanation:\n",
    "    Cube root of 3 is 1.442 = 1\n",
    "\n",
    "Example 2:\n",
    "\n",
    "    Input:\n",
    "    N = 8\n",
    "    Output:\n",
    "    2\n",
    "    Explanation:\n",
    "    Cube root of 8 is 2\n",
    " \n",
    "\n",
    "Your Task:\n",
    "\n",
    "You don't need to read input or print anything. Your task is to complete the function cubeRoot() which takes a Integer N as input and returns the answer.\n",
    "\n",
    " \n",
    "\n",
    "    Expected Time Complexity: O(cube root of N)\n",
    "    Expected Auxiliary Space: O(1)\n",
    "\n",
    " \n",
    "\n",
    "Constraints:\n",
    "\n",
    "1 <= N <= 105\n",
    "\n"
   ]
  },
  {
   "cell_type": "code",
   "execution_count": 18,
   "metadata": {},
   "outputs": [
    {
     "name": "stdout",
     "output_type": "stream",
     "text": [
      "1\n"
     ]
    }
   ],
   "source": [
    "from math import floor\n",
    "class Solution:\n",
    "    def cubeRoot(self, N):\n",
    "        return floor(pow(N, 1/3))\n",
    "    \n",
    "s = Solution()\n",
    "\n",
    "print(s.cubeRoot(3))"
   ]
  },
  {
   "cell_type": "markdown",
   "metadata": {},
   "source": [
    "### Kadane's Algorithm (repeat)\n",
    "\n",
    "https://www.geeksforgeeks.org/problems/kadanes-algorithm-1587115620/1?page=1&sortBy=submissions\n",
    "\n",
    "Given an integer array arr[]. Find the contiguous sub-array(containing at least one number) that has the maximum sum and return its sum.\n",
    "\n",
    "Examples:\n",
    "\n",
    "    Input: arr[] = [1, 2, 3, -2, 5]\n",
    "    Output: 9\n",
    "    Explanation: Max subarray sum is 9 of elements (1, 2, 3, -2, 5) which is a contiguous subarray.\n",
    "\n",
    "    Input: arr[] = [-1, -2, -3, -4]\n",
    "    Output: -1\n",
    "    Explanation: Max subarray sum is -1 of element (-1)\n",
    "\n",
    "    Input: arr[] = [5, 4, 7]\n",
    "    Output: 16\n",
    "\n",
    "    Explanation: Max subarray sum is 16 of element (5, 4, 7)\n",
    "\n",
    "- Expected Time Complexity: O(n)\n",
    "- Expected Auxiliary Space: O(1)\n",
    "\n",
    "Constraints:\n",
    "\n",
    "- -107 ≤ arr[i] ≤ 107\n",
    "- 1 ≤ arr.length ≤ 106\n"
   ]
  },
  {
   "cell_type": "code",
   "execution_count": 1,
   "metadata": {},
   "outputs": [
    {
     "name": "stdout",
     "output_type": "stream",
     "text": [
      "Maximum contiguous sum is 7\n"
     ]
    }
   ],
   "source": [
    "def GFG(a, size):\n",
    "    max_so_far = float('-inf')  \n",
    "    # Use float('-inf') instead of maxint\n",
    "    max_ending_here = 0\n",
    "    for i in range(0, size):\n",
    "        max_ending_here = max_ending_here + a[i]\n",
    "        if max_so_far < max_ending_here:\n",
    "            max_so_far = max_ending_here\n",
    "        if max_ending_here < 0:\n",
    "            max_ending_here = 0\n",
    "    return max_so_far\n",
    "# Driver function to check the above function\n",
    "a = [-2, -3, 4, -1, -2, 1, 5, -3]\n",
    "print(\"Maximum contiguous sum is\", GFG(a, len(a)))\n"
   ]
  },
  {
   "cell_type": "markdown",
   "metadata": {},
   "source": [
    "### Maximum Connected group\n",
    "\n",
    "https://www.geeksforgeeks.org/problems/maximum-connected-group/1\n",
    "\n",
    "You are given a square binary grid. A grid is considered binary if every value in the grid is either 1 or 0. You can change at most one cell in the grid from 0 to 1. You need to find the largest group of connected  1's. Two cells are said to be connected if both are adjacent(top, bottom, left, right) to each other and both have the same value.\n",
    "\n",
    "Examples :\n",
    "\n",
    "    Input: grid = [1, 1]\n",
    "                [0, 1]\n",
    "    Output: 4\n",
    "    Explanation: By changing cell (2,1), we can obtain a connected group of 4 1's\n",
    "    [1, 1]\n",
    "    [1, 1]\n",
    "    Input: grid = [1, 0, 1]\n",
    "                [1, 0, 1]\n",
    "                [1, 0, 1]\n",
    "    Output: 7\n",
    "    Explanation: By changing cell (3,2), we can obtain a connected group of 7 1's\n",
    "    [1, 0, 1]\n",
    "    [1, 0, 1]\n",
    "    [1, 1, 1]\n",
    "- Expected Time Complexity: O(n2)\n",
    "- Expected Auxiliary Space: O(n2)\n",
    "\n",
    "Constraints:\n",
    "- 1 <= size of the grid<= 500\n",
    "- 0 <= grid[i][j] <= 1"
   ]
  },
  {
   "cell_type": "code",
   "execution_count": 1,
   "metadata": {},
   "outputs": [
    {
     "name": "stdout",
     "output_type": "stream",
     "text": [
      "4\n",
      "7\n"
     ]
    }
   ],
   "source": [
    "def largest_connected_ones(grid):\n",
    "    n = len(grid)\n",
    "    visited = [[False] * n for _ in range(n)]\n",
    "    component_size = []\n",
    "    component_id = [[-1] * n for _ in range(n)]\n",
    "\n",
    "    def dfs(x, y, comp_id):\n",
    "        stack = [(x, y)]\n",
    "        size = 0\n",
    "        while stack:\n",
    "            cx, cy = stack.pop()\n",
    "            if visited[cx][cy]:\n",
    "                continue\n",
    "            visited[cx][cy] = True\n",
    "            component_id[cx][cy] = comp_id\n",
    "            size += 1\n",
    "            for dx, dy in [(-1, 0), (1, 0), (0, -1), (0, 1)]:\n",
    "                nx, ny = cx + dx, cy + dy\n",
    "                if 0 <= nx < n and 0 <= ny < n and not visited[nx][ny] and grid[nx][ny] == 1:\n",
    "                    stack.append((nx, ny))\n",
    "        return size\n",
    "\n",
    "    # Identify and label all components\n",
    "    comp_id = 0\n",
    "    for i in range(n):\n",
    "        for j in range(n):\n",
    "            if grid[i][j] == 1 and not visited[i][j]:\n",
    "                size = dfs(i, j, comp_id)\n",
    "                component_size.append(size)\n",
    "                comp_id += 1\n",
    "\n",
    "    max_connected = max(component_size, default=0)\n",
    "\n",
    "    # Evaluate each 0 cell for potential maximum component size\n",
    "    for i in range(n):\n",
    "        for j in range(n):\n",
    "            if grid[i][j] == 0:\n",
    "                neighboring_components = set()\n",
    "                for dx, dy in [(-1, 0), (1, 0), (0, -1), (0, 1)]:\n",
    "                    ni, nj = i + dx, j + dy\n",
    "                    if 0 <= ni < n and 0 <= nj < n and grid[ni][nj] == 1:\n",
    "                        neighboring_components.add(component_id[ni][nj])\n",
    "                \n",
    "                new_size = 1  # We change grid[i][j] from 0 to 1\n",
    "                for cid in neighboring_components:\n",
    "                    new_size += component_size[cid]\n",
    "                \n",
    "                max_connected = max(max_connected, new_size)\n",
    "\n",
    "    return max_connected\n",
    "\n",
    "# Example usage:\n",
    "grid1 = [\n",
    "    [1, 1],\n",
    "    [0, 1]\n",
    "]\n",
    "print(largest_connected_ones(grid1))  # Output: 4\n",
    "\n",
    "grid2 = [\n",
    "    [1, 0, 1],\n",
    "    [1, 0, 1],\n",
    "    [1, 0, 1]\n",
    "]\n",
    "print(largest_connected_ones(grid2))  # Output: 7\n"
   ]
  },
  {
   "cell_type": "code",
   "execution_count": null,
   "metadata": {},
   "outputs": [],
   "source": [
    "from typing import List\n",
    "\n",
    "\n",
    "class Solution:\n",
    "    def MaxConnection(self, grid : List[List[int]]) -> int:\n",
    "        n = len(grid)\n",
    "        visited = [[False] * n for _ in range(n)]\n",
    "        component_size = []\n",
    "        component_id = [[-1] * n for _ in range(n)]\n",
    "\n",
    "        def dfs(x, y, comp_id):\n",
    "            stack = [(x, y)]\n",
    "            size = 0\n",
    "            while stack:\n",
    "                cx, cy = stack.pop()\n",
    "                if visited[cx][cy]:\n",
    "                    continue\n",
    "                visited[cx][cy] = True\n",
    "                component_id[cx][cy] = comp_id\n",
    "                size += 1\n",
    "                for dx, dy in [(-1, 0), (1, 0), (0, -1), (0, 1)]:\n",
    "                    nx, ny = cx + dx, cy + dy\n",
    "                    if 0 <= nx < n and 0 <= ny < n and not visited[nx][ny] and grid[nx][ny] == 1:\n",
    "                        stack.append((nx, ny))\n",
    "            return size\n",
    "\n",
    "        # Identify and label all components\n",
    "        comp_id = 0\n",
    "        for i in range(n):\n",
    "            for j in range(n):\n",
    "                if grid[i][j] == 1 and not visited[i][j]:\n",
    "                    size = dfs(i, j, comp_id)\n",
    "                    component_size.append(size)\n",
    "                    comp_id += 1\n"
   ]
  },
  {
   "cell_type": "markdown",
   "metadata": {},
   "source": [
    "### Root to leaf path sum (repeat)\n",
    "\n",
    "https://www.geeksforgeeks.org/problems/root-to-leaf-path-sum/1\n",
    "\n",
    "Given a binary tree and an integer target, check whether there is a root-to-leaf path with its sum as target.\n",
    "\n",
    "Examples :\n",
    "\n",
    "    Input: tree = 1, target = 2\n",
    "                /   \\\n",
    "            2     3\n",
    "    Output: false\n",
    "    Explanation: There is no root to leaf path with sum 2.\n",
    "    Input: tree = 1,  target = 4\n",
    "                /   \\\n",
    "            2     3\n",
    "    Output: true\n",
    "    Explanation: The sum of path from leaf node 3 to root 1 is 4.\n",
    "    Expected Time Complexity: O(n)\n",
    "    Expected Auxiliary Space: O(height of tree)\n",
    "\n",
    "Constraints:\n",
    "- 1 ≤ number of nodes ≤ 104\n",
    "- 1 ≤ target ≤ 106"
   ]
  },
  {
   "cell_type": "code",
   "execution_count": 1,
   "metadata": {},
   "outputs": [
    {
     "name": "stdout",
     "output_type": "stream",
     "text": [
      "False\n",
      "True\n"
     ]
    }
   ],
   "source": [
    "class Node:\n",
    "    def __init__(self, val):\n",
    "        self.data = val\n",
    "        self.left = None\n",
    "        self.right = None\n",
    "\n",
    "class Solution:\n",
    "    def hasPathSum(self, root, target):\n",
    "        # Helper function to recursively check the path sum\n",
    "        def dfs(node, current_sum):\n",
    "            if not node:\n",
    "                return False\n",
    "            \n",
    "            current_sum += node.data\n",
    "            \n",
    "            # Check if it's a leaf node\n",
    "            if not node.left and not node.right:\n",
    "                return current_sum == target\n",
    "            \n",
    "            # Recursively check left and right subtrees\n",
    "            return dfs(node.left, current_sum) or dfs(node.right, current_sum)\n",
    "        \n",
    "        # Initialize the recursion\n",
    "        return dfs(root, 0)\n",
    "\n",
    "# Example usage:\n",
    "# Constructing the tree\n",
    "#         1\n",
    "#        / \\\n",
    "#       2   3\n",
    "root1 = Node(1)\n",
    "root1.left = Node(2)\n",
    "root1.right = Node(3)\n",
    "\n",
    "# Solution instance\n",
    "sol = Solution()\n",
    "\n",
    "# Test cases\n",
    "print(sol.hasPathSum(root1, 2))  # Output: False\n",
    "print(sol.hasPathSum(root1, 4))  # Output: True\n"
   ]
  },
  {
   "cell_type": "markdown",
   "metadata": {},
   "source": [
    "### Shortest Path in Weighted undirected graph (repat)\n",
    "\n",
    "https://www.geeksforgeeks.org/problems/shortest-path-in-weighted-undirected-graph/1\n",
    "\n",
    "Difficulty: MediumAccuracy: 50.0%Submissions: 45K+Points: 4\n",
    "You are given a weighted undirected graph having n vertices numbered from 1 to n and m edges along with their weights. Find the shortest path between the vertex 1 and the vertex n,  if there exists a path, and return a list of integers whose first element is the weight of the path, and the rest consist of the nodes on that path. If no path exists, then return a list containing a single element -1.\n",
    "\n",
    "The input list of edges is as follows - {a, b, w}, denoting there is an edge between a and b, and w is the weight of that edge.\n",
    "\n",
    "Note: The driver code here will first check if the weight of the path returned is equal to the sum of the weights along the nodes on that path, if equal it will output the weight of the path, else -2. In case the list contains only a single element (-1) it will simply output -1. \n",
    "\n",
    "Examples :\n",
    "\n",
    "    Input: n = 5, m= 6, edges = [[1, 2, 2], [2, 5, 5], [2, 3, 4], [1, 4, 1], [4, 3, 3], [3, 5, 1]]\n",
    "    Output: 5\n",
    "    Explanation: Shortest path from 1 to n is by the path 1 4 3 5 whose weight is 5. \n",
    "    Input: n = 2, m= 1, edges = [[1, 2, 2]]\n",
    "    Output: 2\n",
    "    Explanation: Shortest path from 1 to 2 is by the path 1 2 whose weight is 2. \n",
    "    Input: n = 2, m= 0, edges = [ ]\n",
    "    Output: -1\n",
    "    Explanation: Since there are no edges, so no answer is possible.\n",
    "    Expected Time Complexity: O(m* log(n))\n",
    "    Expected Space Complexity: O(n+m)\n",
    "\n",
    "Constraint:\n",
    "- 2 <= n <= 106\n",
    "- 0 <= m <= 106\n",
    "- 1 <= a, b <= n\n",
    "- 1 <= w <= 105"
   ]
  },
  {
   "cell_type": "code",
   "execution_count": 2,
   "metadata": {},
   "outputs": [
    {
     "name": "stdout",
     "output_type": "stream",
     "text": [
      "[5, 1, 4, 3, 5]\n"
     ]
    }
   ],
   "source": [
    "import heapq\n",
    "from collections import defaultdict, deque\n",
    "\n",
    "def shortest_path(n, m, edges):\n",
    "    # Step 1: Create the graph\n",
    "    graph = defaultdict(list)\n",
    "    for a, b, w in edges:\n",
    "        graph[a].append((b, w))\n",
    "        graph[b].append((a, w))\n",
    "    \n",
    "    # Step 2: Initialize the priority queue and distance array\n",
    "    pq = [(0, 1)]  # (distance, node)\n",
    "    distances = {i: float('inf') for i in range(1, n+1)}\n",
    "    distances[1] = 0\n",
    "    parent = {i: None for i in range(1, n+1)}\n",
    "    \n",
    "    while pq:\n",
    "        current_distance, current_node = heapq.heappop(pq)\n",
    "        \n",
    "        if current_distance > distances[current_node]:\n",
    "            continue\n",
    "        \n",
    "        for neighbor, weight in graph[current_node]:\n",
    "            distance = current_distance + weight\n",
    "            \n",
    "            if distance < distances[neighbor]:\n",
    "                distances[neighbor] = distance\n",
    "                parent[neighbor] = current_node\n",
    "                heapq.heappush(pq, (distance, neighbor))\n",
    "    \n",
    "    # Step 3: Reconstruct the path\n",
    "    if distances[n] == float('inf'):\n",
    "        return [-1]\n",
    "    \n",
    "    path = deque()\n",
    "    current_node = n\n",
    "    while current_node is not None:\n",
    "        path.appendleft(current_node)\n",
    "        current_node = parent[current_node]\n",
    "    \n",
    "    return [distances[n]] + list(path)\n",
    "\n",
    "# Example usage\n",
    "n = 5\n",
    "m = 6\n",
    "edges = [\n",
    "    [1, 2, 2],\n",
    "    [2, 5, 5],\n",
    "    [2, 3, 4],\n",
    "    [1, 4, 1],\n",
    "    [4, 3, 3],\n",
    "    [3, 5, 1]\n",
    "]\n",
    "\n",
    "print(shortest_path(n, m, edges))  # Output: [5, 1, 4, 3, 5]\n"
   ]
  },
  {
   "cell_type": "code",
   "execution_count": 3,
   "metadata": {},
   "outputs": [
    {
     "name": "stdout",
     "output_type": "stream",
     "text": [
      "[5, 1, 4, 3, 5]\n"
     ]
    }
   ],
   "source": [
    "from typing import List\n",
    "import heapq\n",
    "from collections import defaultdict, deque\n",
    "\n",
    "class Solution:\n",
    "    def shortestPath(self, n: int, m: int, edges: List[List[int]]) -> List[int]:\n",
    "        # Step 1: Create the graph\n",
    "        graph = defaultdict(list)\n",
    "        for a, b, w in edges:\n",
    "            graph[a].append((b, w))\n",
    "            graph[b].append((a, w))\n",
    "        \n",
    "        # Step 2: Initialize the priority queue and distance array\n",
    "        pq = [(0, 1)]  # (distance, node)\n",
    "        distances = {i: float('inf') for i in range(1, n+1)}\n",
    "        distances[1] = 0\n",
    "        parent = {i: None for i in range(1, n+1)}\n",
    "        \n",
    "        while pq:\n",
    "            current_distance, current_node = heapq.heappop(pq)\n",
    "            \n",
    "            if current_distance > distances[current_node]:\n",
    "                continue\n",
    "            \n",
    "            for neighbor, weight in graph[current_node]:\n",
    "                distance = current_distance + weight\n",
    "                \n",
    "                if distance < distances[neighbor]:\n",
    "                    distances[neighbor] = distance\n",
    "                    parent[neighbor] = current_node\n",
    "                    heapq.heappush(pq, (distance, neighbor))\n",
    "        \n",
    "        # Step 3: Reconstruct the path\n",
    "        if distances[n] == float('inf'):\n",
    "            return [-1]\n",
    "        \n",
    "        path = deque()\n",
    "        current_node = n\n",
    "        while current_node is not None:\n",
    "            path.appendleft(current_node)\n",
    "            current_node = parent[current_node]\n",
    "        \n",
    "        return [distances[n]] + list(path)\n",
    "\n",
    "# Example usage\n",
    "solution = Solution()\n",
    "n = 5\n",
    "m = 6\n",
    "edges = [\n",
    "    [1, 2, 2],\n",
    "    [2, 5, 5],\n",
    "    [2, 3, 4],\n",
    "    [1, 4, 1],\n",
    "    [4, 3, 3],\n",
    "    [3, 5, 1]\n",
    "]\n",
    "\n",
    "print(solution.shortestPath(n, m, edges))  # Output: [5, 1, 4, 3, 5]\n"
   ]
  },
  {
   "cell_type": "markdown",
   "metadata": {},
   "source": [
    "### Segregate 0s and 1s (repeat)\n",
    "\n",
    "https://www.geeksforgeeks.org/problems/segregate-0s-and-1s5106/1\n",
    "\n",
    "Given an array arr consisting of only 0's and 1's in random order. Modify the array in-place to segregate 0s onto the left side and 1s onto the right side of the array.\n",
    "\n",
    "Examples :\n",
    "\n",
    "    Input: arr[] = [0, 0, 1, 1, 0]\n",
    "    Output: [0, 0, 0, 1, 1]\n",
    "    Explanation:  After segregation, all the 0's are on the left and 1's are on the right. Modified array will be [0, 0, 0, 1, 1].\n",
    "    Input: arr[] = [1, 1, 1, 1]\n",
    "    Output: [1, 1, 1, 1]\n",
    "    Explanation: There are no 0s in the given array, so the modified array is [1, 1, 1, 1]\n",
    "    Expected Time Complexity: O(n)\n",
    "    Expected Auxiliary Space: O(1)\n",
    "\n",
    "Constraints:\n",
    "- 1 ≤ arr.size() ≤ 106\n",
    "- 0 ≤ arr[i] ≤ 1"
   ]
  },
  {
   "cell_type": "code",
   "execution_count": 18,
   "metadata": {},
   "outputs": [
    {
     "name": "stdout",
     "output_type": "stream",
     "text": [
      "i: 0\n",
      "i: 0\n",
      "i: 1\n",
      "j: 3: 1, 3\n",
      "[0, 0, 0, 1, 1]\n",
      "i: 1\n",
      "j: 1: 1, 4\n",
      "j: 2: 1, 4\n",
      "j: 3: 1, 4\n",
      "i: 1\n",
      "j: 2: 1, 3\n",
      "j: 3: 1, 3\n",
      "i: 1\n",
      "j: 3: 1, 2\n",
      "i: 1\n",
      "[1, 1, 1, 1]\n",
      "i: 1\n",
      "j: 1: 1, 4\n",
      "j: 2: 1, 4\n",
      "[0, 1, 1, 1]\n"
     ]
    }
   ],
   "source": [
    "class Solution:\n",
    "    def segregate0and1(self, arr):\n",
    "        for i in range(len(arr)):\n",
    "            print(f'i: {arr[i]}')\n",
    "            if arr[i] == 1:\n",
    "                f = False\n",
    "                for j in range(i+1, len(arr)):\n",
    "                    if arr[j]==0:\n",
    "                        arr[i], arr[j] =  arr[j], arr[i]\n",
    "                        f = True\n",
    "                        break\n",
    "                    print(f'j: {j}: {arr[j]}, {len(arr[i:])}')\n",
    "                if f:\n",
    "                    break\n",
    "        \n",
    "        return arr\n",
    "\n",
    "\n",
    "s = Solution()\n",
    "print(s.segregate0and1([0,0,1,1,0]))\n",
    "print(s.segregate0and1([1,1,1,1]))\n",
    "print(s.segregate0and1([1,1,1,0]))"
   ]
  },
  {
   "cell_type": "code",
   "execution_count": 19,
   "metadata": {},
   "outputs": [
    {
     "name": "stdout",
     "output_type": "stream",
     "text": [
      "[0, 0, 0, 1, 1]\n",
      "[1, 1, 1, 1]\n"
     ]
    }
   ],
   "source": [
    "def segregate0sAnd1s(arr):\n",
    "    left = 0\n",
    "    right = len(arr) - 1\n",
    "    \n",
    "    while left < right:\n",
    "        # Increment left index while we see 0 at left\n",
    "        while left < right and arr[left] == 0:\n",
    "            left += 1\n",
    "        \n",
    "        # Decrement right index while we see 1 at right\n",
    "        while left < right and arr[right] == 1:\n",
    "            right -= 1\n",
    "        \n",
    "        # If left is smaller than right then there is a 1 at left\n",
    "        # and a 0 at right. Exchange arr[left] and arr[right]\n",
    "        if left < right:\n",
    "            arr[left], arr[right] = arr[right], arr[left]\n",
    "            left += 1\n",
    "            right -= 1\n",
    "\n",
    "# Example usage:\n",
    "arr1 = [0, 0, 1, 1, 0]\n",
    "segregate0sAnd1s(arr1)\n",
    "print(arr1)  # Output: [0, 0, 0, 1, 1]\n",
    "\n",
    "arr2 = [1, 1, 1, 1]\n",
    "segregate0sAnd1s(arr2)\n",
    "print(arr2)  # Output: [1, 1, 1, 1]\n"
   ]
  },
  {
   "cell_type": "code",
   "execution_count": null,
   "metadata": {},
   "outputs": [],
   "source": []
  }
 ],
 "metadata": {
  "kernelspec": {
   "display_name": "Python 3",
   "language": "python",
   "name": "python3"
  },
  "language_info": {
   "codemirror_mode": {
    "name": "ipython",
    "version": 3
   },
   "file_extension": ".py",
   "mimetype": "text/x-python",
   "name": "python",
   "nbconvert_exporter": "python",
   "pygments_lexer": "ipython3",
   "version": "3.11.5"
  }
 },
 "nbformat": 4,
 "nbformat_minor": 2
}
